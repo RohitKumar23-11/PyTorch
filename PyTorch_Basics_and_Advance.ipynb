{
 "cells": [
  {
   "cell_type": "markdown",
   "id": "feafc7b0-bd32-4cd9-b76f-dd24cc6b803c",
   "metadata": {},
   "source": [
    "# What is Pytorch\n",
    "\n",
    "**_PyTorch is an open-source machine learning library for Python developed by Facebook's AI Research Lab (FAIR). We widely use it for deep learning models and conducting research in fields like computer vision, natural language processing, and reinforcement learning._**\n",
    "\n",
    "### Why use PyTorch?\n",
    "**It supports tensor computation: _Tensor_ is the data structure that is similar to the networks, an array. It is an n-dimensional array that contains the data.**\n",
    "\n",
    "**It provides Dynamic Graph Computation: This feature allows us to define the computational graphs dynamically during runtime.**\n",
    "\n",
    "**It provides Automatic differentiation: The Autograd package automatically computes the gradients that are crucial for training the model using an optimization algorithm.**\n",
    "\n",
    "**It has support for Python: It has native support for the Python programming language.**\n",
    "\n",
    "**It has its production environment: PyTorch has TorchScript, which is a high-performance environment for serializing and executing PyTorch models.**"
   ]
  },
  {
   "cell_type": "markdown",
   "id": "3c133a40-94ae-4baf-9d6f-56b0870516fa",
   "metadata": {},
   "source": [
    "# Installing PyTorch with Cuda and without Cuda"
   ]
  },
  {
   "cell_type": "code",
   "execution_count": 1,
   "id": "85f322bc-085f-4bf8-8f6c-ecbffad9a774",
   "metadata": {},
   "outputs": [],
   "source": [
    "#pip3 install torch torchvision --index-url https://download.pytorch.org/whl/cu126\n",
    "#pip3 install torch torchvision"
   ]
  },
  {
   "cell_type": "markdown",
   "id": "b8a0a63d-f8cb-4629-82d7-6e748fdf53c0",
   "metadata": {},
   "source": [
    "## Importing Pytorch and checking GPU is available or not"
   ]
  },
  {
   "cell_type": "code",
   "execution_count": 2,
   "id": "9aa81f20-5662-40ea-82a3-e5cccf4f7ab4",
   "metadata": {},
   "outputs": [],
   "source": [
    "import torch"
   ]
  },
  {
   "cell_type": "code",
   "execution_count": 3,
   "id": "759bb2ba-eafe-401f-b1a8-51da3804b782",
   "metadata": {},
   "outputs": [
    {
     "name": "stdout",
     "output_type": "stream",
     "text": [
      "GPU is available!\n"
     ]
    }
   ],
   "source": [
    "if torch.cuda.is_available():\n",
    "    print(\"GPU is available!\")\n",
    "else:\n",
    "    print(\"GPU is NOT available. PyTorch will use CPU.\")"
   ]
  },
  {
   "cell_type": "markdown",
   "id": "3940e327-0936-4136-9a5d-fa1cc74b2204",
   "metadata": {},
   "source": [
    "## Python Tensors: Creation, Manipulation, and Operations\n",
    "\n",
    "**_The basic building block of PyTorch is the Tensors, which are data structures similar to the NumPy Arrays._**"
   ]
  },
  {
   "cell_type": "code",
   "execution_count": 4,
   "id": "6f0ed798-e7c2-43bb-86e4-85d80137c7d1",
   "metadata": {},
   "outputs": [
    {
     "name": "stdout",
     "output_type": "stream",
     "text": [
      "tensor([[0., 0., 0.],\n",
      "        [0., 0., 0.],\n",
      "        [0., 0., 0.],\n",
      "        [0., 0., 0.],\n",
      "        [0., 0., 0.]])\n",
      "torch.float32\n"
     ]
    }
   ],
   "source": [
    "# few ways to create tensors\n",
    "import torch\n",
    "z = torch.zeros(5, 3)\n",
    "print(z)\n",
    "print(z.dtype)"
   ]
  },
  {
   "cell_type": "code",
   "execution_count": 5,
   "id": "8df7fcfe-73eb-442a-8520-baeecb0a5b8e",
   "metadata": {},
   "outputs": [
    {
     "name": "stdout",
     "output_type": "stream",
     "text": [
      "tensor([[1, 1, 1],\n",
      "        [1, 1, 1],\n",
      "        [1, 1, 1],\n",
      "        [1, 1, 1],\n",
      "        [1, 1, 1]], dtype=torch.int16)\n"
     ]
    }
   ],
   "source": [
    "# for integers\n",
    "i = torch.ones((5, 3), dtype=torch.int16)\n",
    "print(i)"
   ]
  },
  {
   "cell_type": "code",
   "execution_count": 6,
   "id": "55700ab5-61a1-42b2-ad24-444e47b72d3c",
   "metadata": {},
   "outputs": [
    {
     "name": "stdout",
     "output_type": "stream",
     "text": [
      "A random tensor:\n",
      "tensor([[0.8823, 0.9150],\n",
      "        [0.3829, 0.9593]])\n",
      "\n",
      "A different random tensor:\n",
      "tensor([[0.3904, 0.6009],\n",
      "        [0.2566, 0.7936]])\n",
      "\n",
      "Should match r1:\n",
      "tensor([[0.8823, 0.9150],\n",
      "        [0.3829, 0.9593]])\n"
     ]
    }
   ],
   "source": [
    "# It's common to initialize learning weights randomly, often with a specific seed for \n",
    "# the PRNG for reproducibility of results.\n",
    "torch.manual_seed(42)\n",
    "r1 = torch.rand(2, 2)\n",
    "print(\"A random tensor:\")\n",
    "print(r1)\n",
    "\n",
    "r2 = torch.rand(2, 2)\n",
    "print(\"\\nA different random tensor:\")\n",
    "print(r2) # new values\n",
    "\n",
    "torch.manual_seed(42)\n",
    "r3 = torch.rand(2, 2)\n",
    "print(\"\\nShould match r1:\")\n",
    "print(r3) # repeats values of r1 because of re-seed"
   ]
  },
  {
   "cell_type": "markdown",
   "id": "e8f7cb1b-01f1-4f7c-810a-e5d7aa59dd4f",
   "metadata": {},
   "source": [
    "### Performing Operations on Tensors"
   ]
  },
  {
   "cell_type": "code",
   "execution_count": 7,
   "id": "f7ccf46d-8db9-4744-8c58-d73f758612ad",
   "metadata": {},
   "outputs": [
    {
     "name": "stdout",
     "output_type": "stream",
     "text": [
      "Tensor from list: tensor([1, 2, 3])\n",
      "\n",
      "tensor of zeros: tensor([[0., 0., 0.],\n",
      "        [0., 0., 0.]])\n",
      "\n",
      "Random tensor: tensor([[0.3904, 0.6009],\n",
      "        [0.2566, 0.7936],\n",
      "        [0.9408, 0.1332]])\n"
     ]
    }
   ],
   "source": [
    "# Creating a tensor from a list\n",
    "t1 = torch.tensor([1, 2, 3])\n",
    "print(\"Tensor from list:\", t1)\n",
    "\n",
    "# Create a tensor of zeros with shape (2, 3)\n",
    "t2 = torch.zeros(2, 3)\n",
    "print(\"\\ntensor of zeros:\", t2)\n",
    "\n",
    "# Create a random tensor with shape (3, 2)\n",
    "t3 = torch.rand(3, 2)\n",
    "print(\"\\nRandom tensor:\", t3)"
   ]
  },
  {
   "cell_type": "code",
   "execution_count": 8,
   "id": "7557c1b2-39c3-429f-9f0e-cdd7ced0ef63",
   "metadata": {},
   "outputs": [
    {
     "name": "stdout",
     "output_type": "stream",
     "text": [
      "Addition result: tensor([[1., 2., 3.],\n",
      "        [1., 2., 3.]])\n",
      "\n",
      "Multiplication result: tensor([[0., 0., 0.],\n",
      "        [0., 0., 0.]])\n",
      "\n",
      "Matrix multiplication result: tensor([[0., 0.],\n",
      "        [0., 0.]])\n"
     ]
    }
   ],
   "source": [
    "# Performing operations on Tensors\n",
    "\n",
    "### Addition\n",
    "result_add = t1 + t2\n",
    "print(\"Addition result:\", result_add)\n",
    "\n",
    "### Multiplication\n",
    "result_mul = t2 * 5\n",
    "print(\"\\nMultiplication result:\", result_mul)\n",
    "\n",
    "### Matrix multiplication\n",
    "result_matmul = torch.matmul(t2, t3)\n",
    "print(\"\\nMatrix multiplication result:\", result_matmul)"
   ]
  },
  {
   "cell_type": "code",
   "execution_count": 9,
   "id": "e89c7ff1-a9c3-4bec-9c97-465c4e01e988",
   "metadata": {},
   "outputs": [
    {
     "name": "stdout",
     "output_type": "stream",
     "text": [
      "tensor([[0.9346, 0.5936, 0.8694],\n",
      "        [0.5677, 0.7411, 0.4294]])\n",
      "\n",
      " tensor([[0.8854, 0.5739],\n",
      "        [0.2666, 0.6274],\n",
      "        [0.2696, 0.4414]])\n"
     ]
    }
   ],
   "source": [
    "r1 = torch.rand(2, 3)\n",
    "print(r1)\n",
    "r2 = torch.rand(3, 2)\n",
    "print(\"\\n\", r2)\n",
    "# uncomment the below line to get a runtime error\n",
    "# r3 = r1 + r2"
   ]
  },
  {
   "cell_type": "markdown",
   "id": "75b4aedf-4567-452a-99ee-9b7ea0f4e1b3",
   "metadata": {},
   "source": [
    "### Here are some more mathematical operations available in PyTorch"
   ]
  },
  {
   "cell_type": "code",
   "execution_count": 10,
   "id": "d2849d84-0cd3-444d-9114-f2b5759c23c4",
   "metadata": {},
   "outputs": [
    {
     "name": "stdout",
     "output_type": "stream",
     "text": [
      "A random matrix tensor([[-0.4062,  0.6634],\n",
      "        [-0.7894, -0.4610]])\n",
      "\n",
      "Absolute value of r:\n",
      "tensor([[0.4062, 0.6634],\n",
      "        [0.7894, 0.4610]])\n",
      "\n",
      "Inverse sine of r:\n",
      "tensor([[-0.4182,  0.7253],\n",
      "        [-0.9098, -0.4791]])\n",
      "\n",
      "Determinant of r:\n",
      "tensor(0.7109)\n",
      "\n",
      "Singular value decomposition of r:\n",
      "torch.return_types.svd(\n",
      "U=tensor([[-0.0637, -0.9980],\n",
      "        [-0.9980,  0.0637]]),\n",
      "S=tensor([0.9146, 0.7772]),\n",
      "V=tensor([[ 0.8896,  0.4568],\n",
      "        [ 0.4568, -0.8896]]))\n",
      "\n",
      "Average and standard deviation of r:\n",
      "(tensor(0.6309), tensor(-0.2483))\n",
      "\n",
      "Maximum value of r:\n",
      "tensor(0.6634)\n"
     ]
    }
   ],
   "source": [
    "r = (torch.rand(2, 2) - 0.5) * 2 # values between -1 and 1\n",
    "print(\"A random matrix\", r)\n",
    "\n",
    "# Common mathematical operations are supported:\n",
    "print(\"\\nAbsolute value of r:\")\n",
    "print(torch.abs(r))\n",
    "\n",
    "# As trigonometric functions:\n",
    "print(\"\\nInverse sine of r:\")\n",
    "print(torch.asin(r))\n",
    "\n",
    "# linear algebra operations like determinant and singular value decomposition\n",
    "print(\"\\nDeterminant of r:\")\n",
    "print(torch.det(r))\n",
    "print(\"\\nSingular value decomposition of r:\")\n",
    "print(torch.svd(r))\n",
    "\n",
    "# Statistical and aggregate operations:\n",
    "print(\"\\nAverage and standard deviation of r:\")\n",
    "print(torch.std_mean(r))\n",
    "print(\"\\nMaximum value of r:\")\n",
    "print(torch.max(r))"
   ]
  },
  {
   "cell_type": "markdown",
   "id": "144ccdb9-8161-40de-9531-64678be4836a",
   "metadata": {},
   "source": [
    "### Reshaping a Tensor in PyTorch\n",
    "\n",
    "**_Reshaping allows us to change the shape with the same data and number of elements as the original array, but with the specified shape. This means it returns the same data as the specified array, but with different specified dimension sizes._**"
   ]
  },
  {
   "cell_type": "code",
   "execution_count": 11,
   "id": "3c66ecca-7813-459a-9ebe-223a36fd7f85",
   "metadata": {},
   "outputs": [
    {
     "name": "stdout",
     "output_type": "stream",
     "text": [
      "torch.Size([8])\n"
     ]
    },
    {
     "data": {
      "text/plain": [
       "tensor([1, 2, 3, 4, 5, 6, 7, 8])"
      ]
     },
     "execution_count": 11,
     "metadata": {},
     "output_type": "execute_result"
    }
   ],
   "source": [
    "# Creating an 1D etnsor with 8 elements\n",
    "a = torch.tensor([1, 2, 3, 4, 5, 6, 7, 8])\n",
    "\n",
    "# display tensor shape\n",
    "print(a.shape)\n",
    "\n",
    "# display tensor\n",
    "a"
   ]
  },
  {
   "cell_type": "markdown",
   "id": "abbd3319-e2ee-4f57-922c-aa65d2ccf940",
   "metadata": {},
   "source": [
    "#### Method1: Using reshape() method\n",
    "**This method is used to reshape the given tensor into a given shape (change the dimension)**\n",
    "* _syntax:_\n",
    "tensor.reshape([row, column])"
   ]
  },
  {
   "cell_type": "code",
   "execution_count": 12,
   "id": "ea0a6987-3cfb-4eef-918b-025511a155c4",
   "metadata": {},
   "outputs": [
    {
     "name": "stdout",
     "output_type": "stream",
     "text": [
      "tensor([[1, 2],\n",
      "        [3, 4],\n",
      "        [5, 6],\n",
      "        [7, 8]])\n",
      "torch.Size([8])\n"
     ]
    }
   ],
   "source": [
    "# Reshaping the previous tensor a into 4 rows and 2 columns\n",
    "print(a.reshape([4, 2]))\n",
    "\n",
    "# Display shape of reshaped tensor\n",
    "print(a.shape)"
   ]
  },
  {
   "cell_type": "markdown",
   "id": "189e5e32-8343-46bf-9c2d-98262ff56f16",
   "metadata": {},
   "source": [
    "#### Method2: Using flatten() method\n",
    "\n",
    "**flatten() is used to flatten an N-Dimensional tensor to a 1D Tensor.**\n",
    "\n",
    "* _syntex:_ torch.flatten(tensor)"
   ]
  },
  {
   "cell_type": "code",
   "execution_count": 13,
   "id": "5df8ebc3-43f4-4098-8c43-9752251eb09c",
   "metadata": {},
   "outputs": [
    {
     "name": "stdout",
     "output_type": "stream",
     "text": [
      "tensor([[1, 2, 3, 4, 5, 6, 7, 8],\n",
      "        [1, 2, 3, 4, 5, 6, 7, 8]])\n",
      "tensor([1, 2, 3, 4, 5, 6, 7, 8, 1, 2, 3, 4, 5, 6, 7, 8])\n"
     ]
    }
   ],
   "source": [
    "a = torch.tensor([[1, 2, 3, 4, 5, 6, 7, 8],\n",
    "                  [1, 2, 3, 4, 5, 6, 7, 8]])\n",
    "\n",
    "# Display actual tensor\n",
    "print(a)\n",
    "\n",
    "# flatten a tensor with flatten() function\n",
    "print(torch.flatten(a))"
   ]
  },
  {
   "cell_type": "markdown",
   "id": "02fed08b-e81f-435f-8112-7f9267cd731b",
   "metadata": {},
   "source": [
    "#### Method3: Using view() method\n",
    "\n",
    "**view() is used to change the tensor in a two-dimensional format IE rows and columns. We have to specify the number of rows and the number of columns to be viewed.**\n",
    "\n",
    "* _Syntax:_ tensor.view(no_of_rows, no_of_columns)"
   ]
  },
  {
   "cell_type": "code",
   "execution_count": 14,
   "id": "d375afdf-51d8-486e-9f71-a37b22a39c8a",
   "metadata": {},
   "outputs": [
    {
     "name": "stdout",
     "output_type": "stream",
     "text": [
      "\n",
      " tensor([[24., 56., 10.],\n",
      "        [20., 30., 40.],\n",
      "        [50.,  1.,  2.],\n",
      "        [ 3.,  4.,  5.]])\n",
      "\n",
      " tensor([[24., 56., 10., 20.],\n",
      "        [30., 40., 50.,  1.],\n",
      "        [ 2.,  3.,  4.,  5.]])\n"
     ]
    }
   ],
   "source": [
    "# Create a one-dimensional tensor with 12 elements\n",
    "a = torch.FloatTensor([24, 56, 10, 20, 30,\n",
    "                       40, 50, 1, 2, 3, 4, 5])\n",
    "\n",
    "# view tensor in 4 rows and 3 columns\n",
    "print(\"\\n\",a.view(4, 3))\n",
    "\n",
    "# view tensor in 3 rows and 4 columns\n",
    "print(\"\\n\",a.view(3, 4))"
   ]
  },
  {
   "cell_type": "markdown",
   "id": "b5f0e9a7-8f70-4d1f-95f9-4748b5e5d2d7",
   "metadata": {},
   "source": [
    "#### Method4: Using resize() method\n",
    "\n",
    "**This is used to resize the dimensions of the given tensor.**\n",
    "\n",
    "* _Syntax:_ tensor.resize_(no_of_tensors, no_of_rows, no_of_columns)"
   ]
  },
  {
   "cell_type": "code",
   "execution_count": 15,
   "id": "d1d7b1c2-80af-4eec-bc4e-158f2381e86e",
   "metadata": {},
   "outputs": [
    {
     "name": "stdout",
     "output_type": "stream",
     "text": [
      "tensor([[[9.0604e+09, 1.8343e-42, 0.0000e+00, 0.0000e+00, 0.0000e+00],\n",
      "         [0.0000e+00, 0.0000e+00, 0.0000e+00, 0.0000e+00, 0.0000e+00],\n",
      "         [0.0000e+00, 0.0000e+00, 0.0000e+00, 0.0000e+00, 0.0000e+00],\n",
      "         [0.0000e+00, 0.0000e+00, 0.0000e+00, 0.0000e+00, 0.0000e+00]],\n",
      "\n",
      "        [[0.0000e+00, 0.0000e+00, 0.0000e+00, 0.0000e+00, 0.0000e+00],\n",
      "         [0.0000e+00, 0.0000e+00, 0.0000e+00, 0.0000e+00, 0.0000e+00],\n",
      "         [0.0000e+00, 0.0000e+00, 0.0000e+00, 0.0000e+00, 0.0000e+00],\n",
      "         [0.0000e+00, 0.0000e+00, 0.0000e+00, 0.0000e+00, 0.0000e+00]],\n",
      "\n",
      "        [[0.0000e+00, 0.0000e+00, 0.0000e+00, 0.0000e+00, 0.0000e+00],\n",
      "         [0.0000e+00, 0.0000e+00, 0.0000e+00, 0.0000e+00, 0.0000e+00],\n",
      "         [0.0000e+00, 0.0000e+00, 0.0000e+00, 0.0000e+00, 0.0000e+00],\n",
      "         [0.0000e+00, 0.0000e+00, 0.0000e+00, 0.0000e+00, 0.0000e+00]],\n",
      "\n",
      "        [[0.0000e+00, 0.0000e+00, 0.0000e+00, 0.0000e+00, 0.0000e+00],\n",
      "         [0.0000e+00, 0.0000e+00, 0.0000e+00, 0.0000e+00, 0.0000e+00],\n",
      "         [0.0000e+00, 0.0000e+00, 0.0000e+00, 0.0000e+00, 0.0000e+00],\n",
      "         [0.0000e+00, 0.0000e+00, 0.0000e+00, 0.0000e+00, 0.0000e+00]]])\n"
     ]
    }
   ],
   "source": [
    "# Create one dimensional tensor\n",
    "a = torch.Tensor()\n",
    "\n",
    "# resize the tensor to 4 tensors.\n",
    "# each tensor with 4 rows and 5 columns\n",
    "print(a.resize_(4, 4, 5))"
   ]
  },
  {
   "cell_type": "markdown",
   "id": "09519395-96cd-487f-b479-6b221240a0a7",
   "metadata": {},
   "source": [
    "#### Method5: Using unsqueeze() method\n",
    "\n",
    "**This is used to reshape a tensor by adding new dimensions at a given position.**\n",
    "\n",
    "* _Syntax:_ tensor.unsqueeze(position)"
   ]
  },
  {
   "cell_type": "code",
   "execution_count": 16,
   "id": "2a7b15d7-726d-432f-b26a-817db283a3c2",
   "metadata": {},
   "outputs": [
    {
     "name": "stdout",
     "output_type": "stream",
     "text": [
      "torch.Size([2, 2])\n",
      "\n",
      " torch.Size([1, 2, 2])\n"
     ]
    }
   ],
   "source": [
    "# create two dimensional tensor\n",
    "a = torch.Tensor([[2, 3], [1, 2]])\n",
    "\n",
    "# display shape\n",
    "print(a.shape)\n",
    "\n",
    "# add dimension at 0 position\n",
    "added = a.unsqueeze(0)\n",
    "\n",
    "print(\"\\n\",added.shape)"
   ]
  },
  {
   "cell_type": "markdown",
   "id": "8d8735fd-05c0-43ec-9d1d-e5799906f622",
   "metadata": {},
   "source": [
    "### Indexing in PyTorch Tensors\n",
    "\n",
    "**_Tensor indexing is the process of selecting specific elements or subsets of a tensor based on their position or values._**\n",
    "\n",
    "#### Integer indexing\n",
    "\n",
    "**It is the most basic form of tensor indexing that allows us to select specific elements of a tensor using their integer position along each dimension.**"
   ]
  },
  {
   "cell_type": "code",
   "execution_count": 17,
   "id": "83091889-e132-4332-935c-cfb0be783c60",
   "metadata": {},
   "outputs": [
    {
     "name": "stdout",
     "output_type": "stream",
     "text": [
      "tensor(8)\n",
      "\n",
      " tensor([[2, 3, 4],\n",
      "        [6, 7, 8]])\n"
     ]
    }
   ],
   "source": [
    "# Create a 2D tensor of size (3, 4)\n",
    "x = torch.tensor([[1, 2, 3, 4],\n",
    "                  [5, 6, 7, 8],\n",
    "                  [9, 10, 20, 30]])\n",
    "\n",
    "# Select the element at position (1, 3)\n",
    "print(x[1, 3]) # ouput: tensor(8)\n",
    "\n",
    "# select the sub-tensor of size (2, 3) starting at position (0, 1)\n",
    "print(\"\\n\",x[0:2,  1:4]) # output: tensor([[2, 3, 4], [6, 7, 8]])"
   ]
  },
  {
   "cell_type": "markdown",
   "id": "8a215c7f-c244-4afb-96d5-afbf1dbabb0e",
   "metadata": {},
   "source": [
    "#### Boolean Indexing\n",
    "\n",
    "**_Boolean indexing allows us to select specific elements of a tensor based on a boolean condition._**"
   ]
  },
  {
   "cell_type": "code",
   "execution_count": 18,
   "id": "74269436-089b-4469-9a87-e6b55b10c562",
   "metadata": {},
   "outputs": [
    {
     "name": "stdout",
     "output_type": "stream",
     "text": [
      "tensor([4, 5])\n",
      "\n",
      " tensor([0, 2, 0, 4, 0])\n"
     ]
    }
   ],
   "source": [
    "# Creating a 1D tensor of size 5\n",
    "x = torch.tensor([1, 2, 3, 4, 5])\n",
    "\n",
    "# Select the elements that are greater than 3\n",
    "print(x[x > 3]) # output: tensor([4, 5])\n",
    "\n",
    "# mask out the elements that are not even\n",
    "x[x % 2 != 0] = 0\n",
    "print(\"\\n\", x) # ouput: tensor([0, 2, 0, 4, 0])"
   ]
  },
  {
   "cell_type": "markdown",
   "id": "8f252933-44ee-4d7a-b2c2-2f866dd39910",
   "metadata": {},
   "source": [
    "#### Advanced Indexing\n",
    "\n",
    "**_Advanced indexing allows us to select specific elements of a tensor using a combination of integer indexing, boolean indexing, and other advanced indexing schemes._**\n"
   ]
  },
  {
   "cell_type": "code",
   "execution_count": 19,
   "id": "1a224aef-76c8-4012-af94-9b2d70e7a746",
   "metadata": {},
   "outputs": [
    {
     "name": "stdout",
     "output_type": "stream",
     "text": [
      "tensor([[ 2,  7, 12],\n",
      "        [14, 19, 24]])\n",
      "\n",
      " tensor([11, 12, 13, 14, 15, 16, 17, 18, 19, 20, 21, 22, 23, 24])\n"
     ]
    }
   ],
   "source": [
    "# create a 3D tensor of size (2, 3, 4)\n",
    "x = torch.tensor([[[1, 2, 3, 4],\n",
    "                   [5, 6, 7, 8],\n",
    "                   [9, 10, 11, 12]],\n",
    "                  \n",
    "                  [[13, 14, 15, 16],\n",
    "                   [17, 18, 19, 20],\n",
    "                   [21, 22, 23, 24]]])\n",
    "\n",
    "# select the elements at positions (0, 1, 2) and (1, 2, 3)\n",
    "print(x[:, (0, 1, 2), (1, 2, 3)])   # output: tensor([[ 2,  7, 12],\n",
    "                                    #          [14, 19, 24]])\n",
    "\n",
    "# create a new tensor by selecting the elements that are greater than 10\n",
    "y = x[x > 10]\n",
    "print(\"\\n\",y)   # output: tensor([11, 12, 13, 14, 15, 16, 17, 18, 19, 20, 21, 22, 23, 24])"
   ]
  },
  {
   "cell_type": "markdown",
   "id": "dc6cc103-09c7-4c22-879d-0df295177033",
   "metadata": {},
   "source": [
    "### Broadcasting in PyTorch\n",
    "\n",
    "**_Broadcasting in PyTorch is a mechanism that enables element-wise operations between tensors of different shapes without explicitly copying or resizing the data. It automatically expands the smaller tensor's dimensions to match the larger tensor's shape, allowing the operation to proceed efficiently._**\n",
    "\n",
    "#### General semantics\n",
    "\n",
    "**Two tensors are _\"broadcastable\"_ if the following rules hold:**\n",
    "* Each tensor has at least one dimension\n",
    "* When iterating over the dimension sizes, starting at the trailing dimension, the dimension sizes must either be equal, one of them is 1, or one of them does not exist."
   ]
  },
  {
   "cell_type": "code",
   "execution_count": 20,
   "id": "05d6b3aa-6762-4db1-b8f3-af0362b03018",
   "metadata": {},
   "outputs": [],
   "source": [
    "x = torch.empty(5, 7, 3)\n",
    "y = torch.empty(5, 7, 3)\n",
    "# Same shapes are always broadcastable (i.e., the above rules always hold)\n",
    "\n",
    "x = torch.empty((0,))\n",
    "y = torch.empty(2, 2)\n",
    "# x and y are not broadcastable, because x does not have at least 1 dimension\n",
    "\n",
    "# can line up trailing dimensions\n",
    "x = torch.empty(5, 3, 4, 1)\n",
    "y = torch.empty(   3, 1, 1)\n",
    "# x and y are broadcastable.\n",
    "# 1sr trailing dimension: both have size 1\n",
    "# 2nd trailing dimension: y has size 1\n",
    "# 3rd trailing dimension: x size == y size\n",
    "# 4th trailing dimension: y dimension doesn't exist\n",
    "\n",
    "# but:\n",
    "x = torch.empty(5, 2, 4, 1)\n",
    "y = torch.empty(   3, 1, 1)\n",
    "# x and y are not broadcastable, because in the 3d trailing dimension 2 != 3"
   ]
  },
  {
   "cell_type": "code",
   "execution_count": 21,
   "id": "19390431-1d6e-4628-8968-688853864c3b",
   "metadata": {},
   "outputs": [
    {
     "name": "stdout",
     "output_type": "stream",
     "text": [
      "\n",
      "Result of a + b (after broadcasting):\n",
      "tensor([[11, 22, 33],\n",
      "        [14, 25, 36]])\n"
     ]
    }
   ],
   "source": [
    "a = torch.tensor([[1, 2, 3], [4, 5, 6]]) #shape (2, 3)\n",
    "b = torch.tensor([10, 20, 30]) # shape (3, )\n",
    "\n",
    "result = a + b # broadcasting b in shape (2, 3)\n",
    "\n",
    "print(\"\\nResult of a + b (after broadcasting):\")\n",
    "print(result)"
   ]
  },
  {
   "cell_type": "markdown",
   "id": "4d21132b-64a9-4659-9a86-6ae06f1ee9c7",
   "metadata": {},
   "source": [
    "**_If two tensors 'x','y' are \"broadcastable\", the resulting tensor size is calculated as follows:_**\n",
    "\n",
    "* If the number of dimensions of _'x'_ and _'y'_ are not equal, prepend 1 to the dimensions of the tensor with fewer dimensions to make them equal length.\n",
    "* Then, for each dimension size, the resulting dimension size is the max of the sizes of _'x'_ and _'y'_ along the dimension."
   ]
  },
  {
   "cell_type": "code",
   "execution_count": 22,
   "id": "07a5cea0-1f01-481b-9c96-9745e078ec9f",
   "metadata": {},
   "outputs": [
    {
     "data": {
      "text/plain": [
       "torch.Size([5, 3, 4, 1])"
      ]
     },
     "execution_count": 22,
     "metadata": {},
     "output_type": "execute_result"
    }
   ],
   "source": [
    "# can line up trailing dimensions to make reading easier\n",
    "x = torch.empty(5, 1, 4, 1)\n",
    "y = torch.empty(   3, 1, 1)\n",
    "(x+y).size()"
   ]
  },
  {
   "cell_type": "code",
   "execution_count": 23,
   "id": "f254e771-0d8a-4e17-b483-2a34683b1ffe",
   "metadata": {},
   "outputs": [
    {
     "data": {
      "text/plain": [
       "torch.Size([3, 1, 7])"
      ]
     },
     "execution_count": 23,
     "metadata": {},
     "output_type": "execute_result"
    }
   ],
   "source": [
    "# but not necessary:\n",
    "x = torch.empty(1)\n",
    "y = torch.empty(3, 1, 7)\n",
    "(x+y).size()"
   ]
  },
  {
   "cell_type": "code",
   "execution_count": 24,
   "id": "6aab0cfe-17b2-48b1-be7e-f7bce2ee27af",
   "metadata": {},
   "outputs": [
    {
     "ename": "RuntimeError",
     "evalue": "The size of tensor a (2) must match the size of tensor b (3) at non-singleton dimension 1",
     "output_type": "error",
     "traceback": [
      "\u001b[1;31m---------------------------------------------------------------------------\u001b[0m",
      "\u001b[1;31mRuntimeError\u001b[0m                              Traceback (most recent call last)",
      "Cell \u001b[1;32mIn[24], line 3\u001b[0m\n\u001b[0;32m      1\u001b[0m x \u001b[38;5;241m=\u001b[39m torch\u001b[38;5;241m.\u001b[39mempty(\u001b[38;5;241m5\u001b[39m, \u001b[38;5;241m2\u001b[39m, \u001b[38;5;241m4\u001b[39m, \u001b[38;5;241m1\u001b[39m)\n\u001b[0;32m      2\u001b[0m y \u001b[38;5;241m=\u001b[39m torch\u001b[38;5;241m.\u001b[39mempty(\u001b[38;5;241m3\u001b[39m, \u001b[38;5;241m1\u001b[39m, \u001b[38;5;241m1\u001b[39m)\n\u001b[1;32m----> 3\u001b[0m (x\u001b[38;5;241m+\u001b[39my)\u001b[38;5;241m.\u001b[39msize()\n",
      "\u001b[1;31mRuntimeError\u001b[0m: The size of tensor a (2) must match the size of tensor b (3) at non-singleton dimension 1"
     ]
    }
   ],
   "source": [
    "x = torch.empty(5, 2, 4, 1)\n",
    "y = torch.empty(3, 1, 1)\n",
    "(x+y).size()"
   ]
  },
  {
   "cell_type": "markdown",
   "id": "eb13e452-c872-42b5-82af-8ee084ca2b15",
   "metadata": {},
   "source": [
    "#### In-place semantics\n",
    "\n",
    "**_One complication is that in-place operations do not allow the in-place tensor to change shape as a result of the broadcast._**"
   ]
  },
  {
   "cell_type": "code",
   "execution_count": 25,
   "id": "f7ecf0a3-7235-4975-a619-1d3dcf335d0d",
   "metadata": {},
   "outputs": [
    {
     "data": {
      "text/plain": [
       "torch.Size([5, 3, 4, 1])"
      ]
     },
     "execution_count": 25,
     "metadata": {},
     "output_type": "execute_result"
    }
   ],
   "source": [
    "x = torch.empty(5, 3, 4, 1)\n",
    "y = torch.empty(3, 1, 1)\n",
    "(x.add_(y)).size()"
   ]
  },
  {
   "cell_type": "code",
   "execution_count": 26,
   "id": "49614ac8-23b4-48de-8ed4-7f8970691005",
   "metadata": {},
   "outputs": [
    {
     "ename": "RuntimeError",
     "evalue": "output with shape [1, 3, 1] doesn't match the broadcast shape [3, 3, 7]",
     "output_type": "error",
     "traceback": [
      "\u001b[1;31m---------------------------------------------------------------------------\u001b[0m",
      "\u001b[1;31mRuntimeError\u001b[0m                              Traceback (most recent call last)",
      "Cell \u001b[1;32mIn[26], line 3\u001b[0m\n\u001b[0;32m      1\u001b[0m x \u001b[38;5;241m=\u001b[39m torch\u001b[38;5;241m.\u001b[39mempty(\u001b[38;5;241m1\u001b[39m, \u001b[38;5;241m3\u001b[39m, \u001b[38;5;241m1\u001b[39m)\n\u001b[0;32m      2\u001b[0m y \u001b[38;5;241m=\u001b[39m torch\u001b[38;5;241m.\u001b[39mempty(\u001b[38;5;241m3\u001b[39m, \u001b[38;5;241m1\u001b[39m, \u001b[38;5;241m7\u001b[39m)\n\u001b[1;32m----> 3\u001b[0m (x\u001b[38;5;241m.\u001b[39madd_(y))\u001b[38;5;241m.\u001b[39msize()\n",
      "\u001b[1;31mRuntimeError\u001b[0m: output with shape [1, 3, 1] doesn't match the broadcast shape [3, 3, 7]"
     ]
    }
   ],
   "source": [
    "x = torch.empty(1, 3, 1)\n",
    "y = torch.empty(3, 1, 7)\n",
    "(x.add_(y)).size()"
   ]
  },
  {
   "cell_type": "markdown",
   "id": "ba90c56b-f5bd-45f1-bb58-ce9cc2d6a1ab",
   "metadata": {},
   "source": [
    "#### Scaling and normalization\n",
    "\n",
    "**Tensors can be standardised or scaled along specific dimensions using broadcasting.**"
   ]
  },
  {
   "cell_type": "code",
   "execution_count": 27,
   "id": "bfbe6082-dab8-4afb-8fb9-a91a5e3f5f18",
   "metadata": {},
   "outputs": [
    {
     "name": "stdout",
     "output_type": "stream",
     "text": [
      "tensor([[0.1000, 1.0000],\n",
      "        [0.3000, 2.0000]])\n"
     ]
    }
   ],
   "source": [
    "data = torch.tensor([[1.0, 2.0], [3.0, 4.0]])  # Shape (2, 2)\n",
    "scale = torch.tensor([0.1, 0.5])              # Shape (2,)\n",
    "\n",
    "scaled_data = data * scale  # Broadcasting scale to shape (2, 2)\n",
    "\n",
    "print(scaled_data)"
   ]
  },
  {
   "cell_type": "markdown",
   "id": "3ef1107b-53c5-49df-ab7a-732b293ee08b",
   "metadata": {},
   "source": [
    "#### Matrix and Vector Operations\n",
    "\n",
    "**Without reshaping, broadcasting enables effective operations between matrices and vectors.**"
   ]
  },
  {
   "cell_type": "code",
   "execution_count": 28,
   "id": "667ce03c-4940-4e08-87f6-04dc80b8f1c0",
   "metadata": {},
   "outputs": [
    {
     "name": "stdout",
     "output_type": "stream",
     "text": [
      "tensor([[11, 22, 33],\n",
      "        [14, 25, 36]])\n"
     ]
    }
   ],
   "source": [
    "matrix = torch.tensor([[1, 2, 3], [4, 5, 6]]) \n",
    "vector = torch.tensor([10, 20, 30])\n",
    "\n",
    "result = matrix + vector # Broadcasting the vector to each row\n",
    "\n",
    "print(result)"
   ]
  },
  {
   "cell_type": "markdown",
   "id": "d14d5f1d-6b45-4fd1-a59d-b5acfc60adf7",
   "metadata": {},
   "source": [
    "## Autograd and Computational Graphs\n",
    "\n",
    "**_Autograd_: It is a PyTorch library that implements automatic differentiation. It uses the graph structure to compute gradients and allows the model to learn by updating its parameters duting training.**"
   ]
  },
  {
   "cell_type": "code",
   "execution_count": 29,
   "id": "654bbfb1-a9e1-438f-8a11-ae5e9200045b",
   "metadata": {},
   "outputs": [
    {
     "name": "stdout",
     "output_type": "stream",
     "text": [
      "Requirement already satisfied: torchviz in c:\\users\\acer\\anaconda3\\lib\\site-packages (0.0.3)\n",
      "Requirement already satisfied: torch in c:\\users\\acer\\anaconda3\\lib\\site-packages (from torchviz) (2.8.0+cu126)\n",
      "Requirement already satisfied: graphviz in c:\\users\\acer\\anaconda3\\lib\\site-packages (from torchviz) (0.21)\n",
      "Requirement already satisfied: filelock in c:\\users\\acer\\anaconda3\\lib\\site-packages (from torch->torchviz) (3.17.0)\n",
      "Requirement already satisfied: typing-extensions>=4.10.0 in c:\\users\\acer\\anaconda3\\lib\\site-packages (from torch->torchviz) (4.12.2)\n",
      "Requirement already satisfied: sympy>=1.13.3 in c:\\users\\acer\\anaconda3\\lib\\site-packages (from torch->torchviz) (1.13.3)\n",
      "Requirement already satisfied: networkx in c:\\users\\acer\\anaconda3\\lib\\site-packages (from torch->torchviz) (3.4.2)\n",
      "Requirement already satisfied: jinja2 in c:\\users\\acer\\anaconda3\\lib\\site-packages (from torch->torchviz) (3.1.6)\n",
      "Requirement already satisfied: fsspec in c:\\users\\acer\\anaconda3\\lib\\site-packages (from torch->torchviz) (2025.3.2)\n",
      "Requirement already satisfied: setuptools in c:\\users\\acer\\anaconda3\\lib\\site-packages (from torch->torchviz) (72.1.0)\n",
      "Requirement already satisfied: mpmath<1.4,>=1.1.0 in c:\\users\\acer\\anaconda3\\lib\\site-packages (from sympy>=1.13.3->torch->torchviz) (1.3.0)\n",
      "Requirement already satisfied: MarkupSafe>=2.0 in c:\\users\\acer\\anaconda3\\lib\\site-packages (from jinja2->torch->torchviz) (3.0.2)\n",
      "Note: you may need to restart the kernel to use updated packages.\n"
     ]
    }
   ],
   "source": [
    "pip install torchviz"
   ]
  },
  {
   "cell_type": "code",
   "execution_count": 30,
   "id": "45a5bd87-c38a-4613-b433-69acda641864",
   "metadata": {},
   "outputs": [
    {
     "name": "stdout",
     "output_type": "stream",
     "text": [
      "tensor(14.)\n"
     ]
    },
    {
     "data": {
      "image/svg+xml": [
       "<?xml version=\"1.0\" encoding=\"UTF-8\" standalone=\"no\"?>\n",
       "<!DOCTYPE svg PUBLIC \"-//W3C//DTD SVG 1.1//EN\"\n",
       " \"http://www.w3.org/Graphics/SVG/1.1/DTD/svg11.dtd\">\n",
       "<!-- Generated by graphviz version 12.1.2 (20240928.0832)\n",
       " -->\n",
       "<!-- Pages: 1 -->\n",
       "<svg width=\"108pt\" height=\"280pt\"\n",
       " viewBox=\"0.00 0.00 108.00 279.75\" xmlns=\"http://www.w3.org/2000/svg\" xmlns:xlink=\"http://www.w3.org/1999/xlink\">\n",
       "<g id=\"graph0\" class=\"graph\" transform=\"scale(1 1) rotate(0) translate(4 275.75)\">\n",
       "<polygon fill=\"white\" stroke=\"none\" points=\"-4,4 -4,-275.75 104,-275.75 104,4 -4,4\"/>\n",
       "<!-- 1680396954160 -->\n",
       "<g id=\"node1\" class=\"node\">\n",
       "<title>1680396954160</title>\n",
       "<polygon fill=\"#caff70\" stroke=\"black\" points=\"77,-32.75 23,-32.75 23,0 77,0 77,-32.75\"/>\n",
       "<text text-anchor=\"middle\" x=\"50\" y=\"-7.25\" font-family=\"monospace\" font-size=\"10.00\"> ()</text>\n",
       "</g>\n",
       "<!-- 1680364976112 -->\n",
       "<g id=\"node2\" class=\"node\">\n",
       "<title>1680364976112</title>\n",
       "<polygon fill=\"lightgrey\" stroke=\"black\" points=\"94,-89.5 6,-89.5 6,-68.75 94,-68.75 94,-89.5\"/>\n",
       "<text text-anchor=\"middle\" x=\"50\" y=\"-76\" font-family=\"monospace\" font-size=\"10.00\">AddBackward0</text>\n",
       "</g>\n",
       "<!-- 1680364976112&#45;&gt;1680396954160 -->\n",
       "<g id=\"edge4\" class=\"edge\">\n",
       "<title>1680364976112&#45;&gt;1680396954160</title>\n",
       "<path fill=\"none\" stroke=\"black\" d=\"M50,-68.36C50,-61.89 50,-53.05 50,-44.55\"/>\n",
       "<polygon fill=\"black\" stroke=\"black\" points=\"53.5,-44.55 50,-34.55 46.5,-44.55 53.5,-44.55\"/>\n",
       "</g>\n",
       "<!-- 1680395989968 -->\n",
       "<g id=\"node3\" class=\"node\">\n",
       "<title>1680395989968</title>\n",
       "<polygon fill=\"lightgrey\" stroke=\"black\" points=\"94,-146.25 6,-146.25 6,-125.5 94,-125.5 94,-146.25\"/>\n",
       "<text text-anchor=\"middle\" x=\"50\" y=\"-132.75\" font-family=\"monospace\" font-size=\"10.00\">PowBackward0</text>\n",
       "</g>\n",
       "<!-- 1680395989968&#45;&gt;1680364976112 -->\n",
       "<g id=\"edge1\" class=\"edge\">\n",
       "<title>1680395989968&#45;&gt;1680364976112</title>\n",
       "<path fill=\"none\" stroke=\"black\" d=\"M50,-125.09C50,-118.47 50,-109.47 50,-101.27\"/>\n",
       "<polygon fill=\"black\" stroke=\"black\" points=\"53.5,-101.34 50,-91.34 46.5,-101.34 53.5,-101.34\"/>\n",
       "</g>\n",
       "<!-- 1680249307968 -->\n",
       "<g id=\"node4\" class=\"node\">\n",
       "<title>1680249307968</title>\n",
       "<polygon fill=\"lightgrey\" stroke=\"black\" points=\"100,-203 0,-203 0,-182.25 100,-182.25 100,-203\"/>\n",
       "<text text-anchor=\"middle\" x=\"50\" y=\"-189.5\" font-family=\"monospace\" font-size=\"10.00\">AccumulateGrad</text>\n",
       "</g>\n",
       "<!-- 1680249307968&#45;&gt;1680395989968 -->\n",
       "<g id=\"edge2\" class=\"edge\">\n",
       "<title>1680249307968&#45;&gt;1680395989968</title>\n",
       "<path fill=\"none\" stroke=\"black\" d=\"M50,-181.84C50,-175.22 50,-166.22 50,-158.02\"/>\n",
       "<polygon fill=\"black\" stroke=\"black\" points=\"53.5,-158.09 50,-148.09 46.5,-158.09 53.5,-158.09\"/>\n",
       "</g>\n",
       "<!-- 1680394023264 -->\n",
       "<g id=\"node5\" class=\"node\">\n",
       "<title>1680394023264</title>\n",
       "<polygon fill=\"lightblue\" stroke=\"black\" points=\"77,-271.75 23,-271.75 23,-239 77,-239 77,-271.75\"/>\n",
       "<text text-anchor=\"middle\" x=\"50\" y=\"-246.25\" font-family=\"monospace\" font-size=\"10.00\"> ()</text>\n",
       "</g>\n",
       "<!-- 1680394023264&#45;&gt;1680249307968 -->\n",
       "<g id=\"edge3\" class=\"edge\">\n",
       "<title>1680394023264&#45;&gt;1680249307968</title>\n",
       "<path fill=\"none\" stroke=\"black\" d=\"M50,-238.73C50,-231.35 50,-222.43 50,-214.49\"/>\n",
       "<polygon fill=\"black\" stroke=\"black\" points=\"53.5,-214.66 50,-204.66 46.5,-214.66 53.5,-214.66\"/>\n",
       "</g>\n",
       "</g>\n",
       "</svg>\n"
      ],
      "text/plain": [
       "<graphviz.graphs.Digraph at 0x1873efa0d70>"
      ]
     },
     "execution_count": 30,
     "metadata": {},
     "output_type": "execute_result"
    }
   ],
   "source": [
    "# Import the torch library\n",
    "import torch \n",
    "from torchviz import make_dot\n",
    "\n",
    "# Assign any value for x as tensor form\n",
    "# Set requires_grad=True So,\n",
    "# that autograd will record the operations\n",
    "x=torch.tensor(7.0,requires_grad=True)\n",
    "  \n",
    "# Define the equation\n",
    "f = (x**2)+3\n",
    "  \n",
    "# Differentiate using torch\n",
    "#Uses backward function to compute the gradient value\n",
    "f.backward()\n",
    "  \n",
    "# Print the derivative value\n",
    "# of y i.e dy/dx = 2x  = 2 X 7.0 = 14.\n",
    "print(x.grad)\n",
    "  \n",
    "# Plot the computational graph\n",
    "make_dot(f)"
   ]
  },
  {
   "cell_type": "markdown",
   "id": "8ad90210-ef83-41bc-9fbf-995ed4609d49",
   "metadata": {},
   "source": [
    "### Computational Graph in PyTorch\n",
    "\n",
    "* A computational graph is a dynamic structure that represents operations and tensors involved in a computation.\n",
    "* Nodes: Tensors\n",
    "* Edges: Operations that produce new tensors from existing ones.\n",
    "* PyTorch builds this graph **dynamically** at runtime (also called **Define-by-Run**), which means:\n",
    "    * Each forward pass creates a new graph.\n",
    "    * It is efficient and flexible for dynamic models like RNNs. "
   ]
  },
  {
   "cell_type": "code",
   "execution_count": 31,
   "id": "5cfd2095-af71-4720-aaa4-c86986edc60b",
   "metadata": {},
   "outputs": [
    {
     "data": {
      "text/plain": [
       "tensor(15., grad_fn=<AddBackward0>)"
      ]
     },
     "execution_count": 31,
     "metadata": {},
     "output_type": "execute_result"
    }
   ],
   "source": [
    "import torch\n",
    "\n",
    "x = torch.tensor(2.0, requires_grad=True)\n",
    "y = torch.tensor(3.0, requires_grad=True)\n",
    "\n",
    "z = x * y + y**2   # Creates a computational graph\n",
    "\n",
    "z"
   ]
  },
  {
   "cell_type": "markdown",
   "id": "22bcd0de-22e8-4ea0-8d37-5513c7d6a62e",
   "metadata": {},
   "source": [
    "### Automatic Differentiation (Autograd)\n",
    "\n",
    "* PyTorch's **autograd** system automatically computes **derivatives** of tensors that have `requires_grad=True`.\n",
    "* It uses **reverse-mode differentiation** (also known as **backpropagation**) because it's efficient for scalar outputs.\n",
    "* When we call:\n",
    "    * `z.backward()`\n",
    "* PyTorch traverses the computational graph **backwards** and computes gradients for all tensors with `requires_grad=True`. "
   ]
  },
  {
   "cell_type": "code",
   "execution_count": 32,
   "id": "ac6b0b54-a926-4e7b-a21b-b573e3ace2c2",
   "metadata": {},
   "outputs": [
    {
     "name": "stdout",
     "output_type": "stream",
     "text": [
      "tensor(3.)\n",
      "tensor(8.)\n"
     ]
    }
   ],
   "source": [
    "z.backward() #dz/dx and dz/dy\n",
    "print(x.grad) # ∂z/∂x = y = 3\n",
    "print(y.grad) # ∂z/∂y = x + 2y = 2 + 2*3 = 8"
   ]
  },
  {
   "cell_type": "markdown",
   "id": "34795c51-fb72-4ed4-bacc-8280bf70ccaf",
   "metadata": {},
   "source": [
    "### Gradients\n",
    "\n",
    "* After `backward()`, the `.grad` attribute of each leaf tensor stores the gradient.\n",
    "* important:\n",
    "    * Gradient **accumulate** by default (so we should call `.zero()` before the next backward pass).\n",
    "    * Works only on **scalar outputs *** by default, otherwise pass `gradient` argument to `backward()`."
   ]
  },
  {
   "cell_type": "code",
   "execution_count": 33,
   "id": "7e757d0d-382d-41f9-9798-2664c3214581",
   "metadata": {},
   "outputs": [
    {
     "name": "stdout",
     "output_type": "stream",
     "text": [
      "tensor(4.)\n"
     ]
    }
   ],
   "source": [
    "x = torch.tensor(2.0, requires_grad=True)\n",
    "y = x**2 \n",
    "y.backward() # dy/dx = 2x = 4\n",
    "print(x.grad) # 4.0"
   ]
  },
  {
   "cell_type": "markdown",
   "id": "d056633a-dd26-4e4c-b2b4-5143d88546a3",
   "metadata": {},
   "source": [
    "### Backward Propagation\n",
    "\n",
    "* Backpropagation in PyTorch is simply `tensor.backward()`.\n",
    "* It computes gradients from the **output to the inputs** using the chain rule.\n",
    "* It does not calculate the forward pass; only the gradient flow in the backward direction."
   ]
  },
  {
   "cell_type": "markdown",
   "id": "f81c03f8-b5c9-49bc-9de9-2a1c1b63c2d6",
   "metadata": {},
   "source": [
    "### etaching Tensors (.detach() and with torch.no_grad())\n",
    "\n",
    "* Sometimes you want to **stop PyTorch from tracking operations** (e.g., during inference or to prevent gradient flow).\n",
    "* Two ways:\n",
    "    * `.detach()`:\n",
    "    * `with torch.no_grad()`:\n",
    "* Difference:\n",
    "    * `.detach()` returns a new tensor detached from the graph.\n",
    "    * `torch.no_grad()` is a context manager for disabling grad tracking."
   ]
  },
  {
   "cell_type": "code",
   "execution_count": 34,
   "id": "545a6111-008d-4735-8b53-ccbb6d084f57",
   "metadata": {},
   "outputs": [],
   "source": [
    "y  = x.detach() # Creates a new tensor without grad histroy"
   ]
  },
  {
   "cell_type": "code",
   "execution_count": 35,
   "id": "39012197-51f3-4e5e-9571-666b2a0cd933",
   "metadata": {},
   "outputs": [],
   "source": [
    "with torch.no_grad():\n",
    "    y = y * 2 # No gradient tracking"
   ]
  },
  {
   "cell_type": "markdown",
   "id": "3ff1af22-0f02-4adf-b0a1-fecdc3dc6224",
   "metadata": {},
   "source": [
    "### Code: Compute Gradient for y = x^2"
   ]
  },
  {
   "cell_type": "code",
   "execution_count": 36,
   "id": "36c351b0-58ea-46aa-8ab5-5515d66fa6ff",
   "metadata": {},
   "outputs": [
    {
     "name": "stdout",
     "output_type": "stream",
     "text": [
      "x: 5.0\n",
      "y: 25.0\n",
      "Gradient dy/dx: 10.0\n"
     ]
    }
   ],
   "source": [
    "import torch\n",
    "\n",
    "# Create a tensor with requires_grad=True to track computations\n",
    "x = torch.tensor(5.0, requires_grad=True) # x = 5\n",
    "\n",
    "# Define the function y = x^2\n",
    "y = x ** 2 # y = 5^2 = 25\n",
    "\n",
    "# compute the gradient using backward()\n",
    "y.backward()\n",
    "\n",
    "# Print the results\n",
    "print(f\"x: {x.item()}\")\n",
    "print(f\"y: {y.item()}\")\n",
    "print(f\"Gradient dy/dx: {x.grad.item()}\")"
   ]
  },
  {
   "cell_type": "markdown",
   "id": "d8da7eaf-4b4c-495a-a782-cd955f94e7df",
   "metadata": {},
   "source": [
    "## Building simple models with nn.module, linear layers, activation functions, and loss functions.\n",
    "\n",
    "* Every PyTorch model is typically a subclass of `torch.nn.Module`.\n",
    "    * `__init__()`: Define layers\n",
    "    * `forward()`: Define forward pass\n",
    "\n",
    "* The **torch.nn.Module** class provides a convenient way to create custom modules because it includes some key features that are important for building neural networks, such as the ability to keep track of learnable parameters and the ability to perform automatic differentiation (for computing gradients during training).\n",
    "\n",
    "* By creating a new class that inherits from **torch.nn.Module**, and defining an __init__ method to initialize the module's parameters, and a forward method that performs the computation, we can create our own custom module. These custom modules can be used just like any of the built-in PyTorch modules, like **torch.nn.Module** or **torch.nn.Conv2d**, and can be included in a larger model architecture."
   ]
  },
  {
   "cell_type": "markdown",
   "id": "f8e84f0a-49f2-4b52-aeb1-92ff727af3fb",
   "metadata": {},
   "source": [
    "#### Simple Linear model"
   ]
  },
  {
   "cell_type": "code",
   "execution_count": 37,
   "id": "00f02d69-7233-4382-a760-6c18f3f68ef1",
   "metadata": {},
   "outputs": [],
   "source": [
    "# Importing the necessary libraries\n",
    "\n",
    "import torch\n",
    "import torch.nn as nn\n",
    "import torch.optim as optim\n",
    "from torchvision import datasets, transforms\n",
    "from sklearn.metrics import classification_report"
   ]
  },
  {
   "cell_type": "code",
   "execution_count": 38,
   "id": "aeca3e19-0355-4a7b-8470-62dad3a35eeb",
   "metadata": {},
   "outputs": [
    {
     "name": "stdout",
     "output_type": "stream",
     "text": [
      "SimpleLinearModel(\n",
      "  (linear): Linear(in_features=1, out_features=1, bias=True)\n",
      ")\n"
     ]
    }
   ],
   "source": [
    "# Simple Linear Model: input -> Linear -> output\n",
    "class SimpleLinearModel(nn.Module):\n",
    "    def __init__(self):\n",
    "        super(SimpleLinearModel, self).__init__()\n",
    "        self.linear = nn.Linear(in_features=1, out_features=1) # y = wx + b\n",
    "\n",
    "    def forward(self, x):\n",
    "        return self.linear(x)\n",
    "\n",
    "# Create model\n",
    "model = SimpleLinearModel()\n",
    "print(model)"
   ]
  },
  {
   "cell_type": "markdown",
   "id": "ff8a5e26-54b3-4ec6-8833-873f6560ef38",
   "metadata": {},
   "source": [
    "#### Adding Activation Functions\n",
    "\n",
    "* We can use activations like **ReLU, Sigmoid, Tanh** from `torch.nn`.\n",
    "\n",
    "* Example **Linear + ReLU**"
   ]
  },
  {
   "cell_type": "code",
   "execution_count": 39,
   "id": "7e19222a-525c-4245-a0d9-01993e929d3f",
   "metadata": {},
   "outputs": [
    {
     "name": "stdout",
     "output_type": "stream",
     "text": [
      "LinearWithReLU(\n",
      "  (linear): Linear(in_features=1, out_features=1, bias=True)\n",
      "  (relu): ReLU()\n",
      ")\n"
     ]
    }
   ],
   "source": [
    "class LinearWithReLU(nn.Module):\n",
    "    def __init__(self):\n",
    "        super(LinearWithReLU, self).__init__()\n",
    "        self.linear = nn.Linear(1, 1)\n",
    "        self.relu = nn.ReLU()\n",
    "\n",
    "    def forward(self, x):\n",
    "        out = self.linear(x)\n",
    "        out = self.relu(out)\n",
    "        return out\n",
    "\n",
    "model = LinearWithReLU()\n",
    "print(model)"
   ]
  },
  {
   "cell_type": "markdown",
   "id": "e5e1e069-b782-493e-948f-1f2255ef39ab",
   "metadata": {},
   "source": [
    "#### Using Multiple Layers (MLP)"
   ]
  },
  {
   "cell_type": "code",
   "execution_count": 40,
   "id": "e40eb924-3d95-4156-94d6-b5dc7cdd7a28",
   "metadata": {},
   "outputs": [
    {
     "name": "stdout",
     "output_type": "stream",
     "text": [
      "SimpleMLP(\n",
      "  (hidden): Linear(in_features=1, out_features=10, bias=True)\n",
      "  (relu): ReLU()\n",
      "  (output): Linear(in_features=10, out_features=1, bias=True)\n",
      ")\n"
     ]
    }
   ],
   "source": [
    "class SimpleMLP(nn.Module):\n",
    "    def __init__(self):\n",
    "        super(SimpleMLP, self).__init__()\n",
    "        self.hidden = nn.Linear(1, 10) # 1 input -> 10 hidden neurons\n",
    "        self.relu = nn.ReLU()\n",
    "        self.output = nn.Linear(10, 1) # 10 hidden -> 1 output\n",
    "\n",
    "    def forward(self, x):\n",
    "        x = self.hidden(x)\n",
    "        x = self.relu(x)\n",
    "        x = self.output(x)\n",
    "        return x\n",
    "\n",
    "model = SimpleMLP()\n",
    "print(model)"
   ]
  },
  {
   "cell_type": "markdown",
   "id": "374a74c3-e576-41ee-b7aa-0f5a60eb484e",
   "metadata": {},
   "source": [
    "#### Loss Functions\n",
    "\n",
    "* Common loss functions in `torch.nn`:\n",
    "    * **MSELoss** -> Regression\n",
    "    * **CrossEntropyLoss** -> Classification\n",
    "    * **BCELoss** -> Binary classification\n",
    "#### Example with MSE Loss"
   ]
  },
  {
   "cell_type": "code",
   "execution_count": 41,
   "id": "5b23339a-160d-45cc-97db-19879a2fed34",
   "metadata": {},
   "outputs": [
    {
     "name": "stdout",
     "output_type": "stream",
     "text": [
      "Output: -0.42473146319389343, Loss: 19.5782470703125\n"
     ]
    }
   ],
   "source": [
    "criterion = nn.MSELoss()\n",
    "\n",
    "# Dummy input and target\n",
    "x = torch.tensor([[2.0]], requires_grad = True)\n",
    "target = torch.tensor([[4.0]])\n",
    "\n",
    "# Forward pass\n",
    "output = model(x)\n",
    "loss = criterion(output, target)\n",
    "print(f\"Output: {output.item()}, Loss: {loss.item()}\")"
   ]
  },
  {
   "cell_type": "markdown",
   "id": "35ea94c3-b0ea-4db1-bc9f-59ee1d14ccb8",
   "metadata": {},
   "source": [
    "#### Training Loop Example\n",
    "Combine everything\n",
    "* Forward pass\n",
    "* Compute loss\n",
    "* Backward pass\n",
    "* Update weights"
   ]
  },
  {
   "cell_type": "code",
   "execution_count": 42,
   "id": "d68e1019-f87f-4dfa-9fff-274ad8a9308a",
   "metadata": {},
   "outputs": [
    {
     "name": "stdout",
     "output_type": "stream",
     "text": [
      "Epoch 1, Loss: 12.6138\n",
      "Epoch 2, Loss: 9.4926\n",
      "Epoch 3, Loss: 6.8224\n",
      "Epoch 4, Loss: 4.6010\n",
      "Epoch 5, Loss: 2.8766\n",
      "Epoch 6, Loss: 1.6579\n",
      "Epoch 7, Loss: 0.8823\n",
      "Epoch 8, Loss: 0.4370\n",
      "Epoch 9, Loss: 0.2039\n",
      "Epoch 10, Loss: 0.0908\n"
     ]
    }
   ],
   "source": [
    "import torch.optim as optim\n",
    "\n",
    "# Model, Loss, Optimizer\n",
    "model = SimpleMLP()\n",
    "criterion = nn.MSELoss()\n",
    "optimizer = optim.SGD(model.parameters(), lr=0.01)\n",
    "\n",
    "# Training for 10 steps\n",
    "for epoch in range(10):\n",
    "    x = torch.tensor([[2.0]]) # Input\n",
    "    y_true = torch.tensor([[4.0]]) # Target\n",
    "\n",
    "    # Forward pass\n",
    "    y_pred = model(x)\n",
    "    loss = criterion(y_pred, y_true)\n",
    "\n",
    "    # Backward pass\n",
    "    optimizer.zero_grad() # Clear previous gradients\n",
    "    loss.backward() # compute gradients\n",
    "    optimizer.step() # Update weights\n",
    "\n",
    "    print(f\"Epoch {epoch+1}, Loss: {loss.item():.4f}\")"
   ]
  },
  {
   "cell_type": "markdown",
   "id": "66e34736-2baa-487f-a19f-53729cf66df5",
   "metadata": {},
   "source": [
    "#### Build a basic MLP (Multi-Layer Perceptron) for a toy dataset."
   ]
  },
  {
   "cell_type": "code",
   "execution_count": 43,
   "id": "c9c41707-f678-4759-bbb8-8d792ecf553a",
   "metadata": {},
   "outputs": [],
   "source": [
    "# Importing the libraries\n",
    "import torch\n",
    "import torch.nn as nn\n",
    "import torch.optim as optim"
   ]
  },
  {
   "cell_type": "code",
   "execution_count": 44,
   "id": "35be827d-9ee1-48c6-9058-14877545bbd5",
   "metadata": {},
   "outputs": [],
   "source": [
    "# Generate synthetic data\n",
    "torch.manual_seed(0)\n",
    "X = torch.unsqueeze(torch.linspace(-1, 1, 100), dim=1)  # shape (100,1)\n",
    "y = 2 * X + 1 + 0.2 * torch.randn(X.size())             # shape (100,1)"
   ]
  },
  {
   "cell_type": "code",
   "execution_count": 45,
   "id": "f7551385-6e9b-4439-b313-f5db1a5d4fde",
   "metadata": {},
   "outputs": [
    {
     "name": "stdout",
     "output_type": "stream",
     "text": [
      "MLP(\n",
      "  (hidden): Linear(in_features=1, out_features=10, bias=True)\n",
      "  (relu): ReLU()\n",
      "  (output): Linear(in_features=10, out_features=1, bias=True)\n",
      ")\n"
     ]
    }
   ],
   "source": [
    "class MLP(nn.Module):\n",
    "    def __init__(self):\n",
    "        super(MLP, self).__init__()\n",
    "        self.hidden = nn.Linear(1, 10)   # 1 input → 10 hidden neurons\n",
    "        self.relu = nn.ReLU()\n",
    "        self.output = nn.Linear(10, 1)   # 10 hidden → 1 output\n",
    "\n",
    "    def forward(self, x):\n",
    "        x = self.hidden(x)\n",
    "        x = self.relu(x)\n",
    "        x = self.output(x)\n",
    "        return x\n",
    "\n",
    "model = MLP()\n",
    "print(model)\n"
   ]
  },
  {
   "cell_type": "code",
   "execution_count": 46,
   "id": "be80cc93-61fe-492e-9c8a-d3a55433aea3",
   "metadata": {},
   "outputs": [],
   "source": [
    "criterion = nn.MSELoss()  # For regression\n",
    "optimizer = optim.SGD(model.parameters(), lr=0.1)\n"
   ]
  },
  {
   "cell_type": "code",
   "execution_count": 47,
   "id": "291c1c1c-ff01-4ee2-b74a-6eea9fb673db",
   "metadata": {},
   "outputs": [
    {
     "name": "stdout",
     "output_type": "stream",
     "text": [
      "Epoch [20/200], Loss: 0.0540\n",
      "Epoch [40/200], Loss: 0.0494\n",
      "Epoch [60/200], Loss: 0.0488\n",
      "Epoch [80/200], Loss: 0.0483\n",
      "Epoch [100/200], Loss: 0.0479\n",
      "Epoch [120/200], Loss: 0.0476\n",
      "Epoch [140/200], Loss: 0.0470\n",
      "Epoch [160/200], Loss: 0.0465\n",
      "Epoch [180/200], Loss: 0.0461\n",
      "Epoch [200/200], Loss: 0.0453\n"
     ]
    }
   ],
   "source": [
    "epochs = 200\n",
    "for epoch in range(epochs):\n",
    "    # Forward pass\n",
    "    y_pred = model(X)\n",
    "    loss = criterion(y_pred, y)\n",
    "\n",
    "    # Backward pass\n",
    "    optimizer.zero_grad()  # Clear previous gradients\n",
    "    loss.backward()        # Compute gradients\n",
    "    optimizer.step()       # Update weights\n",
    "\n",
    "    # Print progress every 20 epochs\n",
    "    if (epoch+1) % 20 == 0:\n",
    "        print(f'Epoch [{epoch+1}/{epochs}], Loss: {loss.item():.4f}')\n"
   ]
  },
  {
   "cell_type": "code",
   "execution_count": 48,
   "id": "606703f0-bebf-4459-bbef-6ccbb7e616b7",
   "metadata": {},
   "outputs": [
    {
     "name": "stdout",
     "output_type": "stream",
     "text": [
      "Prediction for x = 0.5: 2.0493\n"
     ]
    }
   ],
   "source": [
    "with torch.no_grad():\n",
    "    test_input = torch.tensor([[0.5]])\n",
    "    prediction = model(test_input)\n",
    "    print(f\"Prediction for x = 0.5: {prediction.item():.4f}\")"
   ]
  },
  {
   "cell_type": "markdown",
   "id": "13d5ec3c-ba42-478c-be61-f0fa5625f29a",
   "metadata": {},
   "source": [
    "## Datasets and DataLoaders\n",
    "\n",
    "**PyTorch provides two data primitives: `torch.utils.data.DataLoader` and `torch.utils.data.Dataset` that allows us to use pre-loaded datasets as well as our own data.**"
   ]
  },
  {
   "cell_type": "code",
   "execution_count": 49,
   "id": "f28cfe64-86e7-4470-a6f6-e80d5f4332d2",
   "metadata": {},
   "outputs": [],
   "source": [
    "import torch\n",
    "from torch.utils.data import Dataset\n",
    "from torchvision import datasets\n",
    "from torchvision.transforms import ToTensor\n",
    "import matplotlib.pyplot as plt\n",
    "\n",
    "training_data = datasets.FashionMNIST(\n",
    "    root=\"data\",\n",
    "    train=True,\n",
    "    download=True,\n",
    "    transform=ToTensor()\n",
    ")\n",
    "\n",
    "test_data = datasets.FashionMNIST(\n",
    "    root=\"data\",\n",
    "    train=False,\n",
    "    download=True,\n",
    "    transform=ToTensor()\n",
    ")\n"
   ]
  },
  {
   "cell_type": "code",
   "execution_count": 50,
   "id": "55207a96-5ee4-481f-aee5-101f4be5d924",
   "metadata": {},
   "outputs": [
    {
     "data": {
      "image/png": "[encoded data removed]",
      "text/plain": [
       "<Figure size 800x800 with 9 Axes>"
      ]
     },
     "metadata": {},
     "output_type": "display_data"
    }
   ],
   "source": [
    "labels_map = {\n",
    "    0: \"T-Shirt\",\n",
    "    1: \"Trouser\",\n",
    "    2: \"Pullover\",\n",
    "    3: \"Dress\",\n",
    "    4: \"Coat\",\n",
    "    5: \"Sandal\",\n",
    "    6: \"Shirt\",\n",
    "    7: \"Sneaker\",\n",
    "    8: \"Bag\",\n",
    "    9: \"Ankle Boot\",\n",
    "}\n",
    "figure = plt.figure(figsize=(8, 8))\n",
    "cols, rows = 3, 3\n",
    "for i in range(1, cols * rows + 1):\n",
    "    sample_idx = torch.randint(len(training_data), size=(1,)).item()\n",
    "    img, label = training_data[sample_idx]\n",
    "    figure.add_subplot(rows, cols, i)\n",
    "    plt.title(labels_map[label])\n",
    "    plt.axis(\"off\")\n",
    "    plt.imshow(img.squeeze(), cmap=\"gray\")\n",
    "plt.show()"
   ]
  },
  {
   "cell_type": "code",
   "execution_count": 51,
   "id": "b6b75768-e103-46f0-a6a1-3cd6465df703",
   "metadata": {},
   "outputs": [],
   "source": [
    "import os\n",
    "import pandas as pd\n",
    "from torchvision.io import decode_image\n",
    "\n",
    "class CustomImageDataset(Dataset):\n",
    "    def __init__(self, annotations_file, img_dir, transform=None, target_transform=None):\n",
    "        self.img_labels = pd.read_csv(annotations_file)\n",
    "        self.img_dir = img_dir\n",
    "        self.transform = transform\n",
    "        self.target_transform = target_transform\n",
    "\n",
    "    def __len__(self):\n",
    "        return len(self.img_labels)\n",
    "\n",
    "    def __getitem__(self, idx):\n",
    "        img_path = os.path.join(self.img_dir, self.img_labels.iloc[idx, 0])\n",
    "        image = decode_image(img_path)\n",
    "        label = self.img_labels.iloc[idx, 1]\n",
    "        if self.transform:\n",
    "            image = self.transform(image)\n",
    "        if self.target_transform:\n",
    "            label = self.target_transform(label)\n",
    "        return image, label"
   ]
  },
  {
   "cell_type": "code",
   "execution_count": 52,
   "id": "7457103f-d594-4dee-98d1-270b63f338e4",
   "metadata": {},
   "outputs": [],
   "source": [
    "def __init__(self, annotations_file, img_dir, transform=None, target_transfrom=None):\n",
    "    self.img_labels = pd.read_Csv(annotations_file)\n",
    "    self.img_dir = img_dir\n",
    "    self.transform = transform\n",
    "    self.target_transfrom = target_transfrom"
   ]
  },
  {
   "cell_type": "code",
   "execution_count": 53,
   "id": "1aacf257-c6bf-4ade-9497-2ad635702aae",
   "metadata": {},
   "outputs": [],
   "source": [
    "def __len__(self):\n",
    "    return len(self.img_labels)"
   ]
  },
  {
   "cell_type": "code",
   "execution_count": 54,
   "id": "5069686f-ec99-4f53-a4bc-63e60da751a3",
   "metadata": {},
   "outputs": [],
   "source": [
    "def __getitem__(self, idx):\n",
    "    img_path = os.path.join(self.img_dir, self.img_labels.iloc[idx, 0])\n",
    "    image = read_image(img_path)\n",
    "    label = self.img_labels.iloc[idx, 1]\n",
    "    if self.transform:\n",
    "        image = self.transform(image)\n",
    "    if self.target_transform:\n",
    "        label = self.target_transform(label)\n",
    "    return image, label"
   ]
  },
  {
   "cell_type": "code",
   "execution_count": 55,
   "id": "03b58af4-2290-4b49-aa56-dbede7d4111c",
   "metadata": {},
   "outputs": [],
   "source": [
    "from torch.utils.data import DataLoader\n",
    "\n",
    "train_dataloader = DataLoader(training_data, batch_size=64, shuffle=True)\n",
    "test_dataloader = DataLoader(test_data, batch_size=64, shuffle=True)"
   ]
  },
  {
   "cell_type": "code",
   "execution_count": 56,
   "id": "5278ce0c-9f5a-4781-9b27-8392b93f71ad",
   "metadata": {},
   "outputs": [
    {
     "name": "stdout",
     "output_type": "stream",
     "text": [
      "Feature batch shape: torch.Size([64, 1, 28, 28])\n",
      "Labels batch shape: torch.Size([64])\n"
     ]
    },
    {
     "data": {
      "image/png": "[encoded data removed]",
      "text/plain": [
       "<Figure size 640x480 with 1 Axes>"
      ]
     },
     "metadata": {},
     "output_type": "display_data"
    },
    {
     "name": "stdout",
     "output_type": "stream",
     "text": [
      "Label: 3\n"
     ]
    }
   ],
   "source": [
    "# Display image and label\n",
    "train_features, train_labels = next(iter(train_dataloader))\n",
    "print(f\"Feature batch shape: {train_features.size()}\")\n",
    "print(f\"Labels batch shape: {train_labels.size()}\")\n",
    "img = train_features[0].squeeze()\n",
    "label = train_labels[0]\n",
    "plt.imshow(img, cmap=\"gray\")\n",
    "plt.show()\n",
    "print(f\"Label: {label}\")"
   ]
  },
  {
   "cell_type": "markdown",
   "id": "70852991-6727-48ff-bb80-ce4efbe48b81",
   "metadata": {},
   "source": [
    "## Training Loops and Optimization\n",
    "\n",
    "#### Training and Evaluation Loops\n",
    "\n",
    "**In PyTorch, training and evaluation loops are essential for model optimization and performance assessment. A typical training loop involves iterating through batches of data, performing a forward pass to compute predictions, calculating the loss using a criterion (such as `crossEntropyLoss`), and executing a backward pass to compute gradients via `loss.backward()`. The optimizer then updates the model parameters using these gradients. The evaluation loop, on the other hand, runs in inference model (`model.eval()`) without computation (`torch.no_grad()`) to assess the model on validation or test data. This separation ensures efficient training while preventing gradient accumulation during evaluation.**"
   ]
  },
  {
   "cell_type": "code",
   "execution_count": 57,
   "id": "653dd8c3-5391-4548-82a9-dfd8da898841",
   "metadata": {},
   "outputs": [],
   "source": [
    "import torch\n",
    "import torch.nn as nn\n",
    "import torch.optim as optim\n",
    "from torchvision import datasets, transforms\n",
    "from torch.utils.data import DataLoader\n",
    "\n",
    "# Device configuration\n",
    "device = torch.device('cuda' if torch.cuda.is_available() else 'cpu')\n",
    "\n",
    "# Data preprocessing\n",
    "transform = transforms.Compose([\n",
    "    transforms.ToTensor(),\n",
    "    transforms.Normalize((0.5,), (0.5,))\n",
    "])\n",
    "\n",
    "# Load dataset\n",
    "train_dataset = datasets.FashionMNIST(root='./data', train=True, download=True, transform=transform)\n",
    "test_dataset = datasets.FashionMNIST(root='./data', train=False, download=True, transform=transform)\n",
    "\n",
    "train_loader = DataLoader(dataset=train_dataset, batch_size=64, shuffle=True)\n",
    "test_loader = DataLoader(dataset=test_dataset, batch_size=64, shuffle=False)"
   ]
  },
  {
   "cell_type": "markdown",
   "id": "4b89d5d1-829b-472d-9b15-f59dab3ffc0e",
   "metadata": {},
   "source": [
    "#### Handling Overfitting (Dropout, Regularization, etc.)\n",
    "\n",
    "**Overfitting occurs when a model learns noise and details from training data that do not generalize to unseen data. To prevent this, several techniques are used in PyTorch: _Dropout_, which randomly deactivates neurons during training to encourage redundancy and robustness; _L2 regularization_ (implemented as `weight_decay` in optimizers), which penalizes large weights; and _data augmentation_, which increases training data diversity through transformations like rotation, flipping, or normalization. Additionally, techniques such as _early stopping, batch normalization_, and _learning rate_ scheduling further help in improving generalization and preventing overfitting.**"
   ]
  },
  {
   "cell_type": "code",
   "execution_count": 58,
   "id": "f3d8ff54-7334-49f2-8316-f5f8c2dc5f51",
   "metadata": {},
   "outputs": [],
   "source": [
    "class SimpleNet(nn.Module):\n",
    "    def __init__(self):\n",
    "        super(SimpleNet, self).__init__()\n",
    "        self.fc1 = nn.Linear(28*28, 256)\n",
    "        self.dropout = nn.Dropout(p=0.5)  # Dropout for regularization\n",
    "        self.fc2 = nn.Linear(256, 128)\n",
    "        self.fc3 = nn.Linear(128, 10)\n",
    "\n",
    "    def forward(self, x):\n",
    "        x = x.view(-1, 28*28)\n",
    "        x = torch.relu(self.fc1(x))\n",
    "        x = self.dropout(x)\n",
    "        x = torch.relu(self.fc2(x))\n",
    "        x = self.fc3(x)\n",
    "        return x\n",
    "\n",
    "model = SimpleNet().to(device)"
   ]
  },
  {
   "cell_type": "markdown",
   "id": "060ef1fa-ffad-4b6a-ac2f-d4855b152d94",
   "metadata": {},
   "source": [
    "#### Optimizers (e.g., SGD, Adam, etc.)\n",
    "\n",
    "**Optimizers are algorithms used to update model parameters based on computed gradients during training. PyTorch provides several built-in optimizers, including _Stochastic Gradient Descent (SGD)_, which updates parameters using the negative gradient and can include momentum for faster convergence, and _Adam_, which combines momentum and adaptive learning rates for efficient and robust optimization. Choosing the right optimizer depends on the problem and data; SGD often works well with large datasets and proper learning rate schedules, while Adam generally converges faster and requires less hyperparameter tuning.**"
   ]
  },
  {
   "cell_type": "code",
   "execution_count": 59,
   "id": "59d18724-fe56-40b8-b784-bc17b9e1ee33",
   "metadata": {},
   "outputs": [],
   "source": [
    "criterion = nn.CrossEntropyLoss()\n",
    "optimizer = optim.Adam(model.parameters(), lr=0.001, weight_decay=1e-4)  # L2 regularization\n",
    "scheduler = optim.lr_scheduler.StepLR(optimizer, step_size=5, gamma=0.9)  # Reduce LR every 5 epochs"
   ]
  },
  {
   "cell_type": "markdown",
   "id": "957ceaba-b96b-498c-989b-4ba615850bc4",
   "metadata": {},
   "source": [
    "#### Learning Rate Schedulers\n",
    "\n",
    "**Learning rate schedulers dynamically adjust the learning rate during training to improve convergence and avoid getting stuck in local minima. PyTorch provides various schedulers such as _StepLR_, which reduces the learning rate by a factor after a fixed number of epochs, and _ReduceLROnPlateau_, which decreases the learning rate when validation loss stops improving. Proper use of schedulers can significantly improve training stability and final model performance by ensuring the learning rate is neither too high (causing divergence) nor too low (causing slow convergence).**"
   ]
  },
  {
   "cell_type": "code",
   "execution_count": 60,
   "id": "7b8feae4-ed54-42c4-92f2-1329816f4cf1",
   "metadata": {},
   "outputs": [],
   "source": [
    "def train(model, loader, criterion, optimizer):\n",
    "    model.train()\n",
    "    total_loss = 0\n",
    "    correct = 0\n",
    "    total = 0\n",
    "    \n",
    "    for images, labels in loader:\n",
    "        images, labels = images.to(device), labels.to(device)\n",
    "        \n",
    "        # Forward pass\n",
    "        outputs = model(images)\n",
    "        loss = criterion(outputs, labels)\n",
    "        \n",
    "        # Backward pass\n",
    "        optimizer.zero_grad()\n",
    "        loss.backward()\n",
    "        optimizer.step()\n",
    "        \n",
    "        # Track metrics\n",
    "        total_loss += loss.item()\n",
    "        _, predicted = torch.max(outputs, 1)\n",
    "        total += labels.size(0)\n",
    "        correct += (predicted == labels).sum().item()\n",
    "    \n",
    "    return total_loss / len(loader), 100 * correct / total\n",
    "\n",
    "\n",
    "def evaluate(model, loader, criterion):\n",
    "    model.eval()\n",
    "    total_loss = 0\n",
    "    correct = 0\n",
    "    total = 0\n",
    "    \n",
    "    with torch.no_grad():\n",
    "        for images, labels in loader:\n",
    "            images, labels = images.to(device), labels.to(device)\n",
    "            outputs = model(images)\n",
    "            loss = criterion(outputs, labels)\n",
    "            \n",
    "            total_loss += loss.item()\n",
    "            _, predicted = torch.max(outputs, 1)\n",
    "            total += labels.size(0)\n",
    "            correct += (predicted == labels).sum().item()\n",
    "    \n",
    "    return total_loss / len(loader), 100 * correct / total"
   ]
  },
  {
   "cell_type": "code",
   "execution_count": 61,
   "id": "bec9d9eb-3e02-4fa1-b881-d97f8b515643",
   "metadata": {},
   "outputs": [
    {
     "name": "stdout",
     "output_type": "stream",
     "text": [
      "Epoch [1/10], Train Loss: 0.5838, Train Acc: 78.61%, Val Loss: 0.4476, Val Acc: 83.60%\n",
      "Epoch [2/10], Train Loss: 0.4625, Train Acc: 83.10%, Val Loss: 0.4146, Val Acc: 84.87%\n",
      "Epoch [3/10], Train Loss: 0.4257, Train Acc: 84.38%, Val Loss: 0.3924, Val Acc: 85.36%\n",
      "Epoch [4/10], Train Loss: 0.4041, Train Acc: 85.17%, Val Loss: 0.3789, Val Acc: 86.18%\n",
      "Epoch [5/10], Train Loss: 0.3960, Train Acc: 85.50%, Val Loss: 0.3960, Val Acc: 85.27%\n",
      "Epoch [6/10], Train Loss: 0.3787, Train Acc: 86.12%, Val Loss: 0.3708, Val Acc: 86.57%\n",
      "Epoch [7/10], Train Loss: 0.3687, Train Acc: 86.44%, Val Loss: 0.3604, Val Acc: 86.54%\n",
      "Epoch [8/10], Train Loss: 0.3620, Train Acc: 86.55%, Val Loss: 0.3590, Val Acc: 86.87%\n",
      "Epoch [9/10], Train Loss: 0.3562, Train Acc: 86.86%, Val Loss: 0.3505, Val Acc: 87.56%\n",
      "Epoch [10/10], Train Loss: 0.3509, Train Acc: 87.28%, Val Loss: 0.3534, Val Acc: 87.11%\n"
     ]
    }
   ],
   "source": [
    "num_epochs = 10\n",
    "for epoch in range(num_epochs):\n",
    "    train_loss, train_acc = train(model, train_loader, criterion, optimizer)\n",
    "    val_loss, val_acc = evaluate(model, test_loader, criterion)\n",
    "    \n",
    "    scheduler.step()\n",
    "    \n",
    "    print(f\"Epoch [{epoch+1}/{num_epochs}], \"\n",
    "          f\"Train Loss: {train_loss:.4f}, Train Acc: {train_acc:.2f}%, \"\n",
    "          f\"Val Loss: {val_loss:.4f}, Val Acc: {val_acc:.2f}%\")"
   ]
  },
  {
   "cell_type": "markdown",
   "id": "476b8a4d-2fdc-4d4b-9e3c-23b5f6b2830d",
   "metadata": {},
   "source": [
    "### training loop for a simple model, experimenting with different optimizers.\n",
    "\n",
    "#### Setup: Import Libraries and Load Data"
   ]
  },
  {
   "cell_type": "code",
   "execution_count": 62,
   "id": "361e5c5c-4fc8-48e7-b2b0-bc20f9c54e09",
   "metadata": {},
   "outputs": [],
   "source": [
    "import torch\n",
    "import torch.nn as nn\n",
    "import torch.optim as optim\n",
    "from torchvision import datasets, transforms\n",
    "from torch.utils.data import DataLoader\n",
    "\n",
    "# Device configuration\n",
    "device = torch.device('cuda' if torch.cuda.is_available() else 'cpu')\n",
    "\n",
    "# Data transformation and loading\n",
    "transform = transforms.Compose([\n",
    "    transforms.ToTensor(),\n",
    "    transforms.Normalize((0.5,), (0.5,))\n",
    "])\n",
    "\n",
    "train_dataset = datasets.MNIST(root='./data', train=True, download=True, transform=transform)\n",
    "test_dataset = datasets.MNIST(root='./data', train=False, download=True, transform=transform)\n",
    "\n",
    "train_loader = DataLoader(dataset=train_dataset, batch_size=64, shuffle=True)\n",
    "test_loader = DataLoader(dataset=test_dataset, batch_size=64, shuffle=False)"
   ]
  },
  {
   "cell_type": "markdown",
   "id": "61132835-eba9-40ad-ad1e-96ea74e01b8c",
   "metadata": {},
   "source": [
    "#### Define a Simple Model"
   ]
  },
  {
   "cell_type": "code",
   "execution_count": 63,
   "id": "ac8e2770-903c-45f0-9dd5-f810fa2b9e18",
   "metadata": {},
   "outputs": [],
   "source": [
    "class SimpleNet(nn.Module):\n",
    "    def __init__(self):\n",
    "        super(SimpleNet, self).__init__()\n",
    "        self.fc1 = nn.Linear(28*28, 128)\n",
    "        self.fc2 = nn.Linear(128, 64)\n",
    "        self.fc3 = nn.Linear(64, 10)\n",
    "    \n",
    "    def forward(self, x):\n",
    "        x = x.view(-1, 28*28)\n",
    "        x = torch.relu(self.fc1(x))\n",
    "        x = torch.relu(self.fc2(x))\n",
    "        x = self.fc3(x)\n",
    "        return x\n",
    "\n",
    "model = SimpleNet().to(device)"
   ]
  },
  {
   "cell_type": "markdown",
   "id": "58204244-3e06-4d25-8b77-6099a2b7eac4",
   "metadata": {},
   "source": [
    "#### Define Loss Function"
   ]
  },
  {
   "cell_type": "code",
   "execution_count": 64,
   "id": "789668b4-a6aa-48c2-8275-f4ec053e8e58",
   "metadata": {},
   "outputs": [],
   "source": [
    "criterion = nn.CrossEntropyLoss()"
   ]
  },
  {
   "cell_type": "markdown",
   "id": "18cb145b-ded3-486e-9748-21a1336da85a",
   "metadata": {},
   "source": [
    "#### Training & Evaluation Functions"
   ]
  },
  {
   "cell_type": "code",
   "execution_count": 65,
   "id": "85356582-8031-451e-ad1c-b134008da7cc",
   "metadata": {},
   "outputs": [],
   "source": [
    "def train(model, loader, criterion, optimizer):\n",
    "    model.train()\n",
    "    total_loss, correct, total = 0, 0, 0\n",
    "    \n",
    "    for images, labels in loader:\n",
    "        images, labels = images.to(device), labels.to(device)\n",
    "        \n",
    "        # Forward pass\n",
    "        outputs = model(images)\n",
    "        loss = criterion(outputs, labels)\n",
    "        \n",
    "        # Backward pass\n",
    "        optimizer.zero_grad()\n",
    "        loss.backward()\n",
    "        optimizer.step()\n",
    "        \n",
    "        total_loss += loss.item()\n",
    "        _, predicted = torch.max(outputs, 1)\n",
    "        total += labels.size(0)\n",
    "        correct += (predicted == labels).sum().item()\n",
    "    \n",
    "    return total_loss / len(loader), 100 * correct / total\n",
    "\n",
    "\n",
    "def evaluate(model, loader, criterion):\n",
    "    model.eval()\n",
    "    total_loss, correct, total = 0, 0, 0\n",
    "    \n",
    "    with torch.no_grad():\n",
    "        for images, labels in loader:\n",
    "            images, labels = images.to(device), labels.to(device)\n",
    "            outputs = model(images)\n",
    "            loss = criterion(outputs, labels)\n",
    "            \n",
    "            total_loss += loss.item()\n",
    "            _, predicted = torch.max(outputs, 1)\n",
    "            total += labels.size(0)\n",
    "            correct += (predicted == labels).sum().item()\n",
    "    \n",
    "    return total_loss / len(loader), 100 * correct / total"
   ]
  },
  {
   "cell_type": "markdown",
   "id": "5c851d85-88a5-4ba1-819e-005f6eaab446",
   "metadata": {},
   "source": [
    "#### Experiment with Different Optimizers"
   ]
  },
  {
   "cell_type": "code",
   "execution_count": 66,
   "id": "d10e03cd-b4bc-4128-aec6-07aeec5d1804",
   "metadata": {},
   "outputs": [
    {
     "name": "stdout",
     "output_type": "stream",
     "text": [
      "\n",
      "--- Training with SGD ---\n",
      "Epoch [1/5], Train Loss: 2.2973, Train Acc: 10.80%, Val Loss: 2.2968, Val Acc: 10.61%\n",
      "Epoch [2/5], Train Loss: 2.2973, Train Acc: 10.80%, Val Loss: 2.2968, Val Acc: 10.61%\n",
      "Epoch [3/5], Train Loss: 2.2973, Train Acc: 10.80%, Val Loss: 2.2968, Val Acc: 10.61%\n",
      "Epoch [4/5], Train Loss: 2.2972, Train Acc: 10.80%, Val Loss: 2.2968, Val Acc: 10.61%\n",
      "Epoch [5/5], Train Loss: 2.2972, Train Acc: 10.80%, Val Loss: 2.2968, Val Acc: 10.61%\n",
      "\n",
      "--- Training with Adam ---\n",
      "Epoch [1/5], Train Loss: 2.3068, Train Acc: 9.93%, Val Loss: 2.3080, Val Acc: 10.12%\n",
      "Epoch [2/5], Train Loss: 2.3068, Train Acc: 9.93%, Val Loss: 2.3080, Val Acc: 10.12%\n",
      "Epoch [3/5], Train Loss: 2.3068, Train Acc: 9.93%, Val Loss: 2.3080, Val Acc: 10.12%\n",
      "Epoch [4/5], Train Loss: 2.3068, Train Acc: 9.93%, Val Loss: 2.3080, Val Acc: 10.12%\n",
      "Epoch [5/5], Train Loss: 2.3069, Train Acc: 9.93%, Val Loss: 2.3080, Val Acc: 10.12%\n",
      "\n",
      "--- Training with RMSprop ---\n",
      "Epoch [1/5], Train Loss: 2.3128, Train Acc: 9.64%, Val Loss: 2.3127, Val Acc: 9.83%\n",
      "Epoch [2/5], Train Loss: 2.3128, Train Acc: 9.64%, Val Loss: 2.3127, Val Acc: 9.83%\n",
      "Epoch [3/5], Train Loss: 2.3128, Train Acc: 9.64%, Val Loss: 2.3127, Val Acc: 9.83%\n",
      "Epoch [4/5], Train Loss: 2.3128, Train Acc: 9.64%, Val Loss: 2.3127, Val Acc: 9.83%\n",
      "Epoch [5/5], Train Loss: 2.3128, Train Acc: 9.64%, Val Loss: 2.3127, Val Acc: 9.83%\n"
     ]
    }
   ],
   "source": [
    "optimizers = {\n",
    "    'SGD': optim.SGD(model.parameters(), lr=0.01, momentum=0.9),\n",
    "    'Adam': optim.Adam(model.parameters(), lr=0.001),\n",
    "    'RMSprop': optim.RMSprop(model.parameters(), lr=0.001)\n",
    "}\n",
    "\n",
    "num_epochs = 5\n",
    "\n",
    "for opt_name, optimizer in optimizers.items():\n",
    "    print(f\"\\n--- Training with {opt_name} ---\")\n",
    "    \n",
    "    # Re-initialize model for each optimizer\n",
    "    model = SimpleNet().to(device)\n",
    "    \n",
    "    for epoch in range(num_epochs):\n",
    "        train_loss, train_acc = train(model, train_loader, criterion, optimizer)\n",
    "        val_loss, val_acc = evaluate(model, test_loader, criterion)\n",
    "        \n",
    "        print(f\"Epoch [{epoch+1}/{num_epochs}], \"\n",
    "              f\"Train Loss: {train_loss:.4f}, Train Acc: {train_acc:.2f}%, \"\n",
    "              f\"Val Loss: {val_loss:.4f}, Val Acc: {val_acc:.2f}%\")"
   ]
  },
  {
   "cell_type": "markdown",
   "id": "8151e460-0b79-46ed-9774-2d17a89fca3d",
   "metadata": {},
   "source": [
    "## Convolutional Neural Networks (CNNs)\n",
    "\n",
    "**_Convolutional Neural Networks (CNNs) are deep learning models used for image processing tasks. They automatically learn spatial hierarchies of features from images through convolutional, pooling and fully connected layers._**\n",
    "\n",
    "### Convolutional layer\n",
    "\n",
    "**It is the first building block of CNN. As its name suggests, the primary mathematical task performed is convolution, which involves applying a sliding window function to a matrix of pixels representing an image. The sliding function applied to the matrix is called a kernel or filter. In the convolution layer, several filters of equal size are applied, and each filter is used to recognize a specific pattern in the image, such as the curvature of the digits, edges, the overall shape of the digits, and more.**\n",
    "\n",
    "\n",
    "### Pooling layer\n",
    "\n",
    "**The goal of the pooling layer is to pull the most significant features from the convoluted matrix. This is done by applying some aggregating operations, which reduce the dimension of the feature map (convoluted matrix0, thereby reducing the memory used while training the network. Pooling is also relevant for mitigating overfitting.**\n",
    "\n",
    "### Fully connected layers\n",
    "\n",
    "**These layers are in the last layer of the convolutional neural network, and their input correspond to the flattened one-dimensional matrix generated by the last pooling layer. ReLU activation functions are applied to them for non-linearity.**"
   ]
  },
  {
   "attachments": {},
   "cell_type": "markdown",
   "id": "9cd31ca4-6393-4830-9554-fe537bf07a9c",
   "metadata": {},
   "source": [
    "### LeNet-5\n",
    "\n",
    "**It is also known as the _Classic Neural Network_ that was designed by Yann Lecun, Leon Bottou, Yosuha Bengio, and Patrick Haffner for handwritten and machine-printed character recognition in the 1990's which they called LeNet-5. The architecture was designed to identify handwritten digits in the MNIST dataset. The architecture is pretty straightforward and simple to understand. The Input images were grayscale with dimensions of 32*32*1, followed by two pairs of Convolution layers with a stride of 2 and an Average pooling layer with a stride of 1. Finally, fully connected layers with softmax activation in the output layer. Traditionally, this network had 60,000 parameters in total.**"
   ]
  },
  {
   "cell_type": "code",
   "execution_count": 67,
   "id": "6d9ca5c7-a255-4dee-a75a-08319aade64a",
   "metadata": {},
   "outputs": [
    {
     "name": "stdout",
     "output_type": "stream",
     "text": [
      "Epoch [1/10], Step [400/938], Loss: 0.0821\n",
      "Epoch [1/10], Step [800/938], Loss: 0.1018\n",
      "Epoch [2/10], Step [400/938], Loss: 0.0293\n",
      "Epoch [2/10], Step [800/938], Loss: 0.0443\n",
      "Epoch [3/10], Step [400/938], Loss: 0.0442\n",
      "Epoch [3/10], Step [800/938], Loss: 0.0740\n",
      "Epoch [4/10], Step [400/938], Loss: 0.0187\n",
      "Epoch [4/10], Step [800/938], Loss: 0.0100\n",
      "Epoch [5/10], Step [400/938], Loss: 0.0606\n",
      "Epoch [5/10], Step [800/938], Loss: 0.0339\n",
      "Epoch [6/10], Step [400/938], Loss: 0.0079\n",
      "Epoch [6/10], Step [800/938], Loss: 0.1843\n",
      "Epoch [7/10], Step [400/938], Loss: 0.0563\n",
      "Epoch [7/10], Step [800/938], Loss: 0.0004\n",
      "Epoch [8/10], Step [400/938], Loss: 0.0276\n",
      "Epoch [8/10], Step [800/938], Loss: 0.0883\n",
      "Epoch [9/10], Step [400/938], Loss: 0.0015\n",
      "Epoch [9/10], Step [800/938], Loss: 0.0066\n",
      "Epoch [10/10], Step [400/938], Loss: 0.0168\n",
      "Epoch [10/10], Step [800/938], Loss: 0.0897\n",
      "Accuracy of the network on the 10000 test images: 98.44 %\n",
      "Accuracy of the network on the 10000 test images: 99.22 %\n",
      "Accuracy of the network on the 10000 test images: 99.48 %\n",
      "Accuracy of the network on the 10000 test images: 99.22 %\n",
      "Accuracy of the network on the 10000 test images: 99.06 %\n",
      "Accuracy of the network on the 10000 test images: 99.22 %\n",
      "Accuracy of the network on the 10000 test images: 99.33 %\n",
      "Accuracy of the network on the 10000 test images: 99.22 %\n",
      "Accuracy of the network on the 10000 test images: 99.31 %\n",
      "Accuracy of the network on the 10000 test images: 99.38 %\n",
      "Accuracy of the network on the 10000 test images: 99.43 %\n",
      "Accuracy of the network on the 10000 test images: 99.48 %\n",
      "Accuracy of the network on the 10000 test images: 99.52 %\n",
      "Accuracy of the network on the 10000 test images: 99.55 %\n",
      "Accuracy of the network on the 10000 test images: 99.58 %\n",
      "Accuracy of the network on the 10000 test images: 99.61 %\n",
      "Accuracy of the network on the 10000 test images: 99.63 %\n",
      "Accuracy of the network on the 10000 test images: 99.65 %\n",
      "Accuracy of the network on the 10000 test images: 99.59 %\n",
      "Accuracy of the network on the 10000 test images: 99.53 %\n",
      "Accuracy of the network on the 10000 test images: 99.55 %\n",
      "Accuracy of the network on the 10000 test images: 99.57 %\n",
      "Accuracy of the network on the 10000 test images: 99.52 %\n",
      "Accuracy of the network on the 10000 test images: 99.54 %\n",
      "Accuracy of the network on the 10000 test images: 99.56 %\n",
      "Accuracy of the network on the 10000 test images: 99.58 %\n",
      "Accuracy of the network on the 10000 test images: 99.59 %\n",
      "Accuracy of the network on the 10000 test images: 99.61 %\n",
      "Accuracy of the network on the 10000 test images: 99.62 %\n",
      "Accuracy of the network on the 10000 test images: 99.64 %\n",
      "Accuracy of the network on the 10000 test images: 99.65 %\n",
      "Accuracy of the network on the 10000 test images: 99.66 %\n",
      "Accuracy of the network on the 10000 test images: 99.67 %\n",
      "Accuracy of the network on the 10000 test images: 99.63 %\n",
      "Accuracy of the network on the 10000 test images: 99.60 %\n",
      "Accuracy of the network on the 10000 test images: 99.61 %\n",
      "Accuracy of the network on the 10000 test images: 99.58 %\n",
      "Accuracy of the network on the 10000 test images: 99.51 %\n",
      "Accuracy of the network on the 10000 test images: 99.44 %\n",
      "Accuracy of the network on the 10000 test images: 99.45 %\n",
      "Accuracy of the network on the 10000 test images: 99.43 %\n",
      "Accuracy of the network on the 10000 test images: 99.37 %\n",
      "Accuracy of the network on the 10000 test images: 99.31 %\n",
      "Accuracy of the network on the 10000 test images: 99.29 %\n",
      "Accuracy of the network on the 10000 test images: 99.27 %\n",
      "Accuracy of the network on the 10000 test images: 99.25 %\n",
      "Accuracy of the network on the 10000 test images: 99.27 %\n",
      "Accuracy of the network on the 10000 test images: 99.28 %\n",
      "Accuracy of the network on the 10000 test images: 99.30 %\n",
      "Accuracy of the network on the 10000 test images: 99.31 %\n",
      "Accuracy of the network on the 10000 test images: 99.33 %\n",
      "Accuracy of the network on the 10000 test images: 99.31 %\n",
      "Accuracy of the network on the 10000 test images: 99.32 %\n",
      "Accuracy of the network on the 10000 test images: 99.33 %\n",
      "Accuracy of the network on the 10000 test images: 99.32 %\n",
      "Accuracy of the network on the 10000 test images: 99.33 %\n",
      "Accuracy of the network on the 10000 test images: 99.31 %\n",
      "Accuracy of the network on the 10000 test images: 99.33 %\n",
      "Accuracy of the network on the 10000 test images: 99.34 %\n",
      "Accuracy of the network on the 10000 test images: 99.35 %\n",
      "Accuracy of the network on the 10000 test images: 99.33 %\n",
      "Accuracy of the network on the 10000 test images: 99.34 %\n",
      "Accuracy of the network on the 10000 test images: 99.33 %\n",
      "Accuracy of the network on the 10000 test images: 99.34 %\n",
      "Accuracy of the network on the 10000 test images: 99.33 %\n",
      "Accuracy of the network on the 10000 test images: 99.34 %\n",
      "Accuracy of the network on the 10000 test images: 99.35 %\n",
      "Accuracy of the network on the 10000 test images: 99.36 %\n",
      "Accuracy of the network on the 10000 test images: 99.34 %\n",
      "Accuracy of the network on the 10000 test images: 99.33 %\n",
      "Accuracy of the network on the 10000 test images: 99.34 %\n",
      "Accuracy of the network on the 10000 test images: 99.33 %\n",
      "Accuracy of the network on the 10000 test images: 99.32 %\n",
      "Accuracy of the network on the 10000 test images: 99.30 %\n",
      "Accuracy of the network on the 10000 test images: 99.31 %\n",
      "Accuracy of the network on the 10000 test images: 99.32 %\n",
      "Accuracy of the network on the 10000 test images: 99.33 %\n",
      "Accuracy of the network on the 10000 test images: 99.30 %\n",
      "Accuracy of the network on the 10000 test images: 99.29 %\n",
      "Accuracy of the network on the 10000 test images: 99.30 %\n",
      "Accuracy of the network on the 10000 test images: 99.29 %\n",
      "Accuracy of the network on the 10000 test images: 99.29 %\n",
      "Accuracy of the network on the 10000 test images: 99.28 %\n",
      "Accuracy of the network on the 10000 test images: 99.29 %\n",
      "Accuracy of the network on the 10000 test images: 99.30 %\n",
      "Accuracy of the network on the 10000 test images: 99.29 %\n",
      "Accuracy of the network on the 10000 test images: 99.28 %\n",
      "Accuracy of the network on the 10000 test images: 99.29 %\n",
      "Accuracy of the network on the 10000 test images: 99.30 %\n",
      "Accuracy of the network on the 10000 test images: 99.29 %\n",
      "Accuracy of the network on the 10000 test images: 99.30 %\n",
      "Accuracy of the network on the 10000 test images: 99.29 %\n",
      "Accuracy of the network on the 10000 test images: 99.29 %\n",
      "Accuracy of the network on the 10000 test images: 99.30 %\n",
      "Accuracy of the network on the 10000 test images: 99.29 %\n",
      "Accuracy of the network on the 10000 test images: 99.28 %\n",
      "Accuracy of the network on the 10000 test images: 99.29 %\n",
      "Accuracy of the network on the 10000 test images: 99.28 %\n",
      "Accuracy of the network on the 10000 test images: 99.29 %\n",
      "Accuracy of the network on the 10000 test images: 99.30 %\n",
      "Accuracy of the network on the 10000 test images: 99.30 %\n",
      "Accuracy of the network on the 10000 test images: 99.31 %\n",
      "Accuracy of the network on the 10000 test images: 99.30 %\n",
      "Accuracy of the network on the 10000 test images: 99.29 %\n",
      "Accuracy of the network on the 10000 test images: 99.30 %\n",
      "Accuracy of the network on the 10000 test images: 99.31 %\n",
      "Accuracy of the network on the 10000 test images: 99.31 %\n",
      "Accuracy of the network on the 10000 test images: 99.32 %\n",
      "Accuracy of the network on the 10000 test images: 99.33 %\n",
      "Accuracy of the network on the 10000 test images: 99.33 %\n",
      "Accuracy of the network on the 10000 test images: 99.34 %\n",
      "Accuracy of the network on the 10000 test images: 99.34 %\n",
      "Accuracy of the network on the 10000 test images: 99.34 %\n",
      "Accuracy of the network on the 10000 test images: 99.34 %\n",
      "Accuracy of the network on the 10000 test images: 99.35 %\n",
      "Accuracy of the network on the 10000 test images: 99.34 %\n",
      "Accuracy of the network on the 10000 test images: 99.35 %\n",
      "Accuracy of the network on the 10000 test images: 99.34 %\n",
      "Accuracy of the network on the 10000 test images: 99.32 %\n",
      "Accuracy of the network on the 10000 test images: 99.32 %\n",
      "Accuracy of the network on the 10000 test images: 99.30 %\n",
      "Accuracy of the network on the 10000 test images: 99.31 %\n",
      "Accuracy of the network on the 10000 test images: 99.29 %\n",
      "Accuracy of the network on the 10000 test images: 99.28 %\n",
      "Accuracy of the network on the 10000 test images: 99.28 %\n",
      "Accuracy of the network on the 10000 test images: 99.28 %\n",
      "Accuracy of the network on the 10000 test images: 99.27 %\n",
      "Accuracy of the network on the 10000 test images: 99.26 %\n",
      "Accuracy of the network on the 10000 test images: 99.25 %\n",
      "Accuracy of the network on the 10000 test images: 99.24 %\n",
      "Accuracy of the network on the 10000 test images: 99.24 %\n",
      "Accuracy of the network on the 10000 test images: 99.23 %\n",
      "Accuracy of the network on the 10000 test images: 99.20 %\n",
      "Accuracy of the network on the 10000 test images: 99.21 %\n",
      "Accuracy of the network on the 10000 test images: 99.20 %\n",
      "Accuracy of the network on the 10000 test images: 99.21 %\n",
      "Accuracy of the network on the 10000 test images: 99.21 %\n",
      "Accuracy of the network on the 10000 test images: 99.20 %\n",
      "Accuracy of the network on the 10000 test images: 99.20 %\n",
      "Accuracy of the network on the 10000 test images: 99.21 %\n",
      "Accuracy of the network on the 10000 test images: 99.21 %\n",
      "Accuracy of the network on the 10000 test images: 99.22 %\n",
      "Accuracy of the network on the 10000 test images: 99.22 %\n",
      "Accuracy of the network on the 10000 test images: 99.21 %\n",
      "Accuracy of the network on the 10000 test images: 99.19 %\n",
      "Accuracy of the network on the 10000 test images: 99.19 %\n",
      "Accuracy of the network on the 10000 test images: 99.19 %\n",
      "Accuracy of the network on the 10000 test images: 99.18 %\n",
      "Accuracy of the network on the 10000 test images: 99.18 %\n",
      "Accuracy of the network on the 10000 test images: 99.19 %\n",
      "Accuracy of the network on the 10000 test images: 99.18 %\n",
      "Accuracy of the network on the 10000 test images: 99.16 %\n",
      "Accuracy of the network on the 10000 test images: 99.15 %\n",
      "Accuracy of the network on the 10000 test images: 99.16 %\n",
      "Accuracy of the network on the 10000 test images: 99.16 %\n",
      "Accuracy of the network on the 10000 test images: 99.16 %\n",
      "Accuracy of the network on the 10000 test images: 99.16 %\n"
     ]
    }
   ],
   "source": [
    "# Load in relevant libraries, and alias where appropriate\n",
    "import torch\n",
    "import torch.nn as nn\n",
    "import torchvision\n",
    "import torchvision.transforms as transforms\n",
    "\n",
    "# Define relevant variables for the ML task\n",
    "batch_size = 64\n",
    "num_classes = 10\n",
    "learning_rate = 0.001\n",
    "num_epochs = 10\n",
    "\n",
    "# Device will determine whether to run the training on GPU or CPU.\n",
    "device = torch.device('cuda' if torch.cuda.is_available() else 'cpu')\n",
    "\n",
    "\n",
    "# Loading the dataset and preprocessing it\n",
    "train_dataset = torchvision.datasets.MNIST(root = './data',\n",
    "                                           train = True,\n",
    "                                           transform = transforms.Compose([\n",
    "                                               transforms.Resize((32, 32)),\n",
    "                                               transforms.ToTensor(),\n",
    "                                               transforms.Normalize(mean = (0.1307,), std = (0.3081,))]),\n",
    "                                           download = True)\n",
    "\n",
    "test_dataset = torchvision.datasets.MNIST(root = './data',\n",
    "                                          train = False, \n",
    "                                          transform = transforms.Compose([\n",
    "                                              transforms.Resize((32, 32)),\n",
    "                                              transforms.ToTensor(),\n",
    "                                              transforms.Normalize(mean = (0.1325,), std = (0.3105,))]),\n",
    "                                          download=True)\n",
    "\n",
    "train_loader = torch.utils.data.DataLoader(dataset = train_dataset,\n",
    "                                           batch_size = batch_size,\n",
    "                                           shuffle = True)\n",
    "\n",
    "test_loader = torch.utils.data.DataLoader(dataset = test_dataset,\n",
    "                                          batch_size = batch_size,\n",
    "                                          shuffle = True)\n",
    "\n",
    "\n",
    "# Defining the convolutional neural network\n",
    "class LeNet5(nn.Module):\n",
    "    def __init__(self, num_classes):\n",
    "        super(LeNet5, self).__init__()\n",
    "        self.layer1 = nn.Sequential(\n",
    "            nn.Conv2d(1, 6, kernel_size=5, stride=1, padding=0),\n",
    "            nn.BatchNorm2d(6),\n",
    "            nn.ReLU(),\n",
    "            nn.MaxPool2d(kernel_size = 2, stride = 2))\n",
    "        self.layer2 = nn.Sequential(\n",
    "            nn.Conv2d(6, 16, kernel_size=5, stride=1, padding=0),\n",
    "            nn.BatchNorm2d(16),\n",
    "            nn.ReLU(),\n",
    "            nn.MaxPool2d(kernel_size = 2, stride = 2))\n",
    "        self.fc = nn.Linear(400, 120)\n",
    "        self.relu = nn.ReLU()\n",
    "        self.fc1 = nn.Linear(120, 84)\n",
    "        self.relu1 = nn.ReLU()\n",
    "        self.fc2 = nn.Linear(84, num_classes)\n",
    "\n",
    "    def forward(self, x):  # Corrected the method name here\n",
    "        out = self.layer1(x)\n",
    "        out = self.layer2(out)\n",
    "        out = out.reshape(out.size(0), -1)\n",
    "        out = self.fc(out)\n",
    "        out = self.relu(out)\n",
    "        out = self.fc1(out)\n",
    "        out = self.relu1(out)\n",
    "        out = self.fc2(out)\n",
    "        return out\n",
    "\n",
    "model = LeNet5(num_classes).to(device)\n",
    "\n",
    "# Setting the loss function\n",
    "cost = nn.CrossEntropyLoss()\n",
    "\n",
    "# Setting the optimizer with the model parameters and learning rate\n",
    "optimizer = torch.optim.Adam(model.parameters(), lr=learning_rate)\n",
    "\n",
    "# this is defined to point out how many steps are remaining when training\n",
    "total_step = len(train_loader)\n",
    "\n",
    "# model training\n",
    "total_step = len(train_loader)\n",
    "for epoch in range(num_epochs):\n",
    "    for i, (images, labels) in enumerate(train_loader):\n",
    "        images = images.to(device)\n",
    "        labels = labels.to(device)\n",
    "\n",
    "        # Forward pass\n",
    "        outputs = model(images)\n",
    "        loss = cost(outputs, labels)\n",
    "        # Backward and optimize\n",
    "        optimizer.zero_grad()\n",
    "        loss.backward()\n",
    "        optimizer.step()\n",
    "        if (i+1) % 400 == 0:\n",
    "            print(\"Epoch [{}/{}], Step [{}/{}], Loss: {:.4f}\".format(epoch+1, num_epochs, i+1, total_step, loss.item()))\n",
    "\n",
    "# Model testing\n",
    "# In the test phase, we don't need to compute gradients (for memory efficiency)\n",
    "\n",
    "model.eval() # set the model to evaluation mode\n",
    "\n",
    "with torch.no_grad():\n",
    "    correct = 0\n",
    "    total = 0\n",
    "\n",
    "    for images, labels in test_loader:\n",
    "        images = images.to(device)\n",
    "        labels = labels.to(device)\n",
    "\n",
    "        outputs = model(images)\n",
    "        _, predicted = torch.max(outputs.data, 1)\n",
    "\n",
    "        total += labels.size(0)\n",
    "        correct += (predicted == labels).sum().item()\n",
    "\n",
    "        accuracy = 100 * correct / total\n",
    "        print(f\"Accuracy of the network on the 10000 test images: {accuracy:.2f} %\")"
   ]
  },
  {
   "cell_type": "markdown",
   "id": "22372bb7-6ce0-4ed1-9767-e66f5aacb7e3",
   "metadata": {},
   "source": [
    "### AlexNet\n",
    "\n",
    "**It is very similar to LeNet-5 but was deeper with 8 layers, with more filters, stacked convolutional layers, max pooling, dropout, data augmentation, ReLU, and SGD. It was designed by Alex Krizhevsky, Ilya Sutskever, and Geoffery E. Hinton. It was trained on two Nvidia GeForce 580 GPUs; therefore, the network was split into two pipelines. AlexNet has 5 Convolutional layers and 3 fully connected layers. AlexNet consists of approximately 60 million parameters. A major drawback of this network is that it comprises too many hyperparameters. A new concept of Local Response Normalization was also introduced.**\n",
    "\n",
    "### VGG-16 Net\n",
    "\n",
    "**The major shortcoming of too many hyper-parameters of AlexNet was solved by The major shortcoming of too many hyper-parameters of AlexNet was solved by VGG Net by replacing large kernel-sized filters (11 and 5 in the first and second convolution layer, respectively) with multiple 3×3 kernel-sized filters one after another. The architecture developed by Simonyan and Zisserman was the 1st runner-up of the Visual Recognition Challenge of 2014. The architecture consists of 3*3 Convolutional filters, 2*2 Max Pooling layer with a stride of 1, keeping the padding the same to preserve the dimension. In total, there are 16 layers in the network where the input image is RGB format with dimensions of 224*224*3, followed by 5 pairs of Convolution(filters: 64, 128, 256,512,512) and Max Pooling. The output of these layers is fed into three fully connected layers and a softmax function in the output layer. In total, there are 138 million parameters in the VGG Net.**\n",
    "\n",
    "### Inception Net\n",
    "\n",
    "**Inception network, also known as GoogleLeNet, was proposed by developers at Google in “Going Deeper with Convolutions” in 2014. The motivation of InceptionNet comes from the presence of sparse features, Salient parts in the image that can have a large variation in size. Due to this, the selection of the right kernel size becomes extremely difficult, as big kernels are selected for global features and small kernels when the features are locally located. The InceptionNets resolve this by stacking multiple kernels at the same level. Typically, it uses 5*5, 3*3, and 1*1 filters in one go.**"
   ]
  },
  {
   "cell_type": "markdown",
   "id": "02e57125-65c2-48b1-a8b5-904a26c9cc9d",
   "metadata": {},
   "source": [
    "### ResNet\n",
    "\n",
    "**In order to solve the problem of the vanishing/exploding gradient, this architecture introduced the concept called Residual Blocks. In this network, we use a technique called skip connections. The skip connection connects activations of a  layer to further layers by skipping some layers in between. This forms a residual block. Resnets are made by stacking these residual blocks together. \n",
    "The approach behind this network is instead of layers learning the underlying mapping, we allow the network to fit the residual mapping. So, instead of say H(x), initial mapping, let the network fit,** \n",
    "\n",
    "`F(x) = H(x) - x is the \"residual\", which is usually smaller and easier to learn`\n",
    "\n",
    "`The network combines this residual F(x) with the input x using a shortcut or skip connection:`\n",
    "\n",
    "`which gives H(x) = F(x) + x.` "
   ]
  },
  {
   "cell_type": "raw",
   "id": "b490b09e-52a5-4c2b-89c8-f14fc17640e7",
   "metadata": {},
   "source": [
    "import numpy as np\n",
    "import torch\n",
    "import torch.nn as nn\n",
    "from torchvision import datasets\n",
    "from torchvision import transforms\n",
    "from torch.utils.data.sampler import SubsetRandomSampler\n",
    "import gc\n",
    "\n",
    "# Device configuration\n",
    "device = torch.device('cuda' if torch.cuda.is_available() else 'cpu')\n",
    "\n",
    "def data_loader(data_dir,\n",
    "                batch_size,\n",
    "                random_seed=42,\n",
    "                valid_size=0.1,\n",
    "                shuffle=True,\n",
    "                test=False):\n",
    "    normalize = transforms.Normalize(\n",
    "        mean=[0.4914, 0.4822, 0.4465],\n",
    "        std=[0.2023, 0.1994, 0.2010],\n",
    "    )\n",
    "\n",
    "    # define transforms\n",
    "    transform = transforms.Compose([\n",
    "        transforms.Resize((224, 224)),\n",
    "        transforms.ToTensor(),\n",
    "        normalize,\n",
    "    ])\n",
    "\n",
    "    if test:\n",
    "        dataset = datasets.CIFAR10(\n",
    "            root=data_dir, train=False,\n",
    "            download=True, transform=transform,\n",
    "        )\n",
    "        data_loader = torch.utils.data.DataLoader(\n",
    "            dataset, batch_size=batch_size, shuffle=shuffle\n",
    "        )\n",
    "        return data_loader\n",
    "\n",
    "    # load the dataset\n",
    "    train_dataset = datasets.CIFAR10(\n",
    "        root=data_dir, train=True,\n",
    "        download=True, transform=transform,\n",
    "    )\n",
    "\n",
    "    valid_dataset = datasets.CIFAR10(\n",
    "        root=data_dir, train=True,\n",
    "        download=True, transform=transform,\n",
    "    )\n",
    "\n",
    "    num_train = len(train_dataset)\n",
    "    indices = list(range(num_train))\n",
    "    split = int(np.floor(valid_size * num_train))\n",
    "\n",
    "    if shuffle:\n",
    "        np.random.seed(random_seed)\n",
    "        np.random.shuffle(indices)\n",
    "\n",
    "    train_idx, valid_idx = indices[split:], indices[:split]\n",
    "    train_sampler = SubsetRandomSampler(train_idx)\n",
    "    valid_sampler = SubsetRandomSampler(valid_idx)\n",
    "\n",
    "    train_loader = torch.utils.data.DataLoader(\n",
    "        train_dataset, batch_size=batch_size, sampler=train_sampler)\n",
    "\n",
    "    valid_loader = torch.utils.data.DataLoader(\n",
    "        valid_dataset, batch_size=batch_size, sampler=valid_sampler)\n",
    "\n",
    "    return (train_loader, valid_loader)\n",
    "\n",
    "# Define the ResidualBlock and ResNet classes\n",
    "class ResidualBlock(nn.Module):\n",
    "    def __init__(self, in_channels, out_channels, stride=1, downsample=None):\n",
    "        super(ResidualBlock, self).__init__()\n",
    "        self.conv1 = nn.Sequential(\n",
    "            nn.Conv2d(in_channels, out_channels, kernel_size=3, stride=stride, padding=1),\n",
    "            nn.BatchNorm2d(out_channels),\n",
    "            nn.ReLU()\n",
    "        )\n",
    "        self.conv2 = nn.Sequential(\n",
    "            nn.Conv2d(out_channels, out_channels, kernel_size=3, stride=1, padding=1),\n",
    "            nn.BatchNorm2d(out_channels)\n",
    "        )\n",
    "        self.downsample = downsample\n",
    "        self.relu = nn.ReLU()\n",
    "        self.out_channels = out_channels\n",
    "\n",
    "    def forward(self, x):\n",
    "        residual = x\n",
    "        out = self.conv1(x)\n",
    "        out = self.conv2(out)\n",
    "        if self.downsample:\n",
    "            residual = self.downsample(x)\n",
    "        out += residual\n",
    "        out = self.relu(out)\n",
    "        return out\n",
    "\n",
    "class ResNet(nn.Module):\n",
    "    def __init__(self, block, layers, num_classes=10):\n",
    "        super(ResNet, self).__init__()\n",
    "        self.inplanes = 64\n",
    "        self.conv1 = nn.Sequential(\n",
    "            nn.Conv2d(3, 64, kernel_size=7, stride=2, padding=3),\n",
    "            nn.BatchNorm2d(64),\n",
    "            nn.ReLU()\n",
    "        )\n",
    "        self.maxpool = nn.MaxPool2d(kernel_size=3, stride=2, padding=1)\n",
    "        self.layer0 = self._make_layer(block, 64, layers[0], stride=1)\n",
    "        self.layer1 = self._make_layer(block, 128, layers[1], stride=2)\n",
    "        self.layer2 = self._make_layer(block, 256, layers[2], stride=2)\n",
    "        self.layer3 = self._make_layer(block, 512, layers[3], stride=2)\n",
    "        self.avgpool = nn.AvgPool2d(7, stride=1)\n",
    "        self.fc = nn.Linear(512, num_classes)\n",
    "\n",
    "    def _make_layer(self, block, planes, blocks, stride=1):\n",
    "        downsample = None\n",
    "        if stride != 1 or self.inplanes != planes:\n",
    "            downsample = nn.Sequential(\n",
    "                nn.Conv2d(self.inplanes, planes, kernel_size=1, stride=stride),\n",
    "                nn.BatchNorm2d(planes),\n",
    "            )\n",
    "        layers = []\n",
    "        layers.append(block(self.inplanes, planes, stride, downsample))\n",
    "        self.inplanes = planes\n",
    "        for i in range(1, blocks):\n",
    "            layers.append(block(self.inplanes, planes))\n",
    "        return nn.Sequential(*layers)\n",
    "\n",
    "    def forward(self, x):\n",
    "        x = self.conv1(x)\n",
    "        x = self.maxpool(x)\n",
    "        x = self.layer0(x)\n",
    "        x = self.layer1(x)\n",
    "        x = self.layer2(x)\n",
    "        x = self.layer3(x)\n",
    "        x = self.avgpool(x)\n",
    "        x = x.view(x.size(0), -1)\n",
    "        x = self.fc(x)\n",
    "        return x\n",
    "\n",
    "# Main execution block\n",
    "if __name__ == '__main__':\n",
    "    num_classes = 10\n",
    "    num_epochs = 20\n",
    "    batch_size = 16\n",
    "    learning_rate = 0.01\n",
    "\n",
    "    train_loader, valid_loader = data_loader(data_dir='./data',\n",
    "                                             batch_size=batch_size)\n",
    "\n",
    "    test_loader = data_loader(data_dir='./data',\n",
    "                              batch_size=batch_size,\n",
    "                              test=True)\n",
    "\n",
    "    model = ResNet(ResidualBlock, [3, 4, 6, 3]).to(device)\n",
    "\n",
    "    # Loss and optimizer\n",
    "    criterion = nn.CrossEntropyLoss()\n",
    "    optimizer = torch.optim.SGD(model.parameters(), lr=learning_rate, weight_decay=0.001, momentum=0.9)\n",
    "\n",
    "    # Training the model\n",
    "    total_step = len(train_loader)\n",
    "    for epoch in range(num_epochs):\n",
    "        for i, (images, labels) in enumerate(train_loader):\n",
    "            # Move tensors to the configured device\n",
    "            images = images.to(device)\n",
    "            labels = labels.to(device)\n",
    "\n",
    "            # Forward pass\n",
    "            outputs = model(images)\n",
    "            loss = criterion(outputs, labels)\n",
    "\n",
    "            # Backward and optimize\n",
    "            optimizer.zero_grad()\n",
    "            loss.backward()\n",
    "            optimizer.step()\n",
    "\n",
    "            # Clean up memory\n",
    "            del images, labels, outputs\n",
    "            torch.cuda.empty_cache()\n",
    "            gc.collect()\n",
    "\n",
    "        print('Epoch [{}/{}], Loss: {:.4f}'.format(epoch + 1, num_epochs, loss.item()))\n",
    "\n",
    "        # Validation\n",
    "        with torch.no_grad():\n",
    "            correct = 0\n",
    "            total = 0\n",
    "            for images, labels in valid_loader:\n",
    "                images = images.to(device)\n",
    "                labels = labels.to(device)\n",
    "                outputs = model(images)\n",
    "                _, predicted = torch.max(outputs.data, 1)\n",
    "                total += labels.size(0)\n",
    "                correct += (predicted == labels).sum().item()\n",
    "                del images, labels, outputs\n",
    "\n",
    "            print('Accuracy of the network on the {} validation images: {} %'.format(5000, 100 * correct / total))\n",
    "\n",
    "    # Test the model\n",
    "    with torch.no_grad():\n",
    "        correct = 0\n",
    "        total = 0\n",
    "        for images, labels in test_loader:\n",
    "            images = images.to(device)\n",
    "            labels = labels.to(device)\n",
    "            outputs = model(images)\n",
    "            _, predicted = torch.max(outputs.data, 1)\n",
    "            total += labels.size(0)\n",
    "            correct += (predicted == labels).sum().item()\n",
    "            del images, labels, outputs\n",
    "\n",
    "        print('Accuracy of the network on the {} test images: {} %'.format(10000, 100 * correct / total))"
   ]
  },
  {
   "cell_type": "code",
   "execution_count": 2,
   "id": "040f5b33-bbe1-4939-b528-e355ada52711",
   "metadata": {},
   "outputs": [
    {
     "name": "stdout",
     "output_type": "stream",
     "text": [
      "Using device: cuda\n",
      "Starting training...\n",
      "Epoch [1/5], Step [100/2813], Loss: 2.4067\n",
      "Epoch [1/5], Step [200/2813], Loss: 2.0078\n",
      "Epoch [1/5], Step [300/2813], Loss: 1.9069\n",
      "Epoch [1/5], Step [400/2813], Loss: 1.6302\n",
      "Epoch [1/5], Step [500/2813], Loss: 2.3957\n",
      "Epoch [1/5], Step [600/2813], Loss: 1.9454\n",
      "Epoch [1/5], Step [700/2813], Loss: 1.7127\n",
      "Epoch [1/5], Step [800/2813], Loss: 1.5311\n",
      "Epoch [1/5], Step [900/2813], Loss: 1.3712\n",
      "Epoch [1/5], Step [1000/2813], Loss: 1.6778\n",
      "Epoch [1/5], Step [1100/2813], Loss: 1.5697\n",
      "Epoch [1/5], Step [1200/2813], Loss: 1.1399\n",
      "Epoch [1/5], Step [1300/2813], Loss: 1.5010\n",
      "Epoch [1/5], Step [1400/2813], Loss: 1.5011\n",
      "Epoch [1/5], Step [1500/2813], Loss: 1.8758\n",
      "Epoch [1/5], Step [1600/2813], Loss: 1.4975\n",
      "Epoch [1/5], Step [1700/2813], Loss: 1.4487\n",
      "Epoch [1/5], Step [1800/2813], Loss: 1.6903\n",
      "Epoch [1/5], Step [1900/2813], Loss: 1.3708\n",
      "Epoch [1/5], Step [2000/2813], Loss: 1.8765\n",
      "Epoch [1/5], Step [2100/2813], Loss: 1.2342\n",
      "Epoch [1/5], Step [2200/2813], Loss: 1.6967\n",
      "Epoch [1/5], Step [2300/2813], Loss: 1.0905\n",
      "Epoch [1/5], Step [2400/2813], Loss: 1.2987\n",
      "Epoch [1/5], Step [2500/2813], Loss: 1.7537\n",
      "Epoch [1/5], Step [2600/2813], Loss: 1.0007\n",
      "Epoch [1/5], Step [2700/2813], Loss: 1.1138\n",
      "Epoch [1/5], Step [2800/2813], Loss: 1.0188\n",
      "Epoch [1/5], Average Loss: 1.7016\n",
      "Accuracy of the network on the 5000 validation images: 50.58 %\n",
      "Epoch [2/5], Step [100/2813], Loss: 1.0624\n",
      "Epoch [2/5], Step [200/2813], Loss: 1.7629\n",
      "Epoch [2/5], Step [300/2813], Loss: 1.4063\n",
      "Epoch [2/5], Step [400/2813], Loss: 1.6385\n",
      "Epoch [2/5], Step [500/2813], Loss: 1.5224\n",
      "Epoch [2/5], Step [600/2813], Loss: 1.5929\n",
      "Epoch [2/5], Step [700/2813], Loss: 1.8576\n",
      "Epoch [2/5], Step [800/2813], Loss: 1.3529\n",
      "Epoch [2/5], Step [900/2813], Loss: 1.0051\n",
      "Epoch [2/5], Step [1000/2813], Loss: 0.8277\n",
      "Epoch [2/5], Step [1100/2813], Loss: 1.5542\n",
      "Epoch [2/5], Step [1200/2813], Loss: 0.9121\n",
      "Epoch [2/5], Step [1400/2813], Loss: 0.9633\n",
      "Epoch [2/5], Step [1500/2813], Loss: 0.8377\n",
      "Epoch [2/5], Step [1600/2813], Loss: 0.6911\n",
      "Epoch [2/5], Step [1700/2813], Loss: 1.1247\n",
      "Epoch [2/5], Step [1800/2813], Loss: 1.0475\n",
      "Epoch [2/5], Step [1900/2813], Loss: 0.7339\n",
      "Epoch [2/5], Step [2000/2813], Loss: 1.3716\n",
      "Epoch [2/5], Step [2100/2813], Loss: 1.0325\n",
      "Epoch [2/5], Step [2200/2813], Loss: 1.0613\n",
      "Epoch [2/5], Step [2300/2813], Loss: 1.0310\n",
      "Epoch [2/5], Step [2400/2813], Loss: 0.6676\n",
      "Epoch [2/5], Step [2500/2813], Loss: 0.9015\n",
      "Epoch [2/5], Step [2600/2813], Loss: 0.8281\n",
      "Epoch [2/5], Step [2700/2813], Loss: 0.8595\n",
      "Epoch [2/5], Step [2800/2813], Loss: 0.6127\n",
      "Epoch [2/5], Average Loss: 1.0809\n",
      "Accuracy of the network on the 5000 validation images: 70.04 %\n",
      "Epoch [3/5], Step [100/2813], Loss: 1.0862\n",
      "Epoch [3/5], Step [200/2813], Loss: 1.0752\n",
      "Epoch [3/5], Step [300/2813], Loss: 1.2084\n",
      "Epoch [3/5], Step [400/2813], Loss: 0.4242\n",
      "Epoch [3/5], Step [500/2813], Loss: 0.6351\n",
      "Epoch [3/5], Step [600/2813], Loss: 0.7799\n",
      "Epoch [3/5], Step [700/2813], Loss: 0.7580\n",
      "Epoch [3/5], Step [800/2813], Loss: 1.2190\n",
      "Epoch [3/5], Step [900/2813], Loss: 0.7727\n",
      "Epoch [3/5], Step [1000/2813], Loss: 1.3037\n",
      "Epoch [3/5], Step [1100/2813], Loss: 1.7466\n",
      "Epoch [3/5], Step [1200/2813], Loss: 0.5271\n",
      "Epoch [3/5], Step [1300/2813], Loss: 1.1531\n",
      "Epoch [3/5], Step [1400/2813], Loss: 0.6629\n",
      "Epoch [3/5], Step [1500/2813], Loss: 0.5797\n",
      "Epoch [3/5], Step [1600/2813], Loss: 1.0408\n",
      "Epoch [3/5], Step [1700/2813], Loss: 1.6253\n",
      "Epoch [3/5], Step [1800/2813], Loss: 0.8543\n",
      "Epoch [3/5], Step [1900/2813], Loss: 0.8353\n",
      "Epoch [3/5], Step [2000/2813], Loss: 1.0329\n",
      "Epoch [3/5], Step [2100/2813], Loss: 0.6841\n",
      "Epoch [3/5], Step [2200/2813], Loss: 0.6103\n",
      "Epoch [3/5], Step [2300/2813], Loss: 0.6888\n",
      "Epoch [3/5], Step [2400/2813], Loss: 0.6935\n",
      "Epoch [3/5], Step [2500/2813], Loss: 0.7002\n",
      "Epoch [3/5], Step [2600/2813], Loss: 0.7561\n",
      "Epoch [3/5], Step [2700/2813], Loss: 1.0298\n",
      "Epoch [3/5], Step [2800/2813], Loss: 0.7556\n",
      "Epoch [3/5], Average Loss: 0.8216\n",
      "Accuracy of the network on the 5000 validation images: 70.44 %\n",
      "Epoch [4/5], Step [100/2813], Loss: 0.4836\n",
      "Epoch [4/5], Step [200/2813], Loss: 0.5669\n",
      "Epoch [4/5], Step [300/2813], Loss: 0.6146\n",
      "Epoch [4/5], Step [400/2813], Loss: 0.6281\n",
      "Epoch [4/5], Step [500/2813], Loss: 0.9267\n",
      "Epoch [4/5], Step [600/2813], Loss: 0.5380\n",
      "Epoch [4/5], Step [700/2813], Loss: 0.7804\n",
      "Epoch [4/5], Step [800/2813], Loss: 0.6303\n",
      "Epoch [4/5], Step [900/2813], Loss: 1.3601\n",
      "Epoch [4/5], Step [1000/2813], Loss: 0.3916\n",
      "Epoch [4/5], Step [1100/2813], Loss: 0.7532\n",
      "Epoch [4/5], Step [1200/2813], Loss: 0.9284\n",
      "Epoch [4/5], Step [1300/2813], Loss: 0.4993\n",
      "Epoch [4/5], Step [1400/2813], Loss: 0.5879\n",
      "Epoch [4/5], Step [1500/2813], Loss: 0.7322\n",
      "Epoch [4/5], Step [1600/2813], Loss: 0.7150\n",
      "Epoch [4/5], Step [1700/2813], Loss: 0.6096\n",
      "Epoch [4/5], Step [1800/2813], Loss: 0.3662\n",
      "Epoch [4/5], Step [1900/2813], Loss: 1.1527\n",
      "Epoch [4/5], Step [2000/2813], Loss: 0.7523\n",
      "Epoch [4/5], Step [2100/2813], Loss: 0.5067\n",
      "Epoch [4/5], Step [2200/2813], Loss: 1.0547\n",
      "Epoch [4/5], Step [2300/2813], Loss: 0.3684\n",
      "Epoch [4/5], Step [2400/2813], Loss: 0.7428\n",
      "Epoch [4/5], Step [2500/2813], Loss: 1.5160\n",
      "Epoch [4/5], Step [2600/2813], Loss: 0.5001\n",
      "Epoch [4/5], Step [2700/2813], Loss: 0.3459\n",
      "Epoch [4/5], Step [2800/2813], Loss: 0.6775\n",
      "Epoch [4/5], Average Loss: 0.6932\n",
      "Accuracy of the network on the 5000 validation images: 77.88 %\n",
      "Epoch [5/5], Step [100/2813], Loss: 0.4086\n",
      "Epoch [5/5], Step [200/2813], Loss: 0.7160\n",
      "Epoch [5/5], Step [300/2813], Loss: 0.4852\n",
      "Epoch [5/5], Step [400/2813], Loss: 0.8664\n",
      "Epoch [5/5], Step [500/2813], Loss: 0.9899\n",
      "Epoch [5/5], Step [600/2813], Loss: 0.8448\n",
      "Epoch [5/5], Step [700/2813], Loss: 0.4345\n",
      "Epoch [5/5], Step [800/2813], Loss: 1.1385\n",
      "Epoch [5/5], Step [900/2813], Loss: 0.5966\n",
      "Epoch [5/5], Step [1000/2813], Loss: 0.3192\n",
      "Epoch [5/5], Step [1100/2813], Loss: 0.6494\n",
      "Epoch [5/5], Step [1200/2813], Loss: 0.5927\n",
      "Epoch [5/5], Step [1300/2813], Loss: 1.0663\n",
      "Epoch [5/5], Step [1400/2813], Loss: 0.7078\n",
      "Epoch [5/5], Step [1500/2813], Loss: 0.7185\n",
      "Epoch [5/5], Step [1600/2813], Loss: 1.0952\n",
      "Epoch [5/5], Step [1700/2813], Loss: 0.5177\n",
      "Epoch [5/5], Step [1800/2813], Loss: 0.5687\n",
      "Epoch [5/5], Step [1900/2813], Loss: 0.6492\n",
      "Epoch [5/5], Step [2000/2813], Loss: 0.4765\n",
      "Epoch [5/5], Step [2100/2813], Loss: 0.6627\n",
      "Epoch [5/5], Step [2200/2813], Loss: 0.4781\n",
      "Epoch [5/5], Step [2300/2813], Loss: 0.3591\n",
      "Epoch [5/5], Step [2400/2813], Loss: 0.6267\n",
      "Epoch [5/5], Step [2500/2813], Loss: 0.6489\n",
      "Epoch [5/5], Step [2600/2813], Loss: 0.5977\n",
      "Epoch [5/5], Step [2700/2813], Loss: 0.7057\n",
      "Epoch [5/5], Step [2800/2813], Loss: 1.0962\n",
      "Epoch [5/5], Average Loss: 0.6111\n",
      "Accuracy of the network on the 5000 validation images: 76.60 %\n",
      "\n",
      "Starting final evaluation on test set...\n",
      "Accuracy of the network on the 10000 test images: 76.82 %\n"
     ]
    }
   ],
   "source": [
    "import numpy as np\n",
    "import torch\n",
    "import torch.nn as nn\n",
    "import torchvision.datasets as datasets\n",
    "import torchvision.transforms as transforms\n",
    "from torch.utils.data.sampler import SubsetRandomSampler\n",
    "\n",
    "# Set to True for a potential speedup on GPU\n",
    "torch.backends.cudnn.benchmark = True\n",
    "\n",
    "# Device configuration\n",
    "device = torch.device('cuda' if torch.cuda.is_available() else 'cpu')\n",
    "print(f\"Using device: {device}\")\n",
    "\n",
    "\n",
    "def data_loader(data_dir,\n",
    "                batch_size,\n",
    "                random_seed=42,\n",
    "                valid_size=0.1,\n",
    "                shuffle=True):\n",
    "    \"\"\"\n",
    "    Splits the CIFAR-10 dataset into training and validation sets.\n",
    "    This version loads the data only once, making it more efficient.\n",
    "    \"\"\"\n",
    "    normalize = transforms.Normalize(\n",
    "        mean=[0.4914, 0.4822, 0.4465],\n",
    "        std=[0.2023, 0.1994, 0.2010],\n",
    "    )\n",
    "\n",
    "    # Define transforms, resizing is a computationally heavy step\n",
    "    transform = transforms.Compose([\n",
    "        transforms.Resize((224, 224)),\n",
    "        transforms.ToTensor(),\n",
    "        normalize,\n",
    "    ])\n",
    "\n",
    "    # Load the entire training dataset once\n",
    "    full_train_dataset = datasets.CIFAR10(\n",
    "        root=data_dir, train=True,\n",
    "        download=True, transform=transform,\n",
    "    )\n",
    "\n",
    "    num_train = len(full_train_dataset)\n",
    "    indices = list(range(num_train))\n",
    "    split = int(np.floor(valid_size * num_train))\n",
    "\n",
    "    if shuffle:\n",
    "        np.random.seed(random_seed)\n",
    "        np.random.shuffle(indices)\n",
    "\n",
    "    train_idx, valid_idx = indices[split:], indices[:split]\n",
    "    train_sampler = SubsetRandomSampler(train_idx)\n",
    "    valid_sampler = SubsetRandomSampler(valid_idx)\n",
    "\n",
    "    train_loader = torch.utils.data.DataLoader(\n",
    "        full_train_dataset, batch_size=batch_size, sampler=train_sampler)\n",
    "\n",
    "    valid_loader = torch.utils.data.DataLoader(\n",
    "        full_train_dataset, batch_size=batch_size, sampler=valid_sampler)\n",
    "\n",
    "    return train_loader, valid_loader\n",
    "\n",
    "\n",
    "def test_data_loader(data_dir, batch_size):\n",
    "    \"\"\"\n",
    "    Creates a data loader for the CIFAR-10 test set.\n",
    "    \"\"\"\n",
    "    normalize = transforms.Normalize(\n",
    "        mean=[0.4914, 0.4822, 0.4465],\n",
    "        std=[0.2023, 0.1994, 0.2010],\n",
    "    )\n",
    "\n",
    "    transform = transforms.Compose([\n",
    "        transforms.Resize((224, 224)),\n",
    "        transforms.ToTensor(),\n",
    "        normalize,\n",
    "    ])\n",
    "    \n",
    "    test_dataset = datasets.CIFAR10(\n",
    "        root=data_dir, train=False,\n",
    "        download=True, transform=transform,\n",
    "    )\n",
    "    test_loader = torch.utils.data.DataLoader(\n",
    "        test_dataset, batch_size=batch_size, shuffle=False\n",
    "    )\n",
    "    return test_loader\n",
    "\n",
    "\n",
    "# Define the ResidualBlock and ResNet classes\n",
    "class ResidualBlock(nn.Module):\n",
    "    def __init__(self, in_channels, out_channels, stride=1, downsample=None):\n",
    "        super(ResidualBlock, self).__init__()\n",
    "        self.conv1 = nn.Sequential(\n",
    "            nn.Conv2d(in_channels, out_channels, kernel_size=3, stride=stride, padding=1),\n",
    "            nn.BatchNorm2d(out_channels),\n",
    "            nn.ReLU()\n",
    "        )\n",
    "        self.conv2 = nn.Sequential(\n",
    "            nn.Conv2d(out_channels, out_channels, kernel_size=3, stride=1, padding=1),\n",
    "            nn.BatchNorm2d(out_channels)\n",
    "        )\n",
    "        self.downsample = downsample\n",
    "        self.relu = nn.ReLU()\n",
    "        self.out_channels = out_channels\n",
    "\n",
    "    def forward(self, x):\n",
    "        residual = x\n",
    "        out = self.conv1(x)\n",
    "        out = self.conv2(out)\n",
    "        if self.downsample:\n",
    "            residual = self.downsample(x)\n",
    "        out += residual\n",
    "        out = self.relu(out)\n",
    "        return out\n",
    "\n",
    "class ResNet(nn.Module):\n",
    "    def __init__(self, block, layers, num_classes=10):\n",
    "        super(ResNet, self).__init__()\n",
    "        self.inplanes = 64\n",
    "        self.conv1 = nn.Sequential(\n",
    "            nn.Conv2d(3, 64, kernel_size=7, stride=2, padding=3),\n",
    "            nn.BatchNorm2d(64),\n",
    "            nn.ReLU()\n",
    "        )\n",
    "        self.maxpool = nn.MaxPool2d(kernel_size=3, stride=2, padding=1)\n",
    "        self.layer0 = self._make_layer(block, 64, layers[0], stride=1)\n",
    "        self.layer1 = self._make_layer(block, 128, layers[1], stride=2)\n",
    "        self.layer2 = self._make_layer(block, 256, layers[2], stride=2)\n",
    "        self.layer3 = self._make_layer(block, 512, layers[3], stride=2)\n",
    "        self.avgpool = nn.AvgPool2d(7, stride=1)\n",
    "        self.fc = nn.Linear(512, num_classes)\n",
    "\n",
    "    def _make_layer(self, block, planes, blocks, stride=1):\n",
    "        downsample = None\n",
    "        if stride != 1 or self.inplanes != planes:\n",
    "            downsample = nn.Sequential(\n",
    "                nn.Conv2d(self.inplanes, planes, kernel_size=1, stride=stride),\n",
    "                nn.BatchNorm2d(planes),\n",
    "            )\n",
    "        layers = []\n",
    "        layers.append(block(self.inplanes, planes, stride, downsample))\n",
    "        self.inplanes = planes\n",
    "        for i in range(1, blocks):\n",
    "            layers.append(block(self.inplanes, planes))\n",
    "        return nn.Sequential(*layers)\n",
    "\n",
    "    def forward(self, x):\n",
    "        x = self.conv1(x)\n",
    "        x = self.maxpool(x)\n",
    "        x = self.layer0(x)\n",
    "        x = self.layer1(x)\n",
    "        x = self.layer2(x)\n",
    "        x = self.layer3(x)\n",
    "        x = self.avgpool(x)\n",
    "        x = x.view(x.size(0), -1)\n",
    "        x = self.fc(x)\n",
    "        return x\n",
    "\n",
    "# Main execution block\n",
    "if __name__ == '__main__':\n",
    "    num_classes = 10\n",
    "    #num_epochs = 20 # It taks lots of time in GPU\n",
    "    num_epochs = 5\n",
    "    batch_size = 16\n",
    "    learning_rate = 0.01\n",
    "\n",
    "    train_loader, valid_loader = data_loader(data_dir='./data',\n",
    "                                             batch_size=batch_size)\n",
    "\n",
    "    test_loader = test_data_loader(data_dir='./data',\n",
    "                                   batch_size=batch_size)\n",
    "\n",
    "    model = ResNet(ResidualBlock, [3, 4, 6, 3]).to(device)\n",
    "\n",
    "    # Loss and optimizer\n",
    "    criterion = nn.CrossEntropyLoss()\n",
    "    optimizer = torch.optim.SGD(model.parameters(), lr=learning_rate, weight_decay=0.001, momentum=0.9)\n",
    "\n",
    "    # Training the model\n",
    "    print(\"Starting training...\")\n",
    "    total_step = len(train_loader)\n",
    "    for epoch in range(num_epochs):\n",
    "        model.train()\n",
    "        total_loss = 0.0\n",
    "        for i, (images, labels) in enumerate(train_loader):\n",
    "            images = images.to(device)\n",
    "            labels = labels.to(device)\n",
    "\n",
    "            # Forward pass\n",
    "            outputs = model(images)\n",
    "            loss = criterion(outputs, labels)\n",
    "\n",
    "            # Backward and optimize\n",
    "            optimizer.zero_grad()\n",
    "            loss.backward()\n",
    "            optimizer.step()\n",
    "\n",
    "            total_loss += loss.item()\n",
    "\n",
    "            if (i+1) % 100 == 0:\n",
    "                print('Epoch [{}/{}], Step [{}/{}], Loss: {:.4f}'.format(epoch + 1, num_epochs, i + 1, total_step, loss.item()))\n",
    "\n",
    "        avg_loss = total_loss / total_step\n",
    "        print('Epoch [{}/{}], Average Loss: {:.4f}'.format(epoch + 1, num_epochs, avg_loss))\n",
    "        \n",
    "        # Validation\n",
    "        model.eval()\n",
    "        with torch.no_grad():\n",
    "            correct = 0\n",
    "            total = 0\n",
    "            for images, labels in valid_loader:\n",
    "                images = images.to(device)\n",
    "                labels = labels.to(device)\n",
    "                outputs = model(images)\n",
    "                _, predicted = torch.max(outputs.data, 1)\n",
    "                total += labels.size(0)\n",
    "                correct += (predicted == labels).sum().item()\n",
    "\n",
    "            accuracy = 100 * correct / total\n",
    "            print('Accuracy of the network on the {} validation images: {:.2f} %'.format(5000, accuracy))\n",
    "            \n",
    "            # Clear GPU memory\n",
    "            if device.type == 'cuda':\n",
    "                torch.cuda.empty_cache()\n",
    "\n",
    "    # Test the model\n",
    "    print(\"\\nStarting final evaluation on test set...\")\n",
    "    model.eval()\n",
    "    with torch.no_grad():\n",
    "        correct = 0\n",
    "        total = 0\n",
    "        for images, labels in test_loader:\n",
    "            images = images.to(device)\n",
    "            labels = labels.to(device)\n",
    "            outputs = model(images)\n",
    "            _, predicted = torch.max(outputs.data, 1)\n",
    "            total += labels.size(0)\n",
    "            correct += (predicted == labels).sum().item()\n",
    "\n",
    "        accuracy = 100 * correct / total\n",
    "        print('Accuracy of the network on the {} test images: {:.2f} %'.format(10000, accuracy))\n",
    "        \n",
    "        # Clear GPU memory\n",
    "        if device.type == 'cuda':\n",
    "            torch.cuda.empty_cache()\n"
   ]
  },
  {
   "cell_type": "markdown",
   "id": "22c404be-a91a-49c1-959f-f649b18a75da",
   "metadata": {},
   "source": [
    "### Image Classification\n",
    "\n",
    "\n",
    "**Image classification is a fundamental task in computer vision that involves assigning a label or category to an input image.  In essence, it's about teaching a computer to \"see\" and identify objects, scenes, or concepts within an image, similar to how humans do.**\n",
    "\n",
    "**PyTorch is a popular open-source machine learning library used for a wide range of tasks, including building and training neural networks for image classification. A typical workflow involves:**\n",
    "\n",
    "* 1. Loading and Preprocessing Data: Using PyTorch's torchvision library to load standard datasets (like MNIST or CIFAR-10) and applying transformations to resize, normalize, and convert images into tensors.\n",
    "\n",
    "* 2. Defining the Model: Creating a convolutional neural network (CNN) by stacking layers like Conv2d, ReLU, MaxPool2d, and fully connected layers.\n",
    "\n",
    "* 3. Training the Model: Feeding the data into the model, calculating the loss, and using an optimizer to update the model's weights to minimize the loss.\n",
    "\n",
    "* 4. Evaluating the Model: Testing the trained model on a separate dataset to measure its performance and accuracy.\n"
   ]
  },
  {
   "cell_type": "code",
   "execution_count": 66,
   "id": "3f99b9ec-376d-43cf-acac-2e50bfc20fa9",
   "metadata": {},
   "outputs": [
    {
     "name": "stdout",
     "output_type": "stream",
     "text": [
      "Using device: cuda\n",
      "Epoch [1/5], Step [400/938], Loss: 0.0430\n",
      "Epoch [1/5], Step [800/938], Loss: 0.0607\n",
      "Epoch [2/5], Step [400/938], Loss: 0.1005\n",
      "Epoch [2/5], Step [800/938], Loss: 0.0264\n",
      "Epoch [3/5], Step [400/938], Loss: 0.0458\n",
      "Epoch [3/5], Step [800/938], Loss: 0.0272\n",
      "Epoch [4/5], Step [400/938], Loss: 0.0098\n",
      "Epoch [4/5], Step [800/938], Loss: 0.0502\n",
      "Epoch [5/5], Step [400/938], Loss: 0.0281\n",
      "Epoch [5/5], Step [800/938], Loss: 0.0039\n",
      "Accuracy of the network on the 10000 test images: 99.10 %\n"
     ]
    }
   ],
   "source": [
    "# Load in relevant libraries, and alias where appropriate\n",
    "import torch\n",
    "import torch.nn as nn\n",
    "import torchvision\n",
    "import torchvision.transforms as transforms\n",
    "\n",
    "# Define relevant variables for the ML task\n",
    "batch_size = 64\n",
    "num_classes = 10\n",
    "learning_rate = 0.001\n",
    "num_epochs = 5 # Reduced epochs for faster demonstration\n",
    "\n",
    "# Device will determine whether to run the training on GPU or CPU.\n",
    "device = torch.device('cuda' if torch.cuda.is_available() else 'cpu')\n",
    "print(f\"Using device: {device}\")\n",
    "\n",
    "# Loading the dataset and preprocessing it\n",
    "# Apply transformations to resize the images, convert them to tensors, and normalize them.\n",
    "train_dataset = torchvision.datasets.MNIST(root='./data',\n",
    "                                           train=True,\n",
    "                                           transform=transforms.Compose([\n",
    "                                               transforms.Resize((32, 32)),\n",
    "                                               transforms.ToTensor(),\n",
    "                                               transforms.Normalize(mean=(0.1307,), std=(0.3081,))\n",
    "                                           ]),\n",
    "                                           download=True)\n",
    "\n",
    "test_dataset = torchvision.datasets.MNIST(root='./data',\n",
    "                                          train=False,\n",
    "                                          transform=transforms.Compose([\n",
    "                                              transforms.Resize((32, 32)),\n",
    "                                              transforms.ToTensor(),\n",
    "                                              transforms.Normalize(mean=(0.1325,), std=(0.3105,))\n",
    "                                          ]),\n",
    "                                          download=True)\n",
    "\n",
    "# Create data loaders to handle batching and shuffling of the data.\n",
    "train_loader = torch.utils.data.DataLoader(dataset=train_dataset,\n",
    "                                           batch_size=batch_size,\n",
    "                                           shuffle=True)\n",
    "\n",
    "test_loader = torch.utils.data.DataLoader(dataset=test_dataset,\n",
    "                                          batch_size=batch_size,\n",
    "                                          shuffle=True)\n",
    "\n",
    "\n",
    "# Defining the convolutional neural network (LeNet-5 architecture)\n",
    "class LeNet5(nn.Module):\n",
    "    def __init__(self, num_classes):\n",
    "        super(LeNet5, self).__init__()\n",
    "        # First convolutional layer: 1 input channel (for grayscale), 6 output channels, 5x5 kernel\n",
    "        self.layer1 = nn.Sequential(\n",
    "            nn.Conv2d(1, 6, kernel_size=5, stride=1, padding=0),\n",
    "            nn.BatchNorm2d(6), # Batch normalization for stability\n",
    "            nn.ReLU(), # Activation function\n",
    "            nn.MaxPool2d(kernel_size=2, stride=2)) # Max pooling layer\n",
    "        \n",
    "        # Second convolutional layer: 6 input channels, 16 output channels, 5x5 kernel\n",
    "        self.layer2 = nn.Sequential(\n",
    "            nn.Conv2d(6, 16, kernel_size=5, stride=1, padding=0),\n",
    "            nn.BatchNorm2d(16),\n",
    "            nn.ReLU(),\n",
    "            nn.MaxPool2d(kernel_size=2, stride=2))\n",
    "        \n",
    "        # Fully connected layers for classification\n",
    "        self.fc = nn.Linear(400, 120) # 400 = 16 * 5 * 5 (from previous layer's output dimensions)\n",
    "        self.relu = nn.ReLU()\n",
    "        self.fc1 = nn.Linear(120, 84)\n",
    "        self.relu1 = nn.ReLU()\n",
    "        self.fc2 = nn.Linear(84, num_classes)\n",
    "\n",
    "    def forward(self, x): # Correctly spelled 'forward' method\n",
    "        out = self.layer1(x)\n",
    "        out = self.layer2(out)\n",
    "        out = out.reshape(out.size(0), -1) # Flatten the tensor for the fully connected layers\n",
    "        out = self.fc(out)\n",
    "        out = self.relu(out)\n",
    "        out = self.fc1(out)\n",
    "        out = self.relu1(out)\n",
    "        out = self.fc2(out)\n",
    "        return out\n",
    "\n",
    "model = LeNet5(num_classes).to(device)\n",
    "\n",
    "# Setting the loss function and optimizer\n",
    "cost = nn.CrossEntropyLoss()\n",
    "optimizer = torch.optim.Adam(model.parameters(), lr=learning_rate)\n",
    "\n",
    "# Model training loop\n",
    "total_step = len(train_loader)\n",
    "for epoch in range(num_epochs):\n",
    "    for i, (images, labels) in enumerate(train_loader):\n",
    "        images = images.to(device)\n",
    "        labels = labels.to(device)\n",
    "\n",
    "        # Forward pass\n",
    "        outputs = model(images)\n",
    "        loss = cost(outputs, labels)\n",
    "        \n",
    "        # Backward and optimize\n",
    "        optimizer.zero_grad()\n",
    "        loss.backward()\n",
    "        optimizer.step()\n",
    "        \n",
    "        if (i + 1) % 400 == 0:\n",
    "            print(f\"Epoch [{epoch+1}/{num_epochs}], Step [{i+1}/{total_step}], Loss: {loss.item():.4f}\")\n",
    "\n",
    "# Model testing/evaluation\n",
    "# In the test phase, we don't need to compute gradients\n",
    "model.eval()\n",
    "with torch.no_grad():\n",
    "    correct = 0\n",
    "    total = 0\n",
    "    for images, labels in test_loader:\n",
    "        images = images.to(device)\n",
    "        labels = labels.to(device)\n",
    "        outputs = model(images)\n",
    "        _, predicted = torch.max(outputs.data, 1)\n",
    "        total += labels.size(0)\n",
    "        correct += (predicted == labels).sum().item()\n",
    "\n",
    "    accuracy = 100 * correct / total\n",
    "    print(f\"Accuracy of the network on the 10000 test images: {accuracy:.2f} %\")"
   ]
  },
  {
   "cell_type": "markdown",
   "id": "719fda45-30a5-4ec2-81d1-d9147cf92f4d",
   "metadata": {},
   "source": [
    "### Implement a simple CNN CIFAR-10 classification."
   ]
  },
  {
   "cell_type": "code",
   "execution_count": 68,
   "id": "71d92f5b-dea3-467d-9de1-f2e5d28b1b91",
   "metadata": {},
   "outputs": [
    {
     "name": "stdout",
     "output_type": "stream",
     "text": [
      "Training on device: cuda:0\n",
      "\n",
      "Starting Training...\n",
      "[1,  2000] loss: 2.187\n",
      "[1,  4000] loss: 1.848\n",
      "[1,  6000] loss: 1.683\n",
      "[1,  8000] loss: 1.595\n",
      "[1, 10000] loss: 1.537\n",
      "[1, 12000] loss: 1.484\n",
      "[2,  2000] loss: 1.411\n",
      "[2,  4000] loss: 1.384\n",
      "[2,  6000] loss: 1.356\n",
      "[2,  8000] loss: 1.319\n",
      "[2, 10000] loss: 1.315\n",
      "[2, 12000] loss: 1.306\n",
      "Finished Training\n",
      "\n",
      "Starting Testing...\n"
     ]
    },
    {
     "data": {
      "image/png": "[encoded data removed]",
      "text/plain": [
       "<Figure size 640x480 with 1 Axes>"
      ]
     },
     "metadata": {},
     "output_type": "display_data"
    },
    {
     "name": "stdout",
     "output_type": "stream",
     "text": [
      "GroundTruth:  cat   ship  ship  plane\n",
      "Predicted:    cat   car   car   car  \n",
      "\n",
      "Accuracy of the network on the 10000 test images: 54.93 %\n",
      "\n",
      "Per-Class Accuracy:\n",
      "Accuracy for class: plane is 47.3 %\n",
      "Accuracy for class: car   is 67.2 %\n",
      "Accuracy for class: bird  is 39.5 %\n",
      "Accuracy for class: cat   is 39.9 %\n",
      "Accuracy for class: deer  is 34.5 %\n",
      "Accuracy for class: dog   is 53.9 %\n",
      "Accuracy for class: frog  is 69.0 %\n",
      "Accuracy for class: horse is 64.3 %\n",
      "Accuracy for class: ship  is 59.3 %\n",
      "Accuracy for class: truck is 74.4 %\n"
     ]
    }
   ],
   "source": [
    "import torch\n",
    "import torchvision\n",
    "import torchvision.transforms as transforms\n",
    "import torch.nn as nn\n",
    "import torch.nn.functional as F\n",
    "import torch.optim as optim\n",
    "import matplotlib.pyplot as plt\n",
    "import numpy as np\n",
    "\n",
    "# --- 1. Device and Performance Setup ---\n",
    "device = torch.device('cuda:0' if torch.cuda.is_available() else 'cpu')\n",
    "print(f\"Training on device: {device}\")\n",
    "if torch.cuda.is_available():\n",
    "    torch.backends.cudnn.benchmark = True\n",
    "\n",
    "# --- 2. Data Loading and Preprocessing ---\n",
    "transform = transforms.Compose(\n",
    "    [transforms.ToTensor(),\n",
    "     transforms.Normalize((0.5, 0.5, 0.5), (0.5, 0.5, 0.5))])\n",
    "\n",
    "batch_size = 4\n",
    "\n",
    "trainset = torchvision.datasets.CIFAR10(root='./data', train=True,\n",
    "                                        download=True, transform=transform)\n",
    "trainloader = torch.utils.data.DataLoader(trainset, batch_size=batch_size,\n",
    "                                          shuffle=True, num_workers=2)\n",
    "\n",
    "testset = torchvision.datasets.CIFAR10(root='./data', train=False,\n",
    "                                       download=True, transform=transform)\n",
    "testloader = torch.utils.data.DataLoader(testset, batch_size=batch_size,\n",
    "                                         shuffle=False, num_workers=2)\n",
    "\n",
    "classes = ('plane', 'car', 'bird', 'cat',\n",
    "           'deer', 'dog', 'frog', 'horse', 'ship', 'truck')\n",
    "\n",
    "# --- 3. Model Definition ---\n",
    "class Net(nn.Module):\n",
    "    def __init__(self):\n",
    "        super().__init__()\n",
    "        self.conv1 = nn.Conv2d(3, 6, 5)\n",
    "        self.pool = nn.MaxPool2d(2, 2)\n",
    "        self.conv2 = nn.Conv2d(6, 16, 5)\n",
    "        self.fc1 = nn.Linear(16 * 5 * 5, 120)\n",
    "        self.fc2 = nn.Linear(120, 84)\n",
    "        self.fc3 = nn.Linear(84, 10)\n",
    "\n",
    "    def forward(self, x):\n",
    "        x = self.pool(F.relu(self.conv1(x)))\n",
    "        x = self.pool(F.relu(self.conv2(x)))\n",
    "        x = torch.flatten(x, 1)\n",
    "        x = F.relu(self.fc1(x))\n",
    "        x = F.relu(self.fc2(x))\n",
    "        x = self.fc3(x)\n",
    "        return x\n",
    "\n",
    "def main():\n",
    "    # --- Training Phase ---\n",
    "    net = Net().to(device)\n",
    "    criterion = nn.CrossEntropyLoss()\n",
    "    optimizer = optim.SGD(net.parameters(), lr=0.001, momentum=0.9)\n",
    "\n",
    "    print(\"\\nStarting Training...\")\n",
    "    for epoch in range(2):\n",
    "        running_loss = 0.0\n",
    "        for i, data in enumerate(trainloader, 0):\n",
    "            inputs, labels = data[0].to(device), data[1].to(device)\n",
    "            optimizer.zero_grad()\n",
    "            outputs = net(inputs)\n",
    "            loss = criterion(outputs, labels)\n",
    "            loss.backward()\n",
    "            optimizer.step()\n",
    "            running_loss += loss.item()\n",
    "            if i % 2000 == 1999:\n",
    "                print(f'[{epoch + 1}, {i + 1:5d}] loss: {running_loss / 2000:.3f}')\n",
    "                running_loss = 0.0\n",
    "    print('Finished Training')\n",
    "\n",
    "    # Save the trained model's state dictionary\n",
    "    PATH = './cifar_net.pth'\n",
    "    torch.save(net.state_dict(), PATH)\n",
    "\n",
    "    # --- Testing Phase ---\n",
    "    print(\"\\nStarting Testing...\")\n",
    "    net.eval()\n",
    "    \n",
    "    # 1. Show example predictions\n",
    "    def imshow(img):\n",
    "        img = img / 2 + 0.5\n",
    "        npimg = img.numpy()\n",
    "        plt.imshow(np.transpose(npimg, (1, 2, 0)))\n",
    "        plt.show()\n",
    "\n",
    "    dataiter = iter(testloader)\n",
    "    images, labels = next(dataiter)\n",
    "\n",
    "    imshow(torchvision.utils.make_grid(images))\n",
    "    print('GroundTruth: ', ' '.join(f'{classes[labels[j]]:5s}' for j in range(4)))\n",
    "\n",
    "    with torch.no_grad():\n",
    "        outputs = net(images.to(device))\n",
    "        _, predicted = torch.max(outputs.data, 1)\n",
    "        print('Predicted:   ', ' '.join(f'{classes[predicted[j]]:5s}' for j in range(4)))\n",
    "\n",
    "    # 2. Calculate overall accuracy\n",
    "    correct = 0\n",
    "    total = 0\n",
    "    with torch.no_grad():\n",
    "        for data in testloader:\n",
    "            images, labels = data[0].to(device), data[1].to(device)\n",
    "            outputs = net(images)\n",
    "            _, predicted = torch.max(outputs.data, 1)\n",
    "            total += labels.size(0)\n",
    "            correct += (predicted == labels).sum().item()\n",
    "    \n",
    "    print(f'\\nAccuracy of the network on the 10000 test images: {100 * correct / total:.2f} %')\n",
    "    \n",
    "    # 3. Calculate per-class accuracy\n",
    "    correct_pred = {classname: 0 for classname in classes}\n",
    "    total_pred = {classname: 0 for classname in classes}\n",
    "    \n",
    "    with torch.no_grad():\n",
    "        for data in testloader:\n",
    "            images, labels = data[0].to(device), data[1].to(device)\n",
    "            outputs = net(images)\n",
    "            _, predictions = torch.max(outputs, 1)\n",
    "            \n",
    "            for label, prediction in zip(labels, predictions):\n",
    "                if label == prediction:\n",
    "                    correct_pred[classes[label]] += 1\n",
    "                total_pred[classes[label]] += 1\n",
    "\n",
    "    print(\"\\nPer-Class Accuracy:\")\n",
    "    for classname, correct_count in correct_pred.items():\n",
    "        accuracy = 100 * float(correct_count) / total_pred[classname] if total_pred[classname] > 0 else 0\n",
    "        print(f'Accuracy for class: {classname:5s} is {accuracy:.1f} %')\n",
    "\n",
    "if __name__ == '__main__':\n",
    "    main()"
   ]
  },
  {
   "cell_type": "markdown",
   "id": "0368387d-3cf5-45b4-8198-d93d2a856476",
   "metadata": {},
   "source": [
    "#### More accurate model"
   ]
  },
  {
   "cell_type": "code",
   "execution_count": 74,
   "id": "051ff1c7-254c-49dc-986b-4fdac00be7d2",
   "metadata": {},
   "outputs": [
    {
     "name": "stdout",
     "output_type": "stream",
     "text": [
      "Training on device: cuda:0\n",
      "\n",
      "Starting Training for 15 epochs...\n",
      "[1,   100] loss: 1.807\n",
      "[1,   200] loss: 1.474\n",
      "[1,   300] loss: 1.354\n",
      "[2,   100] loss: 1.191\n",
      "[2,   200] loss: 1.167\n",
      "[2,   300] loss: 1.116\n",
      "[3,   100] loss: 1.037\n",
      "[3,   200] loss: 0.998\n",
      "[3,   300] loss: 0.994\n",
      "[4,   100] loss: 0.934\n",
      "[4,   200] loss: 0.925\n",
      "[4,   300] loss: 0.924\n",
      "[5,   100] loss: 0.859\n",
      "[5,   200] loss: 0.874\n",
      "[5,   300] loss: 0.861\n",
      "[6,   100] loss: 0.771\n",
      "[6,   200] loss: 0.716\n",
      "[6,   300] loss: 0.749\n",
      "[7,   100] loss: 0.705\n",
      "[7,   200] loss: 0.705\n",
      "[7,   300] loss: 0.706\n",
      "[8,   100] loss: 0.700\n",
      "[8,   200] loss: 0.685\n",
      "[8,   300] loss: 0.697\n",
      "[9,   100] loss: 0.672\n",
      "[9,   200] loss: 0.687\n",
      "[9,   300] loss: 0.691\n",
      "[10,   100] loss: 0.666\n",
      "[10,   200] loss: 0.677\n",
      "[10,   300] loss: 0.658\n",
      "[11,   100] loss: 0.650\n",
      "[11,   200] loss: 0.652\n",
      "[11,   300] loss: 0.658\n",
      "[12,   100] loss: 0.645\n",
      "[12,   200] loss: 0.641\n",
      "[12,   300] loss: 0.652\n",
      "[13,   100] loss: 0.640\n",
      "[13,   200] loss: 0.651\n",
      "[13,   300] loss: 0.655\n",
      "[14,   100] loss: 0.643\n",
      "[14,   200] loss: 0.633\n",
      "[14,   300] loss: 0.652\n",
      "[15,   100] loss: 0.648\n",
      "[15,   200] loss: 0.633\n",
      "[15,   300] loss: 0.631\n",
      "Finished Training\n",
      "\n",
      "Starting Testing...\n"
     ]
    },
    {
     "data": {
      "image/png": "[encoded data removed]",
      "text/plain": [
       "<Figure size 640x480 with 1 Axes>"
      ]
     },
     "metadata": {},
     "output_type": "display_data"
    },
    {
     "name": "stdout",
     "output_type": "stream",
     "text": [
      "GroundTruth:  cat   ship  ship  plane frog  frog  car   frog  cat   car   plane truck dog   horse truck ship  dog   horse ship  frog  horse plane deer  truck dog   bird  deer  plane truck frog  frog  dog   deer  dog   truck bird  deer  car   truck dog   deer  frog  dog   frog  plane truck cat   truck horse frog  truck ship  plane cat   ship  ship  horse horse deer  frog  horse cat   frog  cat   frog  bird  car   bird  cat   horse bird  frog  ship  ship  plane bird  truck cat   cat   ship  ship  car   car   horse bird  dog   bird  horse ship  truck plane cat   ship  frog  deer  frog  frog  plane plane horse deer  dog   frog  cat   car   car   cat   frog  ship  horse deer  plane frog  bird  car   cat   plane deer  bird  horse ship  cat   car   bird  ship  plane ship  cat  \n",
      "Predicted:    cat   ship  ship  plane frog  frog  car   deer  cat   car   plane truck dog   horse truck ship  dog   horse ship  frog  horse plane deer  truck deer  deer  cat   plane truck frog  frog  dog   bird  cat   truck cat   deer  car   truck dog   deer  frog  dog   frog  plane truck cat   truck horse frog  truck ship  frog  frog  ship  ship  horse cat   dog   dog   horse dog   frog  car   frog  bird  car   bird  cat   plane bird  frog  ship  ship  plane bird  plane cat   dog   ship  ship  car   car   horse bird  dog   horse horse ship  truck plane frog  ship  frog  deer  frog  frog  plane plane horse deer  frog  frog  cat   car   car   cat   frog  ship  horse deer  plane bird  bird  truck cat   plane deer  frog  dog   ship  cat   car   bird  ship  plane ship  cat  \n",
      "\n",
      "Accuracy of the network on the 10000 test images: 77.09 %\n",
      "\n",
      "Per-Class Accuracy:\n",
      "Accuracy for class: plane is 78.3 %\n",
      "Accuracy for class: car   is 87.3 %\n",
      "Accuracy for class: bird  is 60.6 %\n",
      "Accuracy for class: cat   is 56.5 %\n",
      "Accuracy for class: deer  is 77.9 %\n",
      "Accuracy for class: dog   is 65.5 %\n",
      "Accuracy for class: frog  is 88.3 %\n",
      "Accuracy for class: horse is 79.2 %\n",
      "Accuracy for class: ship  is 89.6 %\n",
      "Accuracy for class: truck is 87.7 %\n"
     ]
    }
   ],
   "source": [
    "import torch\n",
    "import torchvision\n",
    "import torchvision.transforms as transforms\n",
    "import torch.nn as nn\n",
    "import torch.nn.functional as F\n",
    "import torch.optim as optim\n",
    "from torch.optim.lr_scheduler import StepLR\n",
    "import matplotlib.pyplot as plt\n",
    "import numpy as np\n",
    "\n",
    "# --- 1. Device and Performance Setup ---\n",
    "device = torch.device('cuda:0' if torch.cuda.is_available() else 'cpu')\n",
    "print(f\"Training on device: {device}\")\n",
    "if torch.cuda.is_available():\n",
    "    torch.backends.cudnn.benchmark = True\n",
    "\n",
    "# --- 2. Data Loading and Preprocessing ---\n",
    "transform = transforms.Compose(\n",
    "    [transforms.ToTensor(),\n",
    "     transforms.Normalize((0.5, 0.5, 0.5), (0.5, 0.5, 0.5))])\n",
    "\n",
    "batch_size = 128  # Increased batch size for faster training\n",
    "\n",
    "trainset = torchvision.datasets.CIFAR10(root='./data', train=True,\n",
    "                                        download=True, transform=transform)\n",
    "trainloader = torch.utils.data.DataLoader(trainset, batch_size=batch_size,\n",
    "                                          shuffle=True, num_workers=4)  # Increased workers\n",
    "testset = torchvision.datasets.CIFAR10(root='./data', train=False,\n",
    "                                       download=True, transform=transform)\n",
    "testloader = torch.utils.data.DataLoader(testset, batch_size=batch_size,\n",
    "                                         shuffle=False, num_workers=4)\n",
    "\n",
    "classes = ('plane', 'car', 'bird', 'cat',\n",
    "           'deer', 'dog', 'frog', 'horse', 'ship', 'truck')\n",
    "\n",
    "# --- 3. Improved Model Definition with Batch Norm and Dropout ---\n",
    "class Net(nn.Module):\n",
    "    def __init__(self):\n",
    "        super().__init__()\n",
    "        # Convolutional Block 1\n",
    "        self.conv1 = nn.Conv2d(3, 32, 3, padding=1)\n",
    "        self.bn1 = nn.BatchNorm2d(32)\n",
    "        self.pool = nn.MaxPool2d(2, 2)\n",
    "        self.dropout1 = nn.Dropout(0.25)\n",
    "\n",
    "        # Convolutional Block 2\n",
    "        self.conv2 = nn.Conv2d(32, 64, 3, padding=1)\n",
    "        self.bn2 = nn.BatchNorm2d(64)\n",
    "        self.conv3 = nn.Conv2d(64, 128, 3, padding=1)\n",
    "        self.bn3 = nn.BatchNorm2d(128)\n",
    "        self.dropout2 = nn.Dropout(0.25)\n",
    "\n",
    "        # Fully Connected Block\n",
    "        self.fc1 = nn.Linear(128 * 8 * 8, 512)\n",
    "        self.dropout3 = nn.Dropout(0.5)\n",
    "        self.fc2 = nn.Linear(512, 128)\n",
    "        self.fc3 = nn.Linear(128, 10)\n",
    "\n",
    "    def forward(self, x):\n",
    "        # Block 1\n",
    "        x = self.pool(F.relu(self.bn1(self.conv1(x))))\n",
    "        x = self.dropout1(x)\n",
    "\n",
    "        # Block 2\n",
    "        x = F.relu(self.bn2(self.conv2(x)))\n",
    "        x = self.pool(F.relu(self.bn3(self.conv3(x))))\n",
    "        x = self.dropout2(x)\n",
    "\n",
    "        x = torch.flatten(x, 1) # flatten all dimensions except batch\n",
    "        \n",
    "        # Fully Connected Layers\n",
    "        x = F.relu(self.fc1(x))\n",
    "        x = self.dropout3(x)\n",
    "        x = F.relu(self.fc2(x))\n",
    "        x = self.fc3(x)\n",
    "        return x\n",
    "\n",
    "def main():\n",
    "    # --- Training Phase ---\n",
    "    net = Net().to(device)\n",
    "    criterion = nn.CrossEntropyLoss()\n",
    "    optimizer = optim.Adam(net.parameters(), lr=0.001)  # Using Adam optimizer\n",
    "    scheduler = StepLR(optimizer, step_size=5, gamma=0.1)  # Learning rate scheduler\n",
    "\n",
    "    epochs = 15  # Increased epochs\n",
    "    print(f\"\\nStarting Training for {epochs} epochs...\")\n",
    "    for epoch in range(epochs):\n",
    "        running_loss = 0.0\n",
    "        net.train()\n",
    "        for i, data in enumerate(trainloader, 0):\n",
    "            inputs, labels = data[0].to(device), data[1].to(device)\n",
    "            optimizer.zero_grad()\n",
    "            outputs = net(inputs)\n",
    "            loss = criterion(outputs, labels)\n",
    "            loss.backward()\n",
    "            optimizer.step()\n",
    "            running_loss += loss.item()\n",
    "\n",
    "            if i % 100 == 99:  # Print every 100 mini-batches\n",
    "                print(f'[{epoch + 1}, {i + 1:5d}] loss: {running_loss / 100:.3f}')\n",
    "                running_loss = 0.0\n",
    "        scheduler.step()\n",
    "    print('Finished Training')\n",
    "\n",
    "    # Save the trained model's state dictionary\n",
    "    PATH = './cifar_net_optimized.pth'\n",
    "    torch.save(net.state_dict(), PATH)\n",
    "\n",
    "    # --- Testing Phase ---\n",
    "    print(\"\\nStarting Testing...\")\n",
    "    net.eval()\n",
    "    \n",
    "    def imshow(img):\n",
    "        img = img / 2 + 0.5\n",
    "        npimg = img.numpy()\n",
    "        plt.imshow(np.transpose(npimg, (1, 2, 0)))\n",
    "        plt.show()\n",
    "\n",
    "    dataiter = iter(testloader)\n",
    "    images, labels = next(dataiter)\n",
    "\n",
    "    imshow(torchvision.utils.make_grid(images))\n",
    "    print('GroundTruth: ', ' '.join(f'{classes[labels[j]]:5s}' for j in range(len(labels))))\n",
    "\n",
    "    with torch.no_grad():\n",
    "        outputs = net(images.to(device))\n",
    "        _, predicted = torch.max(outputs.data, 1)\n",
    "        print('Predicted:   ', ' '.join(f'{classes[predicted[j]]:5s}' for j in range(len(predicted))))\n",
    "\n",
    "    correct = 0\n",
    "    total = 0\n",
    "    with torch.no_grad():\n",
    "        for data in testloader:\n",
    "            images, labels = data[0].to(device), data[1].to(device)\n",
    "            outputs = net(images)\n",
    "            _, predicted = torch.max(outputs.data, 1)\n",
    "            total += labels.size(0)\n",
    "            correct += (predicted == labels).sum().item()\n",
    "    \n",
    "    print(f'\\nAccuracy of the network on the 10000 test images: {100 * correct / total:.2f} %')\n",
    "    \n",
    "    correct_pred = {classname: 0 for classname in classes}\n",
    "    total_pred = {classname: 0 for classname in classes}\n",
    "    \n",
    "    with torch.no_grad():\n",
    "        for data in testloader:\n",
    "            images, labels = data[0].to(device), data[1].to(device)\n",
    "            outputs = net(images)\n",
    "            _, predictions = torch.max(outputs, 1)\n",
    "            \n",
    "            for label, prediction in zip(labels, predictions):\n",
    "                if label == prediction:\n",
    "                    correct_pred[classes[label]] += 1\n",
    "                total_pred[classes[label]] += 1\n",
    "\n",
    "    print(\"\\nPer-Class Accuracy:\")\n",
    "    for classname, correct_count in correct_pred.items():\n",
    "        accuracy = 100 * float(correct_count) / total_pred[classname] if total_pred[classname] > 0 else 0\n",
    "        print(f'Accuracy for class: {classname:5s} is {accuracy:.1f} %')\n",
    "\n",
    "if __name__ == '__main__':\n",
    "    main()"
   ]
  },
  {
   "cell_type": "markdown",
   "id": "3bfba630-5ca8-49f8-a785-dab9ecf2858d",
   "metadata": {},
   "source": [
    "## Recurrent Neural Networks (RNNs) and Sequence Models\n",
    "\n",
    "### Recurrent Neural Networks (RNNs)\n",
    "**Recurrent Neural Networks (RNNs) are a class of neural networks designed to handle sequential data, such as text, time series, or audio. Unlike a standard feedforward network where inputs are independent, an RNN has a \"memory\" of previous inputs in the sequence.  It does this by passing the output of a hidden state from one time step to the next. This allows the network to learn patterns and dependencies across the sequence.**\n",
    "\n",
    "**A key limitation of traditional RNNs is the vanishing gradient problem. As the network processes long sequences, the gradients of the loss function with respect to earlier time steps can become extremely small, making it difficult for the network to learn long-range dependencies.**\n",
    "\n",
    "### Long Short-Term Memory (LSTM)\n",
    "**Long Short-Term Memory (LSTM) networks are a special type of RNN introduced to combat the vanishing gradient problem.  An LSTM cell contains three \"gates\":**\n",
    "\n",
    "* _Forget Gate_: Decides what information to discard from the cell state.\n",
    "\n",
    "* _Input Gate_: Decides what new information to store in the cell state.\n",
    "\n",
    "* _Output Gate_: Decides what information from the cell state to output.\n",
    "\n",
    "**These gates regulate the flow of information, allowing the network to selectively remember or forget information over long periods, making them highly effective for tasks like natural language processing.**\n",
    "\n",
    "### Gated Recurrent Units (GRU)\n",
    "**Gated Recurrent Units (GRUs) are a simplified version of LSTMs.  They combine the forget and input gates into a single update gate and also merge the hidden state and cell state. This makes them less computationally expensive to train than LSTMs while often achieving comparable performance on many tasks. GRUs are a popular choice when efficiency is a priority, or when the dataset is not large enough to justify the complexity of an LSTM.**\n",
    "\n",
    "#### Applications\n",
    "**Sequential models are used for a wide variety of tasks that involve sequences of data, including:**\n",
    "\n",
    "* Natural Language Processing (NLP): Text generation, machine translation, sentiment analysis, and speech recognition.\n",
    "  \n",
    "* Time Series Analysis: Stock market prediction, weather forecasting, and anomaly detection.\n",
    "\n",
    "* Bioinformatics: DNA sequence analysis.\n",
    "\n",
    "* Video Analysis: Action recognition in video frames."
   ]
  },
  {
   "cell_type": "code",
   "execution_count": 69,
   "id": "0476c157-44c4-4f53-af4b-2cf4131f1faf",
   "metadata": {},
   "outputs": [],
   "source": [
    "import torch\n",
    "import torch.nn as nn\n",
    "\n",
    "class SimpleRNN(nn.Module):\n",
    "    def __init__(self, input_size, hidden_size, output_size, num_layers=1):\n",
    "        super(SimpleRNN, self).__init__()\n",
    "        self.hidden_size = hidden_size\n",
    "        self.num_layers = num_layers\n",
    "\n",
    "        # Define the RNN layer\n",
    "        # batch_first=True means input/output tensors are (batch, seq, feature)\n",
    "        self.rnn = nn.RNN(input_size, hidden_size, num_layers, batch_first=True)\n",
    "\n",
    "        # Define a fully connected layer for output\n",
    "        self.fc = nn.Linear(hidden_size, output_size)\n",
    "\n",
    "    def forward(self, x):\n",
    "        # Initialize hidden state with zeros\n",
    "        # h0 shape: (num_layers * num_directions, batch_size, hidden_size)\n",
    "        h0 = torch.zeros(self.num_layers, x.size(0), self.hidden_size).to(x.device)\n",
    "\n",
    "        # Pass input through the RNN layer\n",
    "        # out: output features from the last layer of the RNN for each timestep\n",
    "        # hn: final hidden state for each layer\n",
    "        out, hn = self.rnn(x, h0)\n",
    "\n",
    "        # Pass the output of the last timestep through the fully connected layer\n",
    "        # out[:, -1, :] selects the output from the last timestep\n",
    "        out = self.fc(out[:, -1, :])\n",
    "        return out"
   ]
  },
  {
   "cell_type": "code",
   "execution_count": 70,
   "id": "bbade4b6-59f2-4af9-8ec5-07597e7c7784",
   "metadata": {},
   "outputs": [],
   "source": [
    "# Example: Input sequence of length 10, with 5 features per step\n",
    "# Batch size of 3\n",
    "input_size = 5\n",
    "sequence_length = 10\n",
    "batch_size = 3\n",
    "hidden_size = 64\n",
    "output_size = 1 # For a regression task, or number of classes for classification\n",
    "\n",
    "# Dummy input data: (batch_size, sequence_length, input_size)\n",
    "dummy_input = torch.randn(batch_size, sequence_length, input_size)"
   ]
  },
  {
   "cell_type": "code",
   "execution_count": 71,
   "id": "046fdaad-b32e-46b6-a73a-9bf87b290c6c",
   "metadata": {},
   "outputs": [
    {
     "name": "stdout",
     "output_type": "stream",
     "text": [
      "Input shape: torch.Size([3, 10, 5])\n",
      "Output shape: torch.Size([3, 1])\n"
     ]
    }
   ],
   "source": [
    "# Create an instance of the RNN model\n",
    "model = SimpleRNN(input_size, hidden_size, output_size)\n",
    "\n",
    "# Forward pass\n",
    "output = model(dummy_input)\n",
    "\n",
    "print(f\"Input shape: {dummy_input.shape}\")\n",
    "print(f\"Output shape: {output.shape}\")"
   ]
  },
  {
   "cell_type": "code",
   "execution_count": 72,
   "id": "3e1aca29-b082-440a-b978-12214e39620a",
   "metadata": {},
   "outputs": [
    {
     "name": "stdout",
     "output_type": "stream",
     "text": [
      "Epoch 40, Loss: 0.0164, Prediction: ello\n",
      "Epoch 80, Loss: 0.0044, Prediction: ello\n",
      "Epoch 120, Loss: 0.0028, Prediction: ello\n",
      "Epoch 160, Loss: 0.0020, Prediction: ello\n",
      "Epoch 200, Loss: 0.0015, Prediction: ello\n"
     ]
    }
   ],
   "source": [
    "import torch\n",
    "import torch.nn as nn\n",
    "import torch.optim as optim\n",
    "\n",
    "# ---- 1. Toy dataset ----\n",
    "# Vocabulary and mapping\n",
    "chars = \"helo\"\n",
    "char_to_idx = {ch: i for i, ch in enumerate(chars)}\n",
    "idx_to_char = {i: ch for i, ch in enumerate(chars)}\n",
    "\n",
    "# Example sequence: \"hello\"\n",
    "input_seq = \"hell\"\n",
    "target_seq = \"ello\"\n",
    "\n",
    "# Encode to indices\n",
    "input_idx = [char_to_idx[ch] for ch in input_seq]\n",
    "target_idx = [char_to_idx[ch] for ch in target_seq]\n",
    "\n",
    "# Convert to tensors\n",
    "input_tensor = torch.tensor(input_idx).unsqueeze(1)   # (seq_len, batch_size)\n",
    "target_tensor = torch.tensor(target_idx)              # (seq_len,)\n",
    "\n",
    "# ---- 2. Model ----\n",
    "class RNNModel(nn.Module):\n",
    "    def __init__(self, vocab_size, hidden_size, output_size):\n",
    "        super(RNNModel, self).__init__()\n",
    "        self.hidden_size = hidden_size\n",
    "        self.embed = nn.Embedding(vocab_size, hidden_size)\n",
    "        self.rnn = nn.RNN(hidden_size, hidden_size)\n",
    "        self.fc = nn.Linear(hidden_size, output_size)\n",
    "\n",
    "    def forward(self, x, hidden):\n",
    "        x = self.embed(x)\n",
    "        out, hidden = self.rnn(x, hidden)\n",
    "        out = self.fc(out)\n",
    "        return out, hidden\n",
    "\n",
    "    def init_hidden(self):\n",
    "        return torch.zeros(1, 1, self.hidden_size)\n",
    "\n",
    "# ---- 3. Training Setup ----\n",
    "vocab_size = len(chars)\n",
    "hidden_size = 16\n",
    "model = RNNModel(vocab_size, hidden_size, vocab_size)\n",
    "\n",
    "criterion = nn.CrossEntropyLoss()\n",
    "optimizer = optim.Adam(model.parameters(), lr=0.01)\n",
    "\n",
    "# ---- 4. Training Loop ----\n",
    "for epoch in range(200):\n",
    "    hidden = model.init_hidden()\n",
    "\n",
    "    optimizer.zero_grad()\n",
    "    output, hidden = model(input_tensor, hidden)\n",
    "\n",
    "    loss = criterion(output.squeeze(), target_tensor)\n",
    "    loss.backward()\n",
    "    optimizer.step()\n",
    "\n",
    "    if (epoch+1) % 40 == 0:\n",
    "        pred = torch.argmax(output.squeeze(), dim=1)\n",
    "        pred_str = \"\".join(idx_to_char[idx.item()] for idx in pred)\n",
    "        print(f\"Epoch {epoch+1}, Loss: {loss.item():.4f}, Prediction: {pred_str}\")"
   ]
  },
  {
   "cell_type": "markdown",
   "id": "f9f867a0-68f3-4194-aa27-fd4cc650c91f",
   "metadata": {},
   "source": [
    "## Advanced Architectures\n",
    "\n",
    "### Transformers\n",
    "**Transformers are a type of neural network architecture introduced primarily for sequence-to-sequence tasks, most notably in natural language processing (NLP).  Unlike RNNs and LSTMs that process data sequentially, a Transformer processes the entire input sequence at once. Its core innovation is the self-attention mechanism, which allows it to weigh the importance of different words in the input sequence when encoding a specific word. This means it can capture long-range dependencies more effectively and train more efficiently on parallel computing hardware.**\n",
    "\n",
    "### Generative Adversarial Networks (GANs)\n",
    "**Generative Adversarial Networks (GANs) are a class of generative models consisting of two competing neural networks: a Generator and a Discriminator.  The Generator's goal is to create new data that is indistinguishable from the real data (e.g., fake images). The Discriminator's job is to distinguish between real data and the fake data produced by the Generator. This adversarial process forces both networks to improve until the Generator can create highly realistic data, and the Discriminator can no longer reliably tell the difference.**\n",
    "\n",
    "### Variational Autoencoders (VAEs)\n",
    "**Variational Autoencoders (VAEs) are another type of generative model used to learn the underlying structure of a dataset.  A VAE consists of two parts: an Encoder and a Decoder. The Encoder maps the input data to a latent space (a compressed representation), which is not a single point but a distribution (like a Gaussian). The Decoder then samples from this distribution and reconstructs the original input. This probabilistic approach makes VAEs excellent for creating new, diverse samples that are similar to the training data.**\n",
    "\n",
    "### Transfer Learning\n",
    "**Transfer learning is a machine learning technique where a model trained for one task is reused as the starting point for a model on a second, related task.  Instead of training a model from scratch, you can take a pre-trained model (e.g., a large image classification model trained on a massive dataset like ImageNet) and adapt it for your specific task. This is particularly useful in computer vision when you have a small dataset, as it allows you to leverage the powerful features learned by the pre-trained model. In PyTorch, this is often done using pre-trained models from the `torchvision.models` library.**"
   ]
  },
  {
   "cell_type": "code",
   "execution_count": 73,
   "id": "e38ba18f-0754-4dc1-a27d-80dc5db0a365",
   "metadata": {},
   "outputs": [
    {
     "name": "stdout",
     "output_type": "stream",
     "text": [
      "Using device: cuda\n",
      "Starting fine-tuning...\n",
      "Epoch [1/5], Loss: 0.9013\n",
      "Epoch [2/5], Loss: 0.5797\n",
      "Epoch [3/5], Loss: 0.4466\n",
      "Epoch [4/5], Loss: 0.3547\n",
      "Epoch [5/5], Loss: 0.2818\n",
      "Training complete.\n",
      "Accuracy of the fine-tuned model on the 10000 test images: 79.50 %\n"
     ]
    }
   ],
   "source": [
    "import torch\n",
    "import torch.nn as nn\n",
    "import torch.optim as optim\n",
    "import torchvision\n",
    "import torchvision.transforms as transforms\n",
    "from torchvision.models import resnet18, ResNet18_Weights\n",
    "\n",
    "# Define hyperparameters\n",
    "batch_size = 128\n",
    "learning_rate = 0.001\n",
    "num_epochs = 5  # Set a low number of epochs for a quick demonstration\n",
    "\n",
    "# Device configuration\n",
    "device = torch.device('cuda' if torch.cuda.is_available() else 'cpu')\n",
    "print(f\"Using device: {device}\")\n",
    "\n",
    "# Data preparation and preprocessing\n",
    "# CIFAR-10 data is 32x32 pixels with 3 color channels\n",
    "# Standard normalization values for CIFAR-10\n",
    "transform = transforms.Compose([\n",
    "    transforms.ToTensor(),\n",
    "    transforms.Normalize(mean=[0.4914, 0.4822, 0.4465], std=[0.2023, 0.1994, 0.2010])\n",
    "])\n",
    "\n",
    "# Load CIFAR-10 training and test datasets\n",
    "train_dataset = torchvision.datasets.CIFAR10(root='./data', train=True, download=True, transform=transform)\n",
    "test_dataset = torchvision.datasets.CIFAR10(root='./data', train=False, download=True, transform=transform)\n",
    "\n",
    "# Create data loaders\n",
    "train_loader = torch.utils.data.DataLoader(train_dataset, batch_size=batch_size, shuffle=True)\n",
    "test_loader = torch.utils.data.DataLoader(test_dataset, batch_size=batch_size, shuffle=False)\n",
    "\n",
    "# Load a pre-trained ResNet-18 model\n",
    "# We use the official pre-trained weights from ImageNet\n",
    "model = resnet18(weights=ResNet18_Weights.IMAGENET1K_V1)\n",
    "\n",
    "# Fine-tuning: Replace the final fully connected layer\n",
    "# The original ResNet-18 classifies 1000 classes (from ImageNet)\n",
    "# We need to change the output layer to classify 10 classes (for CIFAR-10)\n",
    "num_ftrs = model.fc.in_features\n",
    "model.fc = nn.Linear(num_ftrs, 10)\n",
    "\n",
    "# Move the model to the specified device\n",
    "model = model.to(device)\n",
    "\n",
    "# Define loss function and optimizer\n",
    "criterion = nn.CrossEntropyLoss()\n",
    "# The optimizer will update all model parameters, but the pre-trained layers\n",
    "# will update very slowly due to the small learning rate.\n",
    "optimizer = optim.Adam(model.parameters(), lr=learning_rate)\n",
    "\n",
    "# Training loop\n",
    "print(\"Starting fine-tuning...\")\n",
    "for epoch in range(num_epochs):\n",
    "    model.train()  # Set the model to training mode\n",
    "    running_loss = 0.0\n",
    "    for i, (inputs, labels) in enumerate(train_loader):\n",
    "        inputs, labels = inputs.to(device), labels.to(device)\n",
    "        \n",
    "        optimizer.zero_grad()\n",
    "        \n",
    "        outputs = model(inputs)\n",
    "        loss = criterion(outputs, labels)\n",
    "        \n",
    "        loss.backward()\n",
    "        optimizer.step()\n",
    "        \n",
    "        running_loss += loss.item()\n",
    "    \n",
    "    print(f\"Epoch [{epoch+1}/{num_epochs}], Loss: {running_loss/len(train_loader):.4f}\")\n",
    "\n",
    "print(\"Training complete.\")\n",
    "\n",
    "# Evaluation on the test dataset\n",
    "model.eval()  # Set the model to evaluation mode\n",
    "correct = 0\n",
    "total = 0\n",
    "with torch.no_grad():\n",
    "    for inputs, labels in test_loader:\n",
    "        inputs, labels = inputs.to(device), labels.to(device)\n",
    "        outputs = model(inputs)\n",
    "        _, predicted = torch.max(outputs.data, 1)\n",
    "        total += labels.size(0)\n",
    "        correct += (predicted == labels).sum().item()\n",
    "\n",
    "accuracy = 100 * correct / total\n",
    "print(f\"Accuracy of the fine-tuned model on the 10000 test images: {accuracy:.2f} %\")\n"
   ]
  },
  {
   "cell_type": "markdown",
   "id": "63f5e202-5351-46b0-98d3-532ffa651eef",
   "metadata": {},
   "source": [
    "## Deployment and Optimization\n",
    "\n",
    "### Model Saving/Loading\n",
    "\n",
    "**Save model parameters with torch.save(model.state_dict(), path) and load with model.load_state_dict(torch.load(path)).\n",
    "Full model can be saved with torch.save(model, path) but state dict is preferred (more flexible, less error-prone).\n",
    "Example:**\n",
    "\n",
    "`torch.save(model.state_dict(), \"model.pth\")`\n",
    "\n",
    "`model.load_state_dict(torch.load(\"model.pth\"))`\n",
    "\n",
    "`model.eval()`\n",
    "\n",
    "\n",
    "### TorchScript\n",
    "\n",
    "**A way to serialize and optimize PyTorch models for production (runs without Python).\n",
    "Converts models to an intermediate representation (IR) using:\n",
    "Tracing (torch.jit.trace): records operations for sample inputs.\n",
    "Scripting (torch.jit.script): analyzes Python code directly.\n",
    "Enables deployment in C++ runtime and mobile environments.**\n",
    "\n",
    "### ONNX Export\n",
    "\n",
    "**ONNX (Open Neural Network Exchange) is a format for interoperability between ML frameworks (PyTorch, TensorFlow, etc.).\n",
    "Export with:**\n",
    "\n",
    "`torch.onnx.export(model, sample_input, \"model.onnx\")`\n",
    "\n",
    "**Useful for deployment in non-PyTorch environments (e.g., TensorRT, OpenVINO).**\n",
    "\n",
    "### Quantization\n",
    "\n",
    "**Technique to reduce model size and speed up inference by using lower precision (e.g., INT8 instead of FP32).\n",
    "Types:\n",
    "Post-training quantization: convert after training.\n",
    "Quantization-aware training (QAT): simulate quantization during training for better accuracy.\n",
    "PyTorch supports torch.quantization APIs.**\n",
    "\n",
    "### Pruning\n",
    "\n",
    "**Removing less important weights/connections to compress models.\n",
    "Reduces memory/computation with little accuracy drop.\n",
    "Methods: unstructured (individual weights) and structured (entire neurons/channels).**\n",
    "`PyTorch: torch.nn.utils.prune.`\n",
    "\n",
    "### Distributed Training\n",
    "\n",
    "**For scaling to multiple GPUs/machines.\n",
    "DataParallel (DP):\n",
    "Simple API (model = nn.DataParallel(model)), splits data across GPUs.\n",
    "Easy but slower (single process, overhead on the main GPU).**\n",
    "\n",
    "DistributedDataParallel (DDP):\n",
    "\n",
    "* Recommended for multi-GPU/multi-node training.\n",
    "* Each GPU runs a separate process, gradients synchronized efficiently via NCCL backend.\n",
    "Example:\n",
    "`torchrun --nproc_per_node=4 train.py`\n",
    "inside train.py → use DistributedDataParallel."
   ]
  },
  {
   "cell_type": "markdown",
   "id": "f2c2110e-bfd4-43ba-8a80-b51c7ad778b8",
   "metadata": {},
   "source": [
    "#### Model Saving/Loading"
   ]
  },
  {
   "cell_type": "code",
   "execution_count": 75,
   "id": "d760a2e5-336d-4ab3-ad41-6424075d65ac",
   "metadata": {},
   "outputs": [
    {
     "data": {
      "text/plain": [
       "Net()"
      ]
     },
     "execution_count": 75,
     "metadata": {},
     "output_type": "execute_result"
    }
   ],
   "source": [
    "import torch\n",
    "import torch.nn as nn\n",
    "\n",
    "# Simple model\n",
    "class Net(nn.Module):\n",
    "    def _init_(self):\n",
    "        super()._init_()\n",
    "        self.fc = nn.Linear(10, 2)\n",
    "\n",
    "    def forward(self, x):\n",
    "        return self.fc(x)\n",
    "\n",
    "model = Net()\n",
    "\n",
    "# Save weights\n",
    "torch.save(model.state_dict(), \"model.pth\")\n",
    "\n",
    "# Load weights\n",
    "loaded_model = Net()\n",
    "loaded_model.load_state_dict(torch.load(\"model.pth\"))\n",
    "loaded_model.eval()"
   ]
  },
  {
   "cell_type": "markdown",
   "id": "f1f22aa9-0606-4743-a716-25b8678ec0b8",
   "metadata": {},
   "source": [
    "#### TorchScript (Tracing & Scripting)"
   ]
  },
  {
   "cell_type": "code",
   "execution_count": 76,
   "id": "14261c6a-70eb-40e2-8791-929254034db1",
   "metadata": {},
   "outputs": [
    {
     "ename": "AttributeError",
     "evalue": "'Net' object has no attribute 'fc'",
     "output_type": "error",
     "traceback": [
      "\u001b[1;31m---------------------------------------------------------------------------\u001b[0m",
      "\u001b[1;31mAttributeError\u001b[0m                            Traceback (most recent call last)",
      "Cell \u001b[1;32mIn[76], line 5\u001b[0m\n\u001b[0;32m      3\u001b[0m \u001b[38;5;66;03m# Tracing (for simple models without control flow)\u001b[39;00m\n\u001b[0;32m      4\u001b[0m example_input \u001b[38;5;241m=\u001b[39m torch\u001b[38;5;241m.\u001b[39mrandn(\u001b[38;5;241m1\u001b[39m, \u001b[38;5;241m10\u001b[39m)\n\u001b[1;32m----> 5\u001b[0m traced \u001b[38;5;241m=\u001b[39m torch\u001b[38;5;241m.\u001b[39mjit\u001b[38;5;241m.\u001b[39mtrace(model, example_input)\n\u001b[0;32m      6\u001b[0m traced\u001b[38;5;241m.\u001b[39msave(\u001b[38;5;124m\"\u001b[39m\u001b[38;5;124mtraced_model.pt\u001b[39m\u001b[38;5;124m\"\u001b[39m)\n\u001b[0;32m      8\u001b[0m \u001b[38;5;66;03m# Scripting (for models with if/loops etc.)\u001b[39;00m\n",
      "File \u001b[1;32m~\\anaconda3\\Lib\\site-packages\\torch\\jit\\_trace.py:1002\u001b[0m, in \u001b[0;36mtrace\u001b[1;34m(func, example_inputs, optimize, check_trace, check_inputs, check_tolerance, strict, _force_outplace, _module_class, _compilation_unit, example_kwarg_inputs, _store_inputs)\u001b[0m\n\u001b[0;32m    989\u001b[0m     warnings\u001b[38;5;241m.\u001b[39mwarn(\n\u001b[0;32m    990\u001b[0m         \u001b[38;5;124m\"\u001b[39m\u001b[38;5;124m`optimize` is deprecated and has no effect. \u001b[39m\u001b[38;5;124m\"\u001b[39m\n\u001b[0;32m    991\u001b[0m         \u001b[38;5;124m\"\u001b[39m\u001b[38;5;124mUse `with torch.jit.optimized_execution()` instead\u001b[39m\u001b[38;5;124m\"\u001b[39m,\n\u001b[0;32m    992\u001b[0m         \u001b[38;5;167;01mFutureWarning\u001b[39;00m,\n\u001b[0;32m    993\u001b[0m         stacklevel\u001b[38;5;241m=\u001b[39m\u001b[38;5;241m2\u001b[39m,\n\u001b[0;32m    994\u001b[0m     )\n\u001b[0;32m    996\u001b[0m \u001b[38;5;28;01mfrom\u001b[39;00m\u001b[38;5;250m \u001b[39m\u001b[38;5;21;01mtorch\u001b[39;00m\u001b[38;5;21;01m.\u001b[39;00m\u001b[38;5;21;01m_utils_internal\u001b[39;00m\u001b[38;5;250m \u001b[39m\u001b[38;5;28;01mimport\u001b[39;00m (\n\u001b[0;32m    997\u001b[0m     check_if_torch_exportable,\n\u001b[0;32m    998\u001b[0m     log_torch_jit_trace_exportability,\n\u001b[0;32m    999\u001b[0m     log_torchscript_usage,\n\u001b[0;32m   1000\u001b[0m )\n\u001b[1;32m-> 1002\u001b[0m traced_func \u001b[38;5;241m=\u001b[39m _trace_impl(\n\u001b[0;32m   1003\u001b[0m     func,\n\u001b[0;32m   1004\u001b[0m     example_inputs,\n\u001b[0;32m   1005\u001b[0m     optimize,\n\u001b[0;32m   1006\u001b[0m     check_trace,\n\u001b[0;32m   1007\u001b[0m     check_inputs,\n\u001b[0;32m   1008\u001b[0m     check_tolerance,\n\u001b[0;32m   1009\u001b[0m     strict,\n\u001b[0;32m   1010\u001b[0m     _force_outplace,\n\u001b[0;32m   1011\u001b[0m     _module_class,\n\u001b[0;32m   1012\u001b[0m     _compilation_unit,\n\u001b[0;32m   1013\u001b[0m     example_kwarg_inputs,\n\u001b[0;32m   1014\u001b[0m     _store_inputs,\n\u001b[0;32m   1015\u001b[0m )\n\u001b[0;32m   1016\u001b[0m log_torchscript_usage(\u001b[38;5;124m\"\u001b[39m\u001b[38;5;124mtrace\u001b[39m\u001b[38;5;124m\"\u001b[39m, model_id\u001b[38;5;241m=\u001b[39m_get_model_id(traced_func))\n\u001b[0;32m   1018\u001b[0m \u001b[38;5;28;01mif\u001b[39;00m check_if_torch_exportable():\n",
      "File \u001b[1;32m~\\anaconda3\\Lib\\site-packages\\torch\\jit\\_trace.py:696\u001b[0m, in \u001b[0;36m_trace_impl\u001b[1;34m(func, example_inputs, optimize, check_trace, check_inputs, check_tolerance, strict, _force_outplace, _module_class, _compilation_unit, example_kwarg_inputs, _store_inputs)\u001b[0m\n\u001b[0;32m    694\u001b[0m         \u001b[38;5;28;01melse\u001b[39;00m:\n\u001b[0;32m    695\u001b[0m             \u001b[38;5;28;01mraise\u001b[39;00m \u001b[38;5;167;01mRuntimeError\u001b[39;00m(\u001b[38;5;124m\"\u001b[39m\u001b[38;5;124mexample_kwarg_inputs should be a dict\u001b[39m\u001b[38;5;124m\"\u001b[39m)\n\u001b[1;32m--> 696\u001b[0m     \u001b[38;5;28;01mreturn\u001b[39;00m trace_module(\n\u001b[0;32m    697\u001b[0m         func,\n\u001b[0;32m    698\u001b[0m         {\u001b[38;5;124m\"\u001b[39m\u001b[38;5;124mforward\u001b[39m\u001b[38;5;124m\"\u001b[39m: example_inputs},\n\u001b[0;32m    699\u001b[0m         \u001b[38;5;28;01mNone\u001b[39;00m,\n\u001b[0;32m    700\u001b[0m         check_trace,\n\u001b[0;32m    701\u001b[0m         wrap_check_inputs(check_inputs),\n\u001b[0;32m    702\u001b[0m         check_tolerance,\n\u001b[0;32m    703\u001b[0m         strict,\n\u001b[0;32m    704\u001b[0m         _force_outplace,\n\u001b[0;32m    705\u001b[0m         _module_class,\n\u001b[0;32m    706\u001b[0m         example_inputs_is_kwarg\u001b[38;5;241m=\u001b[39m\u001b[38;5;28misinstance\u001b[39m(example_kwarg_inputs, \u001b[38;5;28mdict\u001b[39m),\n\u001b[0;32m    707\u001b[0m         _store_inputs\u001b[38;5;241m=\u001b[39m_store_inputs,\n\u001b[0;32m    708\u001b[0m     )\n\u001b[0;32m    709\u001b[0m \u001b[38;5;28;01mif\u001b[39;00m (\n\u001b[0;32m    710\u001b[0m     \u001b[38;5;28mhasattr\u001b[39m(func, \u001b[38;5;124m\"\u001b[39m\u001b[38;5;124m__self__\u001b[39m\u001b[38;5;124m\"\u001b[39m)\n\u001b[0;32m    711\u001b[0m     \u001b[38;5;129;01mand\u001b[39;00m \u001b[38;5;28misinstance\u001b[39m(func\u001b[38;5;241m.\u001b[39m\u001b[38;5;18m__self__\u001b[39m, torch\u001b[38;5;241m.\u001b[39mnn\u001b[38;5;241m.\u001b[39mModule)\n\u001b[0;32m    712\u001b[0m     \u001b[38;5;129;01mand\u001b[39;00m func\u001b[38;5;241m.\u001b[39m\u001b[38;5;18m__name__\u001b[39m \u001b[38;5;241m==\u001b[39m \u001b[38;5;124m\"\u001b[39m\u001b[38;5;124mforward\u001b[39m\u001b[38;5;124m\"\u001b[39m\n\u001b[0;32m    713\u001b[0m ):\n\u001b[0;32m    714\u001b[0m     \u001b[38;5;28;01mif\u001b[39;00m example_inputs \u001b[38;5;129;01mis\u001b[39;00m \u001b[38;5;28;01mNone\u001b[39;00m:\n",
      "File \u001b[1;32m~\\anaconda3\\Lib\\site-packages\\torch\\jit\\_trace.py:1282\u001b[0m, in \u001b[0;36mtrace_module\u001b[1;34m(mod, inputs, optimize, check_trace, check_inputs, check_tolerance, strict, _force_outplace, _module_class, _compilation_unit, example_inputs_is_kwarg, _store_inputs)\u001b[0m\n\u001b[0;32m   1280\u001b[0m \u001b[38;5;28;01melse\u001b[39;00m:\n\u001b[0;32m   1281\u001b[0m     example_inputs \u001b[38;5;241m=\u001b[39m make_tuple(example_inputs)\n\u001b[1;32m-> 1282\u001b[0m     module\u001b[38;5;241m.\u001b[39m_c\u001b[38;5;241m.\u001b[39m_create_method_from_trace(\n\u001b[0;32m   1283\u001b[0m         method_name,\n\u001b[0;32m   1284\u001b[0m         func,\n\u001b[0;32m   1285\u001b[0m         example_inputs,\n\u001b[0;32m   1286\u001b[0m         var_lookup_fn,\n\u001b[0;32m   1287\u001b[0m         strict,\n\u001b[0;32m   1288\u001b[0m         _force_outplace,\n\u001b[0;32m   1289\u001b[0m         argument_names,\n\u001b[0;32m   1290\u001b[0m         _store_inputs,\n\u001b[0;32m   1291\u001b[0m     )\n\u001b[0;32m   1293\u001b[0m check_trace_method \u001b[38;5;241m=\u001b[39m module\u001b[38;5;241m.\u001b[39m_c\u001b[38;5;241m.\u001b[39m_get_method(method_name)\n\u001b[0;32m   1295\u001b[0m \u001b[38;5;66;03m# Check the trace against new traces created from user-specified inputs\u001b[39;00m\n",
      "File \u001b[1;32m~\\anaconda3\\Lib\\site-packages\\torch\\nn\\modules\\module.py:1773\u001b[0m, in \u001b[0;36mModule._wrapped_call_impl\u001b[1;34m(self, *args, **kwargs)\u001b[0m\n\u001b[0;32m   1771\u001b[0m     \u001b[38;5;28;01mreturn\u001b[39;00m \u001b[38;5;28mself\u001b[39m\u001b[38;5;241m.\u001b[39m_compiled_call_impl(\u001b[38;5;241m*\u001b[39margs, \u001b[38;5;241m*\u001b[39m\u001b[38;5;241m*\u001b[39mkwargs)  \u001b[38;5;66;03m# type: ignore[misc]\u001b[39;00m\n\u001b[0;32m   1772\u001b[0m \u001b[38;5;28;01melse\u001b[39;00m:\n\u001b[1;32m-> 1773\u001b[0m     \u001b[38;5;28;01mreturn\u001b[39;00m \u001b[38;5;28mself\u001b[39m\u001b[38;5;241m.\u001b[39m_call_impl(\u001b[38;5;241m*\u001b[39margs, \u001b[38;5;241m*\u001b[39m\u001b[38;5;241m*\u001b[39mkwargs)\n",
      "File \u001b[1;32m~\\anaconda3\\Lib\\site-packages\\torch\\nn\\modules\\module.py:1784\u001b[0m, in \u001b[0;36mModule._call_impl\u001b[1;34m(self, *args, **kwargs)\u001b[0m\n\u001b[0;32m   1779\u001b[0m \u001b[38;5;66;03m# If we don't have any hooks, we want to skip the rest of the logic in\u001b[39;00m\n\u001b[0;32m   1780\u001b[0m \u001b[38;5;66;03m# this function, and just call forward.\u001b[39;00m\n\u001b[0;32m   1781\u001b[0m \u001b[38;5;28;01mif\u001b[39;00m \u001b[38;5;129;01mnot\u001b[39;00m (\u001b[38;5;28mself\u001b[39m\u001b[38;5;241m.\u001b[39m_backward_hooks \u001b[38;5;129;01mor\u001b[39;00m \u001b[38;5;28mself\u001b[39m\u001b[38;5;241m.\u001b[39m_backward_pre_hooks \u001b[38;5;129;01mor\u001b[39;00m \u001b[38;5;28mself\u001b[39m\u001b[38;5;241m.\u001b[39m_forward_hooks \u001b[38;5;129;01mor\u001b[39;00m \u001b[38;5;28mself\u001b[39m\u001b[38;5;241m.\u001b[39m_forward_pre_hooks\n\u001b[0;32m   1782\u001b[0m         \u001b[38;5;129;01mor\u001b[39;00m _global_backward_pre_hooks \u001b[38;5;129;01mor\u001b[39;00m _global_backward_hooks\n\u001b[0;32m   1783\u001b[0m         \u001b[38;5;129;01mor\u001b[39;00m _global_forward_hooks \u001b[38;5;129;01mor\u001b[39;00m _global_forward_pre_hooks):\n\u001b[1;32m-> 1784\u001b[0m     \u001b[38;5;28;01mreturn\u001b[39;00m forward_call(\u001b[38;5;241m*\u001b[39margs, \u001b[38;5;241m*\u001b[39m\u001b[38;5;241m*\u001b[39mkwargs)\n\u001b[0;32m   1786\u001b[0m result \u001b[38;5;241m=\u001b[39m \u001b[38;5;28;01mNone\u001b[39;00m\n\u001b[0;32m   1787\u001b[0m called_always_called_hooks \u001b[38;5;241m=\u001b[39m \u001b[38;5;28mset\u001b[39m()\n",
      "File \u001b[1;32m~\\anaconda3\\Lib\\site-packages\\torch\\nn\\modules\\module.py:1763\u001b[0m, in \u001b[0;36mModule._slow_forward\u001b[1;34m(self, *input, **kwargs)\u001b[0m\n\u001b[0;32m   1761\u001b[0m         recording_scopes \u001b[38;5;241m=\u001b[39m \u001b[38;5;28;01mFalse\u001b[39;00m\n\u001b[0;32m   1762\u001b[0m \u001b[38;5;28;01mtry\u001b[39;00m:\n\u001b[1;32m-> 1763\u001b[0m     result \u001b[38;5;241m=\u001b[39m \u001b[38;5;28mself\u001b[39m\u001b[38;5;241m.\u001b[39mforward(\u001b[38;5;241m*\u001b[39m\u001b[38;5;28minput\u001b[39m, \u001b[38;5;241m*\u001b[39m\u001b[38;5;241m*\u001b[39mkwargs)\n\u001b[0;32m   1764\u001b[0m \u001b[38;5;28;01mfinally\u001b[39;00m:\n\u001b[0;32m   1765\u001b[0m     \u001b[38;5;28;01mif\u001b[39;00m recording_scopes:\n",
      "Cell \u001b[1;32mIn[75], line 11\u001b[0m, in \u001b[0;36mNet.forward\u001b[1;34m(self, x)\u001b[0m\n\u001b[0;32m     10\u001b[0m \u001b[38;5;28;01mdef\u001b[39;00m\u001b[38;5;250m \u001b[39m\u001b[38;5;21mforward\u001b[39m(\u001b[38;5;28mself\u001b[39m, x):\n\u001b[1;32m---> 11\u001b[0m     \u001b[38;5;28;01mreturn\u001b[39;00m \u001b[38;5;28mself\u001b[39m\u001b[38;5;241m.\u001b[39mfc(x)\n",
      "File \u001b[1;32m~\\anaconda3\\Lib\\site-packages\\torch\\nn\\modules\\module.py:1962\u001b[0m, in \u001b[0;36mModule.__getattr__\u001b[1;34m(self, name)\u001b[0m\n\u001b[0;32m   1960\u001b[0m     \u001b[38;5;28;01mif\u001b[39;00m name \u001b[38;5;129;01min\u001b[39;00m modules:\n\u001b[0;32m   1961\u001b[0m         \u001b[38;5;28;01mreturn\u001b[39;00m modules[name]\n\u001b[1;32m-> 1962\u001b[0m \u001b[38;5;28;01mraise\u001b[39;00m \u001b[38;5;167;01mAttributeError\u001b[39;00m(\n\u001b[0;32m   1963\u001b[0m     \u001b[38;5;124mf\u001b[39m\u001b[38;5;124m\"\u001b[39m\u001b[38;5;124m'\u001b[39m\u001b[38;5;132;01m{\u001b[39;00m\u001b[38;5;28mtype\u001b[39m(\u001b[38;5;28mself\u001b[39m)\u001b[38;5;241m.\u001b[39m\u001b[38;5;18m__name__\u001b[39m\u001b[38;5;132;01m}\u001b[39;00m\u001b[38;5;124m'\u001b[39m\u001b[38;5;124m object has no attribute \u001b[39m\u001b[38;5;124m'\u001b[39m\u001b[38;5;132;01m{\u001b[39;00mname\u001b[38;5;132;01m}\u001b[39;00m\u001b[38;5;124m'\u001b[39m\u001b[38;5;124m\"\u001b[39m\n\u001b[0;32m   1964\u001b[0m )\n",
      "\u001b[1;31mAttributeError\u001b[0m: 'Net' object has no attribute 'fc'"
     ]
    }
   ],
   "source": [
    "model = Net()\n",
    "\n",
    "# Tracing (for simple models without control flow)\n",
    "example_input = torch.randn(1, 10)\n",
    "traced = torch.jit.trace(model, example_input)\n",
    "traced.save(\"traced_model.pt\")\n",
    "\n",
    "# Scripting (for models with if/loops etc.)\n",
    "scripted = torch.jit.script(model)\n",
    "scripted.save(\"scripted_model.pt\")"
   ]
  },
  {
   "cell_type": "code",
   "execution_count": 77,
   "id": "77679ff8-1a4f-442e-af51-fa8d3fedf48f",
   "metadata": {},
   "outputs": [],
   "source": [
    "import torch\n",
    "import torch.nn as nn\n",
    "\n",
    "# Simple model\n",
    "class Net(nn.Module):\n",
    "    def __init__(self):\n",
    "        super().__init__()\n",
    "        self.fc = nn.Linear(10, 2)\n",
    "\n",
    "    def forward(self, x):\n",
    "        return self.fc(x)\n",
    "\n",
    "model = Net()\n",
    "\n",
    "# Save weights\n",
    "torch.save(model.state_dict(), \"model.pth\")\n",
    "\n",
    "# Load weights\n",
    "loaded_model = Net()\n",
    "loaded_model.load_state_dict(torch.load(\"model.pth\"))\n",
    "loaded_model.eval()\n",
    "\n",
    "# Tracing (for simple models without control flow)\n",
    "example_input = torch.randn(1, 10)\n",
    "traced = torch.jit.trace(model, example_input)\n",
    "traced.save(\"traced_model.pt\")\n",
    "\n",
    "# Scripting (for models with if/loops etc.)\n",
    "scripted = torch.jit.script(model)\n",
    "scripted.save(\"scripted_model.pt\")"
   ]
  },
  {
   "cell_type": "markdown",
   "id": "980af888-9947-4769-bd3a-a7a78d9f8f5c",
   "metadata": {},
   "source": [
    "#### ONNX Export"
   ]
  },
  {
   "cell_type": "code",
   "execution_count": 78,
   "id": "d11d2a0e-0056-421c-9d13-404c1adc6271",
   "metadata": {},
   "outputs": [],
   "source": [
    "#!pip install onnx"
   ]
  },
  {
   "cell_type": "code",
   "execution_count": 79,
   "id": "9d5e8633-89fa-419c-b27e-b8e7b72396bb",
   "metadata": {},
   "outputs": [
    {
     "name": "stderr",
     "output_type": "stream",
     "text": [
      "C:\\Users\\Acer\\AppData\\Local\\Temp\\ipykernel_5056\\1234782630.py:2: DeprecationWarning: You are using the legacy TorchScript-based ONNX export. Starting in PyTorch 2.9, the new torch.export-based ONNX exporter will be the default. To switch now, set dynamo=True in torch.onnx.export. This new exporter supports features like exporting LLMs with DynamicCache. We encourage you to try it and share feedback to help improve the experience. Learn more about the new export logic: https://pytorch.org/docs/stable/onnx_dynamo.html. For exporting control flow: https://pytorch.org/tutorials/beginner/onnx/export_control_flow_model_to_onnx_tutorial.html.\n",
      "  torch.onnx.export(\n"
     ]
    }
   ],
   "source": [
    "dummy_input = torch.randn(1, 10)\n",
    "torch.onnx.export(\n",
    "    model, \n",
    "    dummy_input, \n",
    "    \"model.onnx\", \n",
    "    input_names=[\"input\"], \n",
    "    output_names=[\"output\"], \n",
    "    opset_version=11\n",
    ")"
   ]
  },
  {
   "cell_type": "markdown",
   "id": "7cf6c5f4-71bd-4c08-b901-d6bb4365333a",
   "metadata": {},
   "source": [
    "#### Quantization"
   ]
  },
  {
   "cell_type": "code",
   "execution_count": 80,
   "id": "8c5a6ec9-f875-490f-9193-27719cb2ee2a",
   "metadata": {},
   "outputs": [
    {
     "name": "stdout",
     "output_type": "stream",
     "text": [
      "Original: torch.float32\n",
      "Quantized: torch.qint8\n"
     ]
    },
    {
     "name": "stderr",
     "output_type": "stream",
     "text": [
      "C:\\Users\\Acer\\AppData\\Local\\Temp\\ipykernel_5056\\1044005335.py:4: DeprecationWarning: torch.ao.quantization is deprecated and will be removed in 2.10. \n",
      "For migrations of users: \n",
      "1. Eager mode quantization (torch.ao.quantization.quantize, torch.ao.quantization.quantize_dynamic), please migrate to use torchao eager mode quantize_ API instead \n",
      "2. FX graph mode quantization (torch.ao.quantization.quantize_fx.prepare_fx,torch.ao.quantization.quantize_fx.convert_fx, please migrate to use torchao pt2e quantization API instead (prepare_pt2e, convert_pt2e) \n",
      "3. pt2e quantization has been migrated to torchao (https://github.com/pytorch/ao/tree/main/torchao/quantization/pt2e) \n",
      "see https://github.com/pytorch/ao/issues/2259 for more details\n",
      "  quantized_model = torch.quantization.quantize_dynamic(\n"
     ]
    }
   ],
   "source": [
    "import torch.quantization\n",
    "\n",
    "# Post-training dynamic quantization\n",
    "quantized_model = torch.quantization.quantize_dynamic(\n",
    "    model, {nn.Linear}, dtype=torch.qint8\n",
    ")\n",
    "\n",
    "print(\"Original:\", model.fc.weight.dtype)\n",
    "print(\"Quantized:\", quantized_model.fc.weight().dtype)"
   ]
  },
  {
   "cell_type": "markdown",
   "id": "d313d38b-2305-4315-9a73-d1b199912405",
   "metadata": {},
   "source": [
    "#### Pruning "
   ]
  },
  {
   "cell_type": "code",
   "execution_count": 81,
   "id": "ac2d5d72-63ce-4d4a-877c-fbf9e4249168",
   "metadata": {},
   "outputs": [
    {
     "name": "stdout",
     "output_type": "stream",
     "text": [
      "Before pruning: [2, 10]\n",
      "After pruning: tensor([[ 0.2305,  0.1363,  0.0000,  0.0000, -0.1178, -0.0991, -0.0000, -0.2858,\n",
      "         -0.0000, -0.2289],\n",
      "        [-0.1836, -0.2458,  0.2210, -0.2715, -0.0000,  0.0927, -0.0000, -0.3005,\n",
      "          0.1453,  0.1661]], grad_fn=<MulBackward0>)\n"
     ]
    }
   ],
   "source": [
    "import torch.nn.utils.prune as prune\n",
    "\n",
    "model = Net()\n",
    "print(\"Before pruning:\", list(model.fc.weight.shape))\n",
    "\n",
    "# Prune 30% of connections in fc layer\n",
    "prune.l1_unstructured(model.fc, name=\"weight\", amount=0.3)\n",
    "\n",
    "print(\"After pruning:\", model.fc.weight)"
   ]
  },
  {
   "cell_type": "markdown",
   "id": "22e54a34-7767-44b1-9ebd-e7965f96d103",
   "metadata": {},
   "source": [
    "#### Distributed Training"
   ]
  },
  {
   "cell_type": "code",
   "execution_count": 82,
   "id": "8010e27d-9c34-44ed-9ac9-c8cb944ceca4",
   "metadata": {},
   "outputs": [
    {
     "name": "stderr",
     "output_type": "stream",
     "text": [
      "W0903 18:28:55.293000 5056 site-packages\\torch\\multiprocessing\\spawn.py:169] Terminating process 7248 via signal SIGTERM\n"
     ]
    },
    {
     "ename": "ProcessExitedException",
     "evalue": "process 0 terminated with exit code 1",
     "output_type": "error",
     "traceback": [
      "\u001b[1;31m---------------------------------------------------------------------------\u001b[0m",
      "\u001b[1;31mProcessExitedException\u001b[0m                    Traceback (most recent call last)",
      "Cell \u001b[1;32mIn[82], line 49\u001b[0m\n\u001b[0;32m     46\u001b[0m     mp\u001b[38;5;241m.\u001b[39mspawn(train, args\u001b[38;5;241m=\u001b[39m(world_size,), nprocs\u001b[38;5;241m=\u001b[39mworld_size, join\u001b[38;5;241m=\u001b[39m\u001b[38;5;28;01mTrue\u001b[39;00m)\n\u001b[0;32m     48\u001b[0m \u001b[38;5;28;01mif\u001b[39;00m \u001b[38;5;18m__name__\u001b[39m \u001b[38;5;241m==\u001b[39m \u001b[38;5;124m\"\u001b[39m\u001b[38;5;124m__main__\u001b[39m\u001b[38;5;124m\"\u001b[39m:\n\u001b[1;32m---> 49\u001b[0m     run()\n",
      "Cell \u001b[1;32mIn[82], line 46\u001b[0m, in \u001b[0;36mrun\u001b[1;34m(world_size)\u001b[0m\n\u001b[0;32m     45\u001b[0m \u001b[38;5;28;01mdef\u001b[39;00m\u001b[38;5;250m \u001b[39m\u001b[38;5;21mrun\u001b[39m(world_size\u001b[38;5;241m=\u001b[39m\u001b[38;5;241m2\u001b[39m):\n\u001b[1;32m---> 46\u001b[0m     mp\u001b[38;5;241m.\u001b[39mspawn(train, args\u001b[38;5;241m=\u001b[39m(world_size,), nprocs\u001b[38;5;241m=\u001b[39mworld_size, join\u001b[38;5;241m=\u001b[39m\u001b[38;5;28;01mTrue\u001b[39;00m)\n",
      "File \u001b[1;32m~\\anaconda3\\Lib\\site-packages\\torch\\multiprocessing\\spawn.py:340\u001b[0m, in \u001b[0;36mspawn\u001b[1;34m(fn, args, nprocs, join, daemon, start_method)\u001b[0m\n\u001b[0;32m    334\u001b[0m     msg \u001b[38;5;241m=\u001b[39m (\n\u001b[0;32m    335\u001b[0m         \u001b[38;5;124mf\u001b[39m\u001b[38;5;124m\"\u001b[39m\u001b[38;5;124mThis method only supports start_method=spawn (got: \u001b[39m\u001b[38;5;132;01m{\u001b[39;00mstart_method\u001b[38;5;132;01m}\u001b[39;00m\u001b[38;5;124m).\u001b[39m\u001b[38;5;130;01m\\n\u001b[39;00m\u001b[38;5;124m\"\u001b[39m\n\u001b[0;32m    336\u001b[0m         \u001b[38;5;124m\"\u001b[39m\u001b[38;5;124mTo use a different start_method use:\u001b[39m\u001b[38;5;130;01m\\n\u001b[39;00m\u001b[38;5;130;01m\\t\u001b[39;00m\u001b[38;5;130;01m\\t\u001b[39;00m\u001b[38;5;124m\"\u001b[39m\n\u001b[0;32m    337\u001b[0m         \u001b[38;5;124m\"\u001b[39m\u001b[38;5;124m torch.multiprocessing.start_processes(...)\u001b[39m\u001b[38;5;124m\"\u001b[39m\n\u001b[0;32m    338\u001b[0m     )\n\u001b[0;32m    339\u001b[0m     warnings\u001b[38;5;241m.\u001b[39mwarn(msg, \u001b[38;5;167;01mFutureWarning\u001b[39;00m, stacklevel\u001b[38;5;241m=\u001b[39m\u001b[38;5;241m2\u001b[39m)\n\u001b[1;32m--> 340\u001b[0m \u001b[38;5;28;01mreturn\u001b[39;00m start_processes(fn, args, nprocs, join, daemon, start_method\u001b[38;5;241m=\u001b[39m\u001b[38;5;124m\"\u001b[39m\u001b[38;5;124mspawn\u001b[39m\u001b[38;5;124m\"\u001b[39m)\n",
      "File \u001b[1;32m~\\anaconda3\\Lib\\site-packages\\torch\\multiprocessing\\spawn.py:296\u001b[0m, in \u001b[0;36mstart_processes\u001b[1;34m(fn, args, nprocs, join, daemon, start_method)\u001b[0m\n\u001b[0;32m    293\u001b[0m     \u001b[38;5;28;01mreturn\u001b[39;00m context\n\u001b[0;32m    295\u001b[0m \u001b[38;5;66;03m# Loop on join until it returns True or raises an exception.\u001b[39;00m\n\u001b[1;32m--> 296\u001b[0m \u001b[38;5;28;01mwhile\u001b[39;00m \u001b[38;5;129;01mnot\u001b[39;00m context\u001b[38;5;241m.\u001b[39mjoin():\n\u001b[0;32m    297\u001b[0m     \u001b[38;5;28;01mpass\u001b[39;00m\n",
      "File \u001b[1;32m~\\anaconda3\\Lib\\site-packages\\torch\\multiprocessing\\spawn.py:204\u001b[0m, in \u001b[0;36mProcessContext.join\u001b[1;34m(self, timeout, grace_period)\u001b[0m\n\u001b[0;32m    196\u001b[0m         \u001b[38;5;28;01mraise\u001b[39;00m ProcessExitedException(\n\u001b[0;32m    197\u001b[0m             \u001b[38;5;124mf\u001b[39m\u001b[38;5;124m\"\u001b[39m\u001b[38;5;124mprocess \u001b[39m\u001b[38;5;132;01m{\u001b[39;00merror_index\u001b[38;5;132;01m:\u001b[39;00m\u001b[38;5;124md\u001b[39m\u001b[38;5;132;01m}\u001b[39;00m\u001b[38;5;124m terminated with signal \u001b[39m\u001b[38;5;132;01m{\u001b[39;00mname\u001b[38;5;132;01m}\u001b[39;00m\u001b[38;5;124m\"\u001b[39m,\n\u001b[0;32m    198\u001b[0m             error_index\u001b[38;5;241m=\u001b[39merror_index,\n\u001b[1;32m   (...)\u001b[0m\n\u001b[0;32m    201\u001b[0m             signal_name\u001b[38;5;241m=\u001b[39mname,\n\u001b[0;32m    202\u001b[0m         )\n\u001b[0;32m    203\u001b[0m     \u001b[38;5;28;01melse\u001b[39;00m:\n\u001b[1;32m--> 204\u001b[0m         \u001b[38;5;28;01mraise\u001b[39;00m ProcessExitedException(\n\u001b[0;32m    205\u001b[0m             \u001b[38;5;124mf\u001b[39m\u001b[38;5;124m\"\u001b[39m\u001b[38;5;124mprocess \u001b[39m\u001b[38;5;132;01m{\u001b[39;00merror_index\u001b[38;5;132;01m:\u001b[39;00m\u001b[38;5;124md\u001b[39m\u001b[38;5;132;01m}\u001b[39;00m\u001b[38;5;124m terminated with exit code \u001b[39m\u001b[38;5;132;01m{\u001b[39;00mexitcode\u001b[38;5;132;01m:\u001b[39;00m\u001b[38;5;124md\u001b[39m\u001b[38;5;132;01m}\u001b[39;00m\u001b[38;5;124m\"\u001b[39m,\n\u001b[0;32m    206\u001b[0m             error_index\u001b[38;5;241m=\u001b[39merror_index,\n\u001b[0;32m    207\u001b[0m             error_pid\u001b[38;5;241m=\u001b[39mfailed_process\u001b[38;5;241m.\u001b[39mpid,\n\u001b[0;32m    208\u001b[0m             exit_code\u001b[38;5;241m=\u001b[39mexitcode,\n\u001b[0;32m    209\u001b[0m         )\n\u001b[0;32m    211\u001b[0m \u001b[38;5;28;01mwith\u001b[39;00m \u001b[38;5;28mopen\u001b[39m(\u001b[38;5;28mself\u001b[39m\u001b[38;5;241m.\u001b[39merror_files[error_index], \u001b[38;5;124m\"\u001b[39m\u001b[38;5;124mrb\u001b[39m\u001b[38;5;124m\"\u001b[39m) \u001b[38;5;28;01mas\u001b[39;00m fh:\n\u001b[0;32m    212\u001b[0m     original_trace \u001b[38;5;241m=\u001b[39m pickle\u001b[38;5;241m.\u001b[39mload(fh)\n",
      "\u001b[1;31mProcessExitedException\u001b[0m: process 0 terminated with exit code 1"
     ]
    }
   ],
   "source": [
    "import os\n",
    "import torch\n",
    "import torch.nn as nn\n",
    "import torch.distributed as dist\n",
    "import torch.multiprocessing as mp\n",
    "from torch.nn.parallel import DistributedDataParallel as DDP\n",
    "\n",
    "# Simple model\n",
    "class Net(nn.Module):\n",
    "    def __init__(self):\n",
    "        super().__init__()\n",
    "        self.fc = nn.Linear(10, 2)\n",
    "\n",
    "    def forward(self, x):\n",
    "        return self.fc(x)\n",
    "\n",
    "def train(rank, world_size):\n",
    "    # Change backend to 'gloo' for CPU-based communication\n",
    "    dist.init_process_group(\"gloo\", rank=rank, world_size=world_size)\n",
    "\n",
    "    # Model - No need to move to a specific GPU\n",
    "    model = Net()\n",
    "    # DDP works on CPU with Gloo backend\n",
    "    ddp_model = DDP(model)\n",
    "\n",
    "    # Dummy training loop\n",
    "    loss_fn = torch.nn.MSELoss()\n",
    "    optimizer = torch.optim.SGD(ddp_model.parameters(), lr=0.01)\n",
    "\n",
    "    # Inputs and targets - keep on CPU\n",
    "    inputs = torch.randn(20, 10)\n",
    "    targets = torch.randn(20, 2)\n",
    "\n",
    "    for _ in range(5):\n",
    "        optimizer.zero_grad()\n",
    "        outputs = ddp_model(inputs)\n",
    "        loss = loss_fn(outputs, targets)\n",
    "        loss.backward()\n",
    "        optimizer.step()\n",
    "        if rank == 0:\n",
    "            print(f\"Loss: {loss.item()}\")\n",
    "\n",
    "    dist.destroy_process_group()\n",
    "\n",
    "def run(world_size=2):\n",
    "    mp.spawn(train, args=(world_size,), nprocs=world_size, join=True)\n",
    "\n",
    "if __name__ == \"__main__\":\n",
    "    run()"
   ]
  },
  {
   "cell_type": "markdown",
   "id": "aeb81469-81b5-42aa-bb08-aaa186278509",
   "metadata": {},
   "source": [
    "#### In one code"
   ]
  },
  {
   "cell_type": "raw",
   "id": "20909f67-5775-4de6-bbb6-a6ce27185143",
   "metadata": {},
   "source": [
    "--Bash\n",
    "python model_ops.py --mode save\n",
    "python model_ops.py --mode torchscript\n",
    "python model_ops.py --mode onnx\n",
    "python model_ops.py --mode quantize\n",
    "python model_ops.py --mode prune\n",
    "torchrun --nproc_per_node=2 model_ops.py --mode dist"
   ]
  },
  {
   "cell_type": "code",
   "execution_count": 87,
   "id": "86a4127d-efb2-4df0-9f9c-3f93040e3cc6",
   "metadata": {},
   "outputs": [
    {
     "name": "stdout",
     "output_type": "stream",
     "text": [
      "✅ Model saved: model.pth\n",
      "✅ Model loaded and ready for inference\n",
      "✅ Traced model saved: traced_model.pt\n",
      "✅ Scripted model saved: scripted_model.pt\n",
      "✅ Model exported to ONNX: model.onnx\n",
      "✅ Model quantized (dynamic INT8)\n",
      "Net(\n",
      "  (fc): DynamicQuantizedLinear(in_features=10, out_features=2, dtype=torch.qint8, qscheme=torch.per_tensor_affine)\n",
      ")\n",
      "Before pruning: [2, 10]\n",
      "✅ Model pruned (30% weights)\n",
      "tensor([[ 0.0000, -0.0857,  0.1268, -0.1396, -0.2049,  0.2586, -0.3135, -0.0000,\n",
      "         -0.2359,  0.2168],\n",
      "        [-0.1421,  0.0000,  0.2085,  0.0000, -0.1350, -0.1636, -0.0000, -0.0776,\n",
      "         -0.1204, -0.0000]], grad_fn=<MulBackward0>)\n"
     ]
    },
    {
     "name": "stderr",
     "output_type": "stream",
     "text": [
      "C:\\Users\\Acer\\AppData\\Local\\Temp\\ipykernel_5056\\4027881977.py:55: DeprecationWarning: You are using the legacy TorchScript-based ONNX export. Starting in PyTorch 2.9, the new torch.export-based ONNX exporter will be the default. To switch now, set dynamo=True in torch.onnx.export. This new exporter supports features like exporting LLMs with DynamicCache. We encourage you to try it and share feedback to help improve the experience. Learn more about the new export logic: https://pytorch.org/docs/stable/onnx_dynamo.html. For exporting control flow: https://pytorch.org/tutorials/beginner/onnx/export_control_flow_model_to_onnx_tutorial.html.\n",
      "  torch.onnx.export(\n",
      "C:\\Users\\Acer\\AppData\\Local\\Temp\\ipykernel_5056\\4027881977.py:70: DeprecationWarning: torch.ao.quantization is deprecated and will be removed in 2.10. \n",
      "For migrations of users: \n",
      "1. Eager mode quantization (torch.ao.quantization.quantize, torch.ao.quantization.quantize_dynamic), please migrate to use torchao eager mode quantize_ API instead \n",
      "2. FX graph mode quantization (torch.ao.quantization.quantize_fx.prepare_fx,torch.ao.quantization.quantize_fx.convert_fx, please migrate to use torchao pt2e quantization API instead (prepare_pt2e, convert_pt2e) \n",
      "3. pt2e quantization has been migrated to torchao (https://github.com/pytorch/ao/tree/main/torchao/quantization/pt2e) \n",
      "see https://github.com/pytorch/ao/issues/2259 for more details\n",
      "  quantized_model = torch.quantization.quantize_dynamic(\n",
      "W0903 18:32:14.297000 5056 site-packages\\torch\\multiprocessing\\spawn.py:169] Terminating process 13764 via signal SIGTERM\n"
     ]
    },
    {
     "ename": "ProcessExitedException",
     "evalue": "process 1 terminated with exit code 1",
     "output_type": "error",
     "traceback": [
      "\u001b[1;31m---------------------------------------------------------------------------\u001b[0m",
      "\u001b[1;31mProcessExitedException\u001b[0m                    Traceback (most recent call last)",
      "Cell \u001b[1;32mIn[87], line 147\u001b[0m\n\u001b[0;32m    145\u001b[0m \u001b[38;5;28;01mif\u001b[39;00m \u001b[38;5;129;01mnot\u001b[39;00m \u001b[38;5;28mhasattr\u001b[39m(torch, \u001b[38;5;124m'\u001b[39m\u001b[38;5;124mdist_executed\u001b[39m\u001b[38;5;124m'\u001b[39m):\n\u001b[0;32m    146\u001b[0m     torch\u001b[38;5;241m.\u001b[39mdist_executed \u001b[38;5;241m=\u001b[39m \u001b[38;5;28;01mTrue\u001b[39;00m\n\u001b[1;32m--> 147\u001b[0m     run_dist()\n\u001b[0;32m    148\u001b[0m \u001b[38;5;28;01melse\u001b[39;00m:\n\u001b[0;32m    149\u001b[0m     \u001b[38;5;28mprint\u001b[39m(\u001b[38;5;124m\"\u001b[39m\u001b[38;5;124mDistributed training has already been executed in this session. Please restart the kernel to run again.\u001b[39m\u001b[38;5;124m\"\u001b[39m)\n",
      "Cell \u001b[1;32mIn[87], line 118\u001b[0m, in \u001b[0;36mrun_dist\u001b[1;34m(world_size)\u001b[0m\n\u001b[0;32m    115\u001b[0m \u001b[38;5;28;01mdef\u001b[39;00m\u001b[38;5;250m \u001b[39m\u001b[38;5;21mrun_dist\u001b[39m(world_size\u001b[38;5;241m=\u001b[39m\u001b[38;5;241m2\u001b[39m):\n\u001b[0;32m    116\u001b[0m     \u001b[38;5;66;03m# A single Notebook cell can't use `torchrun`\u001b[39;00m\n\u001b[0;32m    117\u001b[0m     \u001b[38;5;66;03m# We use mp.spawn which handles multiprocessing\u001b[39;00m\n\u001b[1;32m--> 118\u001b[0m     mp\u001b[38;5;241m.\u001b[39mspawn(train, args\u001b[38;5;241m=\u001b[39m(world_size,), nprocs\u001b[38;5;241m=\u001b[39mworld_size, join\u001b[38;5;241m=\u001b[39m\u001b[38;5;28;01mTrue\u001b[39;00m)\n",
      "File \u001b[1;32m~\\anaconda3\\Lib\\site-packages\\torch\\multiprocessing\\spawn.py:340\u001b[0m, in \u001b[0;36mspawn\u001b[1;34m(fn, args, nprocs, join, daemon, start_method)\u001b[0m\n\u001b[0;32m    334\u001b[0m     msg \u001b[38;5;241m=\u001b[39m (\n\u001b[0;32m    335\u001b[0m         \u001b[38;5;124mf\u001b[39m\u001b[38;5;124m\"\u001b[39m\u001b[38;5;124mThis method only supports start_method=spawn (got: \u001b[39m\u001b[38;5;132;01m{\u001b[39;00mstart_method\u001b[38;5;132;01m}\u001b[39;00m\u001b[38;5;124m).\u001b[39m\u001b[38;5;130;01m\\n\u001b[39;00m\u001b[38;5;124m\"\u001b[39m\n\u001b[0;32m    336\u001b[0m         \u001b[38;5;124m\"\u001b[39m\u001b[38;5;124mTo use a different start_method use:\u001b[39m\u001b[38;5;130;01m\\n\u001b[39;00m\u001b[38;5;130;01m\\t\u001b[39;00m\u001b[38;5;130;01m\\t\u001b[39;00m\u001b[38;5;124m\"\u001b[39m\n\u001b[0;32m    337\u001b[0m         \u001b[38;5;124m\"\u001b[39m\u001b[38;5;124m torch.multiprocessing.start_processes(...)\u001b[39m\u001b[38;5;124m\"\u001b[39m\n\u001b[0;32m    338\u001b[0m     )\n\u001b[0;32m    339\u001b[0m     warnings\u001b[38;5;241m.\u001b[39mwarn(msg, \u001b[38;5;167;01mFutureWarning\u001b[39;00m, stacklevel\u001b[38;5;241m=\u001b[39m\u001b[38;5;241m2\u001b[39m)\n\u001b[1;32m--> 340\u001b[0m \u001b[38;5;28;01mreturn\u001b[39;00m start_processes(fn, args, nprocs, join, daemon, start_method\u001b[38;5;241m=\u001b[39m\u001b[38;5;124m\"\u001b[39m\u001b[38;5;124mspawn\u001b[39m\u001b[38;5;124m\"\u001b[39m)\n",
      "File \u001b[1;32m~\\anaconda3\\Lib\\site-packages\\torch\\multiprocessing\\spawn.py:296\u001b[0m, in \u001b[0;36mstart_processes\u001b[1;34m(fn, args, nprocs, join, daemon, start_method)\u001b[0m\n\u001b[0;32m    293\u001b[0m     \u001b[38;5;28;01mreturn\u001b[39;00m context\n\u001b[0;32m    295\u001b[0m \u001b[38;5;66;03m# Loop on join until it returns True or raises an exception.\u001b[39;00m\n\u001b[1;32m--> 296\u001b[0m \u001b[38;5;28;01mwhile\u001b[39;00m \u001b[38;5;129;01mnot\u001b[39;00m context\u001b[38;5;241m.\u001b[39mjoin():\n\u001b[0;32m    297\u001b[0m     \u001b[38;5;28;01mpass\u001b[39;00m\n",
      "File \u001b[1;32m~\\anaconda3\\Lib\\site-packages\\torch\\multiprocessing\\spawn.py:204\u001b[0m, in \u001b[0;36mProcessContext.join\u001b[1;34m(self, timeout, grace_period)\u001b[0m\n\u001b[0;32m    196\u001b[0m         \u001b[38;5;28;01mraise\u001b[39;00m ProcessExitedException(\n\u001b[0;32m    197\u001b[0m             \u001b[38;5;124mf\u001b[39m\u001b[38;5;124m\"\u001b[39m\u001b[38;5;124mprocess \u001b[39m\u001b[38;5;132;01m{\u001b[39;00merror_index\u001b[38;5;132;01m:\u001b[39;00m\u001b[38;5;124md\u001b[39m\u001b[38;5;132;01m}\u001b[39;00m\u001b[38;5;124m terminated with signal \u001b[39m\u001b[38;5;132;01m{\u001b[39;00mname\u001b[38;5;132;01m}\u001b[39;00m\u001b[38;5;124m\"\u001b[39m,\n\u001b[0;32m    198\u001b[0m             error_index\u001b[38;5;241m=\u001b[39merror_index,\n\u001b[1;32m   (...)\u001b[0m\n\u001b[0;32m    201\u001b[0m             signal_name\u001b[38;5;241m=\u001b[39mname,\n\u001b[0;32m    202\u001b[0m         )\n\u001b[0;32m    203\u001b[0m     \u001b[38;5;28;01melse\u001b[39;00m:\n\u001b[1;32m--> 204\u001b[0m         \u001b[38;5;28;01mraise\u001b[39;00m ProcessExitedException(\n\u001b[0;32m    205\u001b[0m             \u001b[38;5;124mf\u001b[39m\u001b[38;5;124m\"\u001b[39m\u001b[38;5;124mprocess \u001b[39m\u001b[38;5;132;01m{\u001b[39;00merror_index\u001b[38;5;132;01m:\u001b[39;00m\u001b[38;5;124md\u001b[39m\u001b[38;5;132;01m}\u001b[39;00m\u001b[38;5;124m terminated with exit code \u001b[39m\u001b[38;5;132;01m{\u001b[39;00mexitcode\u001b[38;5;132;01m:\u001b[39;00m\u001b[38;5;124md\u001b[39m\u001b[38;5;132;01m}\u001b[39;00m\u001b[38;5;124m\"\u001b[39m,\n\u001b[0;32m    206\u001b[0m             error_index\u001b[38;5;241m=\u001b[39merror_index,\n\u001b[0;32m    207\u001b[0m             error_pid\u001b[38;5;241m=\u001b[39mfailed_process\u001b[38;5;241m.\u001b[39mpid,\n\u001b[0;32m    208\u001b[0m             exit_code\u001b[38;5;241m=\u001b[39mexitcode,\n\u001b[0;32m    209\u001b[0m         )\n\u001b[0;32m    211\u001b[0m \u001b[38;5;28;01mwith\u001b[39;00m \u001b[38;5;28mopen\u001b[39m(\u001b[38;5;28mself\u001b[39m\u001b[38;5;241m.\u001b[39merror_files[error_index], \u001b[38;5;124m\"\u001b[39m\u001b[38;5;124mrb\u001b[39m\u001b[38;5;124m\"\u001b[39m) \u001b[38;5;28;01mas\u001b[39;00m fh:\n\u001b[0;32m    212\u001b[0m     original_trace \u001b[38;5;241m=\u001b[39m pickle\u001b[38;5;241m.\u001b[39mload(fh)\n",
      "\u001b[1;31mProcessExitedException\u001b[0m: process 1 terminated with exit code 1"
     ]
    }
   ],
   "source": [
    "import torch\n",
    "import torch.nn as nn\n",
    "import torch.nn.utils.prune as prune\n",
    "import torch.distributed as dist\n",
    "import torch.multiprocessing as mp\n",
    "import argparse\n",
    "import os\n",
    "\n",
    "# ----------------------\n",
    "# Simple example model\n",
    "# ----------------------\n",
    "class Net(nn.Module):\n",
    "    def __init__(self):\n",
    "        super().__init__()\n",
    "        self.fc = nn.Linear(10, 2)\n",
    "\n",
    "    def forward(self, x):\n",
    "        return self.fc(x)\n",
    "\n",
    "# ----------------------\n",
    "# 1. Save / Load\n",
    "# ----------------------\n",
    "def run_save_load():\n",
    "    model = Net()\n",
    "    torch.save(model.state_dict(), \"model.pth\")\n",
    "    print(\"✅ Model saved: model.pth\")\n",
    "\n",
    "    loaded_model = Net()\n",
    "    loaded_model.load_state_dict(torch.load(\"model.pth\"))\n",
    "    loaded_model.eval()\n",
    "    print(\"✅ Model loaded and ready for inference\")\n",
    "\n",
    "# ----------------------\n",
    "# 2. TorchScript\n",
    "# ----------------------\n",
    "def run_torchscript():\n",
    "    model = Net()\n",
    "    example_input = torch.randn(1, 10)\n",
    "\n",
    "    traced = torch.jit.trace(model, example_input)\n",
    "    traced.save(\"traced_model.pt\")\n",
    "    print(\"✅ Traced model saved: traced_model.pt\")\n",
    "\n",
    "    scripted = torch.jit.script(model)\n",
    "    scripted.save(\"scripted_model.pt\")\n",
    "    print(\"✅ Scripted model saved: scripted_model.pt\")\n",
    "\n",
    "# ----------------------\n",
    "# 3. ONNX Export\n",
    "# ----------------------\n",
    "def run_onnx():\n",
    "    # You must have the 'onnx' package installed: pip install onnx\n",
    "    model = Net()\n",
    "    dummy_input = torch.randn(1, 10)\n",
    "    torch.onnx.export(\n",
    "        model,\n",
    "        dummy_input,\n",
    "        \"model.onnx\",\n",
    "        input_names=[\"input\"],\n",
    "        output_names=[\"output\"],\n",
    "        opset_version=11\n",
    "    )\n",
    "    print(\"✅ Model exported to ONNX: model.onnx\")\n",
    "\n",
    "# ----------------------\n",
    "# 4. Quantization\n",
    "# ----------------------\n",
    "def run_quantize():\n",
    "    model = Net()\n",
    "    quantized_model = torch.quantization.quantize_dynamic(\n",
    "        model, {nn.Linear}, dtype=torch.qint8\n",
    "    )\n",
    "    print(\"✅ Model quantized (dynamic INT8)\")\n",
    "    print(quantized_model)\n",
    "\n",
    "# ----------------------\n",
    "# 5. Pruning\n",
    "# ----------------------\n",
    "def run_prune():\n",
    "    model = Net()\n",
    "    print(\"Before pruning:\", list(model.fc.weight.shape))\n",
    "\n",
    "    prune.l1_unstructured(model.fc, name=\"weight\", amount=0.3)\n",
    "    print(\"✅ Model pruned (30% weights)\")\n",
    "    print(model.fc.weight)\n",
    "\n",
    "# ----------------------\n",
    "# 6. Distributed Training\n",
    "# ----------------------\n",
    "def train(rank, world_size):\n",
    "    # Use Gloo backend for CPU or if CUDA is not available\n",
    "    dist.init_process_group(\"gloo\", rank=rank, world_size=world_size) \n",
    "\n",
    "    # No need to move to device if using Gloo on CPU\n",
    "    model = Net() \n",
    "    ddp_model = nn.parallel.DistributedDataParallel(model)\n",
    "\n",
    "    loss_fn = nn.MSELoss()\n",
    "    optimizer = torch.optim.SGD(ddp_model.parameters(), lr=0.01)\n",
    "\n",
    "    inputs = torch.randn(20, 10)\n",
    "    targets = torch.randn(20, 2)\n",
    "\n",
    "    for epoch in range(3):\n",
    "        optimizer.zero_grad()\n",
    "        outputs = ddp_model(inputs)\n",
    "        loss = loss_fn(outputs, targets)\n",
    "        loss.backward()\n",
    "        optimizer.step()\n",
    "        if rank == 0:\n",
    "            print(f\"Epoch {epoch+1}, Loss: {loss.item():.4f}\")\n",
    "\n",
    "    dist.destroy_process_group()\n",
    "\n",
    "def run_dist(world_size=2):\n",
    "    # A single Notebook cell can't use `torchrun`\n",
    "    # We use mp.spawn which handles multiprocessing\n",
    "    mp.spawn(train, args=(world_size,), nprocs=world_size, join=True)\n",
    "\n",
    "# ----------------------\n",
    "# Main entry point for Jupyter\n",
    "# ----------------------\n",
    "if __name__ == \"__main__\":\n",
    "    # To run a specific function, uncomment the line below.\n",
    "    # You can only run one at a time.\n",
    "\n",
    "    # 1. To run Save/Load\n",
    "    run_save_load()\n",
    "    \n",
    "    # 2. To run TorchScript\n",
    "    run_torchscript()\n",
    "    \n",
    "    # 3. To run ONNX Export\n",
    "    run_onnx()\n",
    "    \n",
    "    # 4. To run Quantization\n",
    "    run_quantize()\n",
    "    \n",
    "    # 5. To run Pruning\n",
    "    run_prune()\n",
    "\n",
    "    # 6. To run Distributed Training\n",
    "    run_dist()"
   ]
  },
  {
   "cell_type": "code",
   "execution_count": null,
   "id": "1a5b7ee7-3b10-4cd0-8f32-4643a9d54ffd",
   "metadata": {},
   "outputs": [],
   "source": []
  }
 ],
 "metadata": {
  "kernelspec": {
   "display_name": "Python [conda env:base] *",
   "language": "python",
   "name": "conda-base-py"
  },
  "language_info": {
   "codemirror_mode": {
    "name": "ipython",
    "version": 3
   },
   "file_extension": ".py",
   "mimetype": "text/x-python",
   "name": "python",
   "nbconvert_exporter": "python",
   "pygments_lexer": "ipython3",
   "version": "3.13.5"
  }
 },
 "nbformat": 4,
 "nbformat_minor": 5
}
